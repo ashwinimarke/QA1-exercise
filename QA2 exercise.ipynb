{
 "cells": [
  {
   "cell_type": "markdown",
   "id": "7d71f83c",
   "metadata": {},
   "source": [
    "## 1 which expression evalute 4"
   ]
  },
  {
   "cell_type": "code",
   "execution_count": 1,
   "id": "402506a9",
   "metadata": {},
   "outputs": [
    {
     "data": {
      "text/plain": [
       "1"
      ]
     },
     "execution_count": 1,
     "metadata": {},
     "output_type": "execute_result"
    }
   ],
   "source": [
    "7-2*3"
   ]
  },
  {
   "cell_type": "code",
   "execution_count": 2,
   "id": "3b2968eb",
   "metadata": {},
   "outputs": [
    {
     "data": {
      "text/plain": [
       "0"
      ]
     },
     "execution_count": 2,
     "metadata": {},
     "output_type": "execute_result"
    }
   ],
   "source": [
    "7//2-3"
   ]
  },
  {
   "cell_type": "code",
   "execution_count": 3,
   "id": "bfef8062",
   "metadata": {},
   "outputs": [
    {
     "data": {
      "text/plain": [
       "10.5"
      ]
     },
     "execution_count": 3,
     "metadata": {},
     "output_type": "execute_result"
    }
   ],
   "source": [
    "7/2*3"
   ]
  },
  {
   "cell_type": "code",
   "execution_count": 4,
   "id": "00d6e083",
   "metadata": {},
   "outputs": [
    {
     "data": {
      "text/plain": [
       "4"
      ]
     },
     "execution_count": 4,
     "metadata": {},
     "output_type": "execute_result"
    }
   ],
   "source": [
    "7%2+3   ## this give answer"
   ]
  },
  {
   "cell_type": "markdown",
   "id": "df3b6500",
   "metadata": {},
   "source": [
    "## 2 command ivocation generate output"
   ]
  },
  {
   "cell_type": "code",
   "execution_count": 5,
   "id": "30535c76",
   "metadata": {},
   "outputs": [],
   "source": [
    "from sys import argv"
   ]
  },
  {
   "cell_type": "code",
   "execution_count": 12,
   "id": "ce2484b8",
   "metadata": {},
   "outputs": [
    {
     "ename": "ValueError",
     "evalue": "could not convert string to float: 'C:\\\\Users\\\\admin\\\\AppData\\\\Roaming\\\\jupyter\\\\runtime\\\\kernel-ce44bf9e-1ee3-4c2f-812a-765c40f1b00f.json'",
     "output_type": "error",
     "traceback": [
      "\u001b[1;31m---------------------------------------------------------------------------\u001b[0m",
      "\u001b[1;31mValueError\u001b[0m                                Traceback (most recent call last)",
      "Cell \u001b[1;32mIn[12], line 3\u001b[0m\n\u001b[0;32m      1\u001b[0m \u001b[38;5;28msum\u001b[39m\u001b[38;5;241m=\u001b[39m\u001b[38;5;241m0\u001b[39m\n\u001b[0;32m      2\u001b[0m \u001b[38;5;28;01mfor\u001b[39;00m i \u001b[38;5;129;01min\u001b[39;00m \u001b[38;5;28mrange\u001b[39m(\u001b[38;5;241m2\u001b[39m,\u001b[38;5;28mlen\u001b[39m(argv)):\n\u001b[1;32m----> 3\u001b[0m     num \u001b[38;5;241m=\u001b[39m \u001b[38;5;28mfloat\u001b[39m(argv[i])\n\u001b[0;32m      4\u001b[0m     \u001b[38;5;28msum\u001b[39m \u001b[38;5;241m+\u001b[39m\u001b[38;5;241m=\u001b[39m num\n\u001b[0;32m      5\u001b[0m     avarage\u001b[38;5;241m=\u001b[39m\u001b[38;5;28msum\u001b[39m\u001b[38;5;241m/\u001b[39m(\u001b[38;5;28mlen\u001b[39m(argv)\u001b[38;5;241m-\u001b[39m\u001b[38;5;241m2\u001b[39m)\n",
      "\u001b[1;31mValueError\u001b[0m: could not convert string to float: 'C:\\\\Users\\\\admin\\\\AppData\\\\Roaming\\\\jupyter\\\\runtime\\\\kernel-ce44bf9e-1ee3-4c2f-812a-765c40f1b00f.json'"
     ]
    }
   ],
   "source": [
    "sum=0\n",
    "for i in range(2,len(argv)):\n",
    "    num = float(argv[i])\n",
    "    sum += num\n",
    "    avarage=sum/(len(argv)-2)\n",
    "    print(\"The Avarage for {0} is {1:.2f}\".format((argv[1]),avarge))"
   ]
  },
  {
   "cell_type": "markdown",
   "id": "e30e077e",
   "metadata": {},
   "source": [
    "## 2"
   ]
  },
  {
   "cell_type": "code",
   "execution_count": 15,
   "id": "39055d02",
   "metadata": {},
   "outputs": [
    {
     "ename": "ValueError",
     "evalue": "could not convert string to float: 'C:\\\\Users\\\\admin\\\\AppData\\\\Roaming\\\\jupyter\\\\runtime\\\\kernel-ce44bf9e-1ee3-4c2f-812a-765c40f1b00f.json'",
     "output_type": "error",
     "traceback": [
      "\u001b[1;31m---------------------------------------------------------------------------\u001b[0m",
      "\u001b[1;31mValueError\u001b[0m                                Traceback (most recent call last)",
      "Cell \u001b[1;32mIn[15], line 4\u001b[0m\n\u001b[0;32m      2\u001b[0m \u001b[38;5;28msum\u001b[39m\u001b[38;5;241m=\u001b[39m\u001b[38;5;241m0\u001b[39m\n\u001b[0;32m      3\u001b[0m \u001b[38;5;28;01mfor\u001b[39;00m i \u001b[38;5;129;01min\u001b[39;00m \u001b[38;5;28mrange\u001b[39m(\u001b[38;5;241m2\u001b[39m,\u001b[38;5;28mlen\u001b[39m(argv)):\n\u001b[1;32m----> 4\u001b[0m     \u001b[38;5;28msum\u001b[39m \u001b[38;5;241m+\u001b[39m\u001b[38;5;241m=\u001b[39m \u001b[38;5;28mfloat\u001b[39m(argv[i])\n\u001b[0;32m      5\u001b[0m     \u001b[38;5;28mprint\u001b[39m(\u001b[38;5;124m\"\u001b[39m\u001b[38;5;124mThe Avarage for \u001b[39m\u001b[38;5;132;01m{parth}\u001b[39;00m\u001b[38;5;124m is \u001b[39m\u001b[38;5;132;01m{1:.2f}\u001b[39;00m\u001b[38;5;124m\"\u001b[39m\u001b[38;5;241m.\u001b[39mformat((argv[\u001b[38;5;241m1\u001b[39m]),avarge))\n",
      "\u001b[1;31mValueError\u001b[0m: could not convert string to float: 'C:\\\\Users\\\\admin\\\\AppData\\\\Roaming\\\\jupyter\\\\runtime\\\\kernel-ce44bf9e-1ee3-4c2f-812a-765c40f1b00f.json'"
     ]
    }
   ],
   "source": [
    "from sys import argv\n",
    "sum=0\n",
    "for i in range(2,len(argv)):\n",
    "    sum += float(argv[i])\n",
    "    print(\"The Avarage for {parth} is {1:.2f}\".format((argv[1]),avarge))\n"
   ]
  },
  {
   "cell_type": "markdown",
   "id": "2730bed6",
   "metadata": {},
   "source": [
    "## 3 how to get x value become 16"
   ]
  },
  {
   "cell_type": "code",
   "execution_count": 16,
   "id": "605adcfe",
   "metadata": {},
   "outputs": [],
   "source": [
    "x=3\n",
    "x+=1"
   ]
  },
  {
   "cell_type": "code",
   "execution_count": 17,
   "id": "28d29f91",
   "metadata": {},
   "outputs": [
    {
     "data": {
      "text/plain": [
       "16"
      ]
     },
     "execution_count": 17,
     "metadata": {},
     "output_type": "execute_result"
    }
   ],
   "source": [
    "x**2"
   ]
  },
  {
   "cell_type": "code",
   "execution_count": 18,
   "id": "7b654ca5",
   "metadata": {},
   "outputs": [],
   "source": [
    "x*=2"
   ]
  },
  {
   "cell_type": "code",
   "execution_count": 19,
   "id": "01fa085b",
   "metadata": {},
   "outputs": [],
   "source": [
    "x+=2"
   ]
  },
  {
   "cell_type": "code",
   "execution_count": 20,
   "id": "09107e87",
   "metadata": {},
   "outputs": [],
   "source": [
    "x-=2"
   ]
  },
  {
   "cell_type": "code",
   "execution_count": 24,
   "id": "dbe7c900",
   "metadata": {},
   "outputs": [
    {
     "name": "stdout",
     "output_type": "stream",
     "text": [
      "After x ** 2: 16\n",
      "After x *= 2: 32\n",
      "After x += 2: 34\n",
      "After x -= 2: 32\n"
     ]
    }
   ],
   "source": [
    "# Initial value of x\n",
    "x = 3\n",
    "x += 1\n",
    "\n",
    "# Perform x ** 2\n",
    "x**=2\n",
    "print(\"After x ** 2:\", x)\n",
    "# Perform x *= 2\n",
    "x *= 2\n",
    "print(\"After x *= 2:\", x)\n",
    "\n",
    "# Perform x += 2\n",
    "x += 2\n",
    "print(\"After x += 2:\", x)\n",
    "\n",
    "# Perform x -= 2\n",
    "x -= 2\n",
    "print(\"After x -= 2:\", x)"
   ]
  },
  {
   "cell_type": "markdown",
   "id": "c82ab5ba",
   "metadata": {},
   "source": [
    "## 4 if we enter 10 and 10.0 individually for every run what is the output"
   ]
  },
  {
   "cell_type": "code",
   "execution_count": 26,
   "id": "b4de1300",
   "metadata": {},
   "outputs": [
    {
     "name": "stdout",
     "output_type": "stream",
     "text": [
      "Enter some value:10\n",
      "<class 'str'>\n"
     ]
    }
   ],
   "source": [
    "print(type(input('Enter some value:')))"
   ]
  },
  {
   "cell_type": "code",
   "execution_count": 27,
   "id": "ecda240b",
   "metadata": {},
   "outputs": [
    {
     "name": "stdout",
     "output_type": "stream",
     "text": [
      "Enter some value:10.0\n",
      "<class 'str'>\n"
     ]
    }
   ],
   "source": [
    "print(type(input('Enter some value:')))  ###inpute funcion always retun string type only"
   ]
  },
  {
   "cell_type": "markdown",
   "id": "aa4a5e90",
   "metadata": {},
   "source": [
    "## 5 what is the output"
   ]
  },
  {
   "cell_type": "code",
   "execution_count": 28,
   "id": "b66d510f",
   "metadata": {},
   "outputs": [
    {
     "name": "stderr",
     "output_type": "stream",
     "text": [
      "IOPub data rate exceeded.\n",
      "The notebook server will temporarily stop sending output\n",
      "to the client in order to avoid crashing it.\n",
      "To change this limit, set the config variable\n",
      "`--NotebookApp.iopub_data_rate_limit`.\n",
      "\n",
      "Current values:\n",
      "NotebookApp.iopub_data_rate_limit=1000000.0 (bytes/sec)\n",
      "NotebookApp.rate_limit_window=3.0 (secs)\n",
      "\n"
     ]
    },
    {
     "ename": "KeyboardInterrupt",
     "evalue": "",
     "output_type": "error",
     "traceback": [
      "\u001b[1;31m---------------------------------------------------------------------------\u001b[0m",
      "\u001b[1;31mKeyboardInterrupt\u001b[0m                         Traceback (most recent call last)",
      "Cell \u001b[1;32mIn[28], line 4\u001b[0m\n\u001b[0;32m      2\u001b[0m \u001b[38;5;28;01mfor\u001b[39;00m i \u001b[38;5;129;01min\u001b[39;00m a:\n\u001b[0;32m      3\u001b[0m     a\u001b[38;5;241m.\u001b[39mappend(i\u001b[38;5;241m.\u001b[39mupper())\n\u001b[1;32m----> 4\u001b[0m     \u001b[38;5;28mprint\u001b[39m(a)\n",
      "File \u001b[1;32m~\\anaconda3\\Lib\\site-packages\\ipykernel\\iostream.py:635\u001b[0m, in \u001b[0;36mOutStream.write\u001b[1;34m(self, string)\u001b[0m\n\u001b[0;32m    633\u001b[0m     \u001b[38;5;28;01mraise\u001b[39;00m \u001b[38;5;167;01mValueError\u001b[39;00m(msg)\n\u001b[0;32m    634\u001b[0m \u001b[38;5;28;01melse\u001b[39;00m:\n\u001b[1;32m--> 635\u001b[0m     is_child \u001b[38;5;241m=\u001b[39m \u001b[38;5;129;01mnot\u001b[39;00m \u001b[38;5;28mself\u001b[39m\u001b[38;5;241m.\u001b[39m_is_master_process()\n\u001b[0;32m    636\u001b[0m     \u001b[38;5;66;03m# only touch the buffer in the IO thread to avoid races\u001b[39;00m\n\u001b[0;32m    637\u001b[0m     \u001b[38;5;28;01mwith\u001b[39;00m \u001b[38;5;28mself\u001b[39m\u001b[38;5;241m.\u001b[39m_buffer_lock:\n",
      "File \u001b[1;32m~\\anaconda3\\Lib\\site-packages\\ipykernel\\iostream.py:505\u001b[0m, in \u001b[0;36mOutStream._is_master_process\u001b[1;34m(self)\u001b[0m\n\u001b[0;32m    502\u001b[0m     \u001b[38;5;28mself\u001b[39m\u001b[38;5;241m.\u001b[39mwatch_fd_thread\u001b[38;5;241m.\u001b[39mdaemon \u001b[38;5;241m=\u001b[39m \u001b[38;5;28;01mTrue\u001b[39;00m\n\u001b[0;32m    503\u001b[0m     \u001b[38;5;28mself\u001b[39m\u001b[38;5;241m.\u001b[39mwatch_fd_thread\u001b[38;5;241m.\u001b[39mstart()\n\u001b[1;32m--> 505\u001b[0m \u001b[38;5;28;01mdef\u001b[39;00m \u001b[38;5;21m_is_master_process\u001b[39m(\u001b[38;5;28mself\u001b[39m):\n\u001b[0;32m    506\u001b[0m     \u001b[38;5;28;01mreturn\u001b[39;00m os\u001b[38;5;241m.\u001b[39mgetpid() \u001b[38;5;241m==\u001b[39m \u001b[38;5;28mself\u001b[39m\u001b[38;5;241m.\u001b[39m_master_pid\n\u001b[0;32m    508\u001b[0m \u001b[38;5;28;01mdef\u001b[39;00m \u001b[38;5;21mset_parent\u001b[39m(\u001b[38;5;28mself\u001b[39m, parent):\n",
      "\u001b[1;31mKeyboardInterrupt\u001b[0m: "
     ]
    }
   ],
   "source": [
    "a=['a','b','c','d']\n",
    "for i in a:\n",
    "    a.append(i.upper())\n",
    "    print(a)"
   ]
  },
  {
   "cell_type": "code",
   "execution_count": 29,
   "id": "6f542866",
   "metadata": {},
   "outputs": [
    {
     "name": "stdout",
     "output_type": "stream",
     "text": [
      "['A', 'B', 'C', 'D']\n"
     ]
    }
   ],
   "source": [
    "a = ['a', 'b', 'c', 'd']\n",
    "new_list = []\n",
    "\n",
    "for i in a:\n",
    "    new_list.append(i.upper())        ##### this is the solution\n",
    "\n",
    "print(new_list)"
   ]
  },
  {
   "cell_type": "markdown",
   "id": "82aefb5a",
   "metadata": {},
   "source": [
    "### 6 which of the following are is the type string"
   ]
  },
  {
   "cell_type": "code",
   "execution_count": 30,
   "id": "fadc7eeb",
   "metadata": {},
   "outputs": [],
   "source": [
    "a='5'\n",
    "b='2'\n"
   ]
  },
  {
   "cell_type": "code",
   "execution_count": 32,
   "id": "4a98b43e",
   "metadata": {},
   "outputs": [
    {
     "ename": "TypeError",
     "evalue": "can't multiply sequence by non-int of type 'str'",
     "output_type": "error",
     "traceback": [
      "\u001b[1;31m---------------------------------------------------------------------------\u001b[0m",
      "\u001b[1;31mTypeError\u001b[0m                                 Traceback (most recent call last)",
      "Cell \u001b[1;32mIn[32], line 1\u001b[0m\n\u001b[1;32m----> 1\u001b[0m \u001b[38;5;28mtype\u001b[39m(a\u001b[38;5;241m*\u001b[39mb)\n",
      "\u001b[1;31mTypeError\u001b[0m: can't multiply sequence by non-int of type 'str'"
     ]
    }
   ],
   "source": [
    "type(a*b)"
   ]
  },
  {
   "cell_type": "code",
   "execution_count": 33,
   "id": "e12bedb5",
   "metadata": {},
   "outputs": [
    {
     "data": {
      "text/plain": [
       "str"
      ]
     },
     "execution_count": 33,
     "metadata": {},
     "output_type": "execute_result"
    }
   ],
   "source": [
    "type(a*2)"
   ]
  },
  {
   "cell_type": "code",
   "execution_count": 34,
   "id": "5a2bf51b",
   "metadata": {},
   "outputs": [
    {
     "data": {
      "text/plain": [
       "str"
      ]
     },
     "execution_count": 34,
     "metadata": {},
     "output_type": "execute_result"
    }
   ],
   "source": [
    "type(a+b)"
   ]
  },
  {
   "cell_type": "code",
   "execution_count": 35,
   "id": "4424ab48",
   "metadata": {},
   "outputs": [
    {
     "ename": "TypeError",
     "evalue": "unsupported operand type(s) for -: 'str' and 'str'",
     "output_type": "error",
     "traceback": [
      "\u001b[1;31m---------------------------------------------------------------------------\u001b[0m",
      "\u001b[1;31mTypeError\u001b[0m                                 Traceback (most recent call last)",
      "Cell \u001b[1;32mIn[35], line 1\u001b[0m\n\u001b[1;32m----> 1\u001b[0m \u001b[38;5;28mtype\u001b[39m(a\u001b[38;5;241m-\u001b[39mb)\n",
      "\u001b[1;31mTypeError\u001b[0m: unsupported operand type(s) for -: 'str' and 'str'"
     ]
    }
   ],
   "source": [
    "type(a-b)"
   ]
  },
  {
   "cell_type": "markdown",
   "id": "c6dec12c",
   "metadata": {},
   "source": [
    "## 7 if we enter 10 and 10.0 for every run what is the output"
   ]
  },
  {
   "cell_type": "code",
   "execution_count": 36,
   "id": "d7bb9bda",
   "metadata": {},
   "outputs": [
    {
     "name": "stdout",
     "output_type": "stream",
     "text": [
      "Enter some value:10\n",
      "<class 'int'>\n"
     ]
    }
   ],
   "source": [
    "print(type(eval(input('Enter some value:'))))"
   ]
  },
  {
   "cell_type": "code",
   "execution_count": 37,
   "id": "c8584fa8",
   "metadata": {},
   "outputs": [
    {
     "name": "stdout",
     "output_type": "stream",
     "text": [
      "Enter some value:10.0\n",
      "<class 'float'>\n"
     ]
    }
   ],
   "source": [
    "print(type(eval(input('Enter some value:'))))"
   ]
  },
  {
   "cell_type": "markdown",
   "id": "67058be3",
   "metadata": {},
   "source": [
    "## 8 which line assign the code to 9 output"
   ]
  },
  {
   "cell_type": "code",
   "execution_count": 38,
   "id": "f00d7918",
   "metadata": {},
   "outputs": [
    {
     "name": "stdout",
     "output_type": "stream",
     "text": [
      "3\n",
      "9\n",
      "12\n",
      "4\n"
     ]
    }
   ],
   "source": [
    "a=7\n",
    "b=3\n",
    "c=5\n",
    "d=1\n",
    "output1=a%c+1\n",
    "print(output1)\n",
    "\n",
    "output2=a+d*2\n",
    "print(output2)  ## it gives output 9\n",
    "\n",
    "output3=a+c//d\n",
    "print(output3)\n",
    "\n",
    "output4=c*d-1\n",
    "print(output4)"
   ]
  },
  {
   "cell_type": "markdown",
   "id": "4e8b9657",
   "metadata": {},
   "source": [
    "## 9"
   ]
  },
  {
   "cell_type": "code",
   "execution_count": 39,
   "id": "64062c86",
   "metadata": {},
   "outputs": [
    {
     "ename": "ImportError",
     "evalue": "cannot import name 'arvg' from 'sys' (unknown location)",
     "output_type": "error",
     "traceback": [
      "\u001b[1;31m---------------------------------------------------------------------------\u001b[0m",
      "\u001b[1;31mImportError\u001b[0m                               Traceback (most recent call last)",
      "Cell \u001b[1;32mIn[39], line 1\u001b[0m\n\u001b[1;32m----> 1\u001b[0m \u001b[38;5;28;01mfrom\u001b[39;00m \u001b[38;5;21;01msys\u001b[39;00m \u001b[38;5;28;01mimport\u001b[39;00m arvg\n\u001b[0;32m      2\u001b[0m \u001b[38;5;28mprint\u001b[39m(arvg[\u001b[38;5;241m0\u001b[39m])\n",
      "\u001b[1;31mImportError\u001b[0m: cannot import name 'arvg' from 'sys' (unknown location)"
     ]
    }
   ],
   "source": [
    "from sys import arvg\n",
    "print(arvg[0])"
   ]
  },
  {
   "cell_type": "code",
   "execution_count": 40,
   "id": "f0529e43",
   "metadata": {},
   "outputs": [
    {
     "name": "stdout",
     "output_type": "stream",
     "text": [
      "Hello, this is my script!\n"
     ]
    }
   ],
   "source": [
    "# myscript.py\n",
    "print(\"Hello, this is my script!\")"
   ]
  },
  {
   "cell_type": "code",
   "execution_count": 41,
   "id": "dafcd059",
   "metadata": {},
   "outputs": [
    {
     "data": {
      "text/plain": [
       "'C:\\\\Users\\\\admin'"
      ]
     },
     "execution_count": 41,
     "metadata": {},
     "output_type": "execute_result"
    }
   ],
   "source": [
    "pwd"
   ]
  },
  {
   "cell_type": "code",
   "execution_count": 43,
   "id": "28887945",
   "metadata": {},
   "outputs": [
    {
     "name": "stdout",
     "output_type": "stream",
     "text": [
      "C:\\Users\\admin\n"
     ]
    }
   ],
   "source": [
    "cd C:\\Users\\admin"
   ]
  },
  {
   "cell_type": "code",
   "execution_count": 51,
   "id": "3e05e64d",
   "metadata": {},
   "outputs": [
    {
     "ename": "SyntaxError",
     "evalue": "invalid syntax (2153973266.py, line 1)",
     "output_type": "error",
     "traceback": [
      "\u001b[1;36m  Cell \u001b[1;32mIn[51], line 1\u001b[1;36m\u001b[0m\n\u001b[1;33m    python3 myscript.py\u001b[0m\n\u001b[1;37m            ^\u001b[0m\n\u001b[1;31mSyntaxError\u001b[0m\u001b[1;31m:\u001b[0m invalid syntax\n"
     ]
    }
   ],
   "source": [
    "python3 myscript.py"
   ]
  },
  {
   "cell_type": "markdown",
   "id": "989092fd",
   "metadata": {},
   "source": [
    "## 10 what is the result"
   ]
  },
  {
   "cell_type": "code",
   "execution_count": 52,
   "id": "6eeb7f64",
   "metadata": {},
   "outputs": [
    {
     "data": {
      "text/plain": [
       "9"
      ]
     },
     "execution_count": 52,
     "metadata": {},
     "output_type": "execute_result"
    }
   ],
   "source": [
    "6//4%5+2**3-2//3"
   ]
  },
  {
   "cell_type": "markdown",
   "id": "d63af1f7",
   "metadata": {},
   "source": [
    "## 11 which line assign TT to the output"
   ]
  },
  {
   "cell_type": "code",
   "execution_count": 54,
   "id": "434d6554",
   "metadata": {
    "scrolled": true
   },
   "outputs": [
    {
     "name": "stdout",
     "output_type": "stream",
     "text": [
      "TT\n"
     ]
    }
   ],
   "source": [
    "x='TEXT'\n",
    "output=x[0]+x[-1]\n",
    "print(output)"
   ]
  },
  {
   "cell_type": "code",
   "execution_count": 55,
   "id": "6b32b738",
   "metadata": {},
   "outputs": [
    {
     "name": "stdout",
     "output_type": "stream",
     "text": [
      "TX\n"
     ]
    }
   ],
   "source": [
    "x='TEXT'\n",
    "output=x[0]+x[2]\n",
    "print(output)"
   ]
  },
  {
   "cell_type": "code",
   "execution_count": 56,
   "id": "407c559b",
   "metadata": {},
   "outputs": [
    {
     "name": "stdout",
     "output_type": "stream",
     "text": [
      "EE\n"
     ]
    }
   ],
   "source": [
    "x='TEXT'\n",
    "output=x[1]+x[1]\n",
    "print(output)"
   ]
  },
  {
   "cell_type": "code",
   "execution_count": 57,
   "id": "0d6dd9d1",
   "metadata": {},
   "outputs": [
    {
     "ename": "IndexError",
     "evalue": "string index out of range",
     "output_type": "error",
     "traceback": [
      "\u001b[1;31m---------------------------------------------------------------------------\u001b[0m",
      "\u001b[1;31mIndexError\u001b[0m                                Traceback (most recent call last)",
      "Cell \u001b[1;32mIn[57], line 2\u001b[0m\n\u001b[0;32m      1\u001b[0m x\u001b[38;5;241m=\u001b[39m\u001b[38;5;124m'\u001b[39m\u001b[38;5;124mTEXT\u001b[39m\u001b[38;5;124m'\u001b[39m\n\u001b[1;32m----> 2\u001b[0m output\u001b[38;5;241m=\u001b[39mx[\u001b[38;5;241m1\u001b[39m]\u001b[38;5;241m+\u001b[39mx[\u001b[38;5;241m4\u001b[39m]\n\u001b[0;32m      3\u001b[0m \u001b[38;5;28mprint\u001b[39m(output)\n",
      "\u001b[1;31mIndexError\u001b[0m: string index out of range"
     ]
    }
   ],
   "source": [
    "x='TEXT'\n",
    "output=x[1]+x[4]  ## 4----string index out of range\n",
    "print(output)"
   ]
  },
  {
   "cell_type": "markdown",
   "id": "5152d98f",
   "metadata": {},
   "source": [
    "## 12 what is the result"
   ]
  },
  {
   "cell_type": "code",
   "execution_count": 58,
   "id": "121c4797",
   "metadata": {},
   "outputs": [
    {
     "name": "stdout",
     "output_type": "stream",
     "text": [
      "False\n",
      "True\n",
      "False\n"
     ]
    }
   ],
   "source": [
    "print(10==10 and 20!=20)\n",
    "print(10==10 or 20!=20)\n",
    "print(not 10==10)"
   ]
  },
  {
   "cell_type": "markdown",
   "id": "dbac9600",
   "metadata": {},
   "source": [
    "## 13 which expression evalute to 2"
   ]
  },
  {
   "cell_type": "code",
   "execution_count": 59,
   "id": "0bf06962",
   "metadata": {},
   "outputs": [],
   "source": [
    "a=float('123.456')"
   ]
  },
  {
   "cell_type": "code",
   "execution_count": 60,
   "id": "39b8fc3e",
   "metadata": {},
   "outputs": [
    {
     "data": {
      "text/plain": [
       "True"
      ]
     },
     "execution_count": 60,
     "metadata": {},
     "output_type": "execute_result"
    }
   ],
   "source": [
    "bool(a)"
   ]
  },
  {
   "cell_type": "code",
   "execution_count": 62,
   "id": "2ac76a8e",
   "metadata": {},
   "outputs": [
    {
     "data": {
      "text/plain": [
       "123"
      ]
     },
     "execution_count": 62,
     "metadata": {},
     "output_type": "execute_result"
    }
   ],
   "source": [
    "int(a)+False"
   ]
  },
  {
   "cell_type": "code",
   "execution_count": 63,
   "id": "a4de295b",
   "metadata": {},
   "outputs": [
    {
     "data": {
      "text/plain": [
       "'123.456'"
      ]
     },
     "execution_count": 63,
     "metadata": {},
     "output_type": "execute_result"
    }
   ],
   "source": [
    "str(a)"
   ]
  },
  {
   "cell_type": "code",
   "execution_count": 64,
   "id": "718e501e",
   "metadata": {},
   "outputs": [
    {
     "data": {
      "text/plain": [
       "2"
      ]
     },
     "execution_count": 64,
     "metadata": {},
     "output_type": "execute_result"
    }
   ],
   "source": [
    "bool(a)+True"
   ]
  },
  {
   "cell_type": "markdown",
   "id": "64fd5620",
   "metadata": {},
   "source": [
    "## 14 create a function to calculate avarage velocity of vehicle"
   ]
  },
  {
   "cell_type": "code",
   "execution_count": 65,
   "id": "4385ab87",
   "metadata": {},
   "outputs": [
    {
     "ename": "NameError",
     "evalue": "name 'xxx' is not defined",
     "output_type": "error",
     "traceback": [
      "\u001b[1;31m---------------------------------------------------------------------------\u001b[0m",
      "\u001b[1;31mNameError\u001b[0m                                 Traceback (most recent call last)",
      "Cell \u001b[1;32mIn[65], line 1\u001b[0m\n\u001b[1;32m----> 1\u001b[0m distance\u001b[38;5;241m=\u001b[39mxxx(\u001b[38;5;28minput\u001b[39m(\u001b[38;5;124m'\u001b[39m\u001b[38;5;124mEnter the distance travelled in feet:\u001b[39m\u001b[38;5;124m'\u001b[39m))\n\u001b[0;32m      2\u001b[0m distance_miles\u001b[38;5;241m=\u001b[39mdistance\u001b[38;5;241m/\u001b[39m\u001b[38;5;241m5280\u001b[39m\n\u001b[0;32m      3\u001b[0m time\u001b[38;5;241m=\u001b[39myyy(\u001b[38;5;28minput\u001b[39m(\u001b[38;5;124m'\u001b[39m\u001b[38;5;124mEnter the time elapse in second:\u001b[39m\u001b[38;5;124m'\u001b[39m))\n",
      "\u001b[1;31mNameError\u001b[0m: name 'xxx' is not defined"
     ]
    }
   ],
   "source": [
    "distance=xxx(input('Enter the distance travelled in feet:'))\n",
    "distance_miles=distance/5280\n",
    "time=yyy(input('Enter the time elapse in second:'))\n",
    "time_hours=time/3600\n",
    "velocity=distance_miles/time_hours\n",
    "print('The avarage velocity:',velocity,'miles/hours')"
   ]
  },
  {
   "cell_type": "code",
   "execution_count": null,
   "id": "264b11e9",
   "metadata": {},
   "outputs": [
    {
     "name": "stdout",
     "output_type": "stream",
     "text": [
      "Enter the distance travelled in feet:2640\n"
     ]
    }
   ],
   "source": [
    "distance=float(input('Enter the distance travelled in feet:'))\n",
    "distance_miles=distance/5280\n",
    "time=float(input('Enter the time elapse in second:'))             ### we have to replace xxx and yyy to float\n",
    "time_hours=time/3600\n",
    "velocity=distance_miles/time_hours\n",
    "print('The avarage velocity:',velocity,'miles/hours')"
   ]
  },
  {
   "cell_type": "markdown",
   "id": "c2faf747",
   "metadata": {},
   "source": [
    "### 16 true will be printed"
   ]
  },
  {
   "cell_type": "code",
   "execution_count": 2,
   "id": "38d0ec64",
   "metadata": {},
   "outputs": [
    {
     "name": "stdout",
     "output_type": "stream",
     "text": [
      "True\n"
     ]
    }
   ],
   "source": [
    "print('r' in 'durga')"
   ]
  },
  {
   "cell_type": "code",
   "execution_count": 3,
   "id": "a3642ccb",
   "metadata": {},
   "outputs": [
    {
     "name": "stdout",
     "output_type": "stream",
     "text": [
      "False\n"
     ]
    }
   ],
   "source": [
    "a=45\n",
    "b=45\n",
    "print(a is not b)"
   ]
  },
  {
   "cell_type": "code",
   "execution_count": 4,
   "id": "baf9f6b2",
   "metadata": {},
   "outputs": [
    {
     "name": "stdout",
     "output_type": "stream",
     "text": [
      "True\n"
     ]
    }
   ],
   "source": [
    "print('is' in 'This IS Fake News')"
   ]
  },
  {
   "cell_type": "code",
   "execution_count": 5,
   "id": "67497118",
   "metadata": {},
   "outputs": [
    {
     "name": "stdout",
     "output_type": "stream",
     "text": [
      "False\n"
     ]
    }
   ],
   "source": [
    "x=[1,2,3]\n",
    "y=[1,2,3]\n",
    "print(x is y)"
   ]
  },
  {
   "cell_type": "markdown",
   "id": "6d4365d4",
   "metadata": {},
   "source": [
    "### 17 what is output"
   ]
  },
  {
   "cell_type": "code",
   "execution_count": 7,
   "id": "df4154eb",
   "metadata": {},
   "outputs": [
    {
     "name": "stdout",
     "output_type": "stream",
     "text": [
      "10\n"
     ]
    }
   ],
   "source": [
    "x=2\n",
    "y=6\n",
    "x+=2**3\n",
    "x\n",
    "print(x)"
   ]
  },
  {
   "cell_type": "markdown",
   "id": "d326df4e",
   "metadata": {},
   "source": [
    "### 18 which consol print Durga"
   ]
  },
  {
   "cell_type": "code",
   "execution_count": 11,
   "id": "12877ab9",
   "metadata": {},
   "outputs": [
    {
     "ename": "AttributeError",
     "evalue": "'PytestTester' object has no attribute 'py'",
     "output_type": "error",
     "traceback": [
      "\u001b[1;31m---------------------------------------------------------------------------\u001b[0m",
      "\u001b[1;31mAttributeError\u001b[0m                            Traceback (most recent call last)",
      "Cell \u001b[1;32mIn[11], line 3\u001b[0m\n\u001b[0;32m      1\u001b[0m \u001b[38;5;28;01mimport\u001b[39;00m \u001b[38;5;21;01mnumpy\u001b[39;00m \u001b[38;5;28;01mas\u001b[39;00m \u001b[38;5;21;01mpy\u001b[39;00m\n\u001b[0;32m      2\u001b[0m \u001b[38;5;28;01mfrom\u001b[39;00m \u001b[38;5;21;01msys\u001b[39;00m \u001b[38;5;28;01mimport\u001b[39;00m argv\n\u001b[1;32m----> 3\u001b[0m py\u001b[38;5;241m.\u001b[39mtest\u001b[38;5;241m.\u001b[39mpy\u001b[38;5;241m.\u001b[39mDurga\n\u001b[0;32m      4\u001b[0m \u001b[38;5;28mprint\u001b[39m(argv[\u001b[38;5;241m1\u001b[39m])\n",
      "\u001b[1;31mAttributeError\u001b[0m: 'PytestTester' object has no attribute 'py'"
     ]
    }
   ],
   "source": [
    "import numpy as py\n",
    "from sys import argv\n",
    "py.test.py.Durga\n",
    "print(argv[1])"
   ]
  },
  {
   "cell_type": "markdown",
   "id": "d39df215",
   "metadata": {},
   "source": [
    "## 21 which evalute 2"
   ]
  },
  {
   "cell_type": "code",
   "execution_count": 12,
   "id": "e5f3822a",
   "metadata": {},
   "outputs": [
    {
     "data": {
      "text/plain": [
       "5.5"
      ]
     },
     "execution_count": 12,
     "metadata": {},
     "output_type": "execute_result"
    }
   ],
   "source": [
    "11/2"
   ]
  },
  {
   "cell_type": "code",
   "execution_count": 13,
   "id": "ab275c20",
   "metadata": {},
   "outputs": [
    {
     "data": {
      "text/plain": [
       "2"
      ]
     },
     "execution_count": 13,
     "metadata": {},
     "output_type": "execute_result"
    }
   ],
   "source": [
    "22%5"
   ]
  },
  {
   "cell_type": "code",
   "execution_count": 14,
   "id": "358c9efa",
   "metadata": {},
   "outputs": [
    {
     "data": {
      "text/plain": [
       "3"
      ]
     },
     "execution_count": 14,
     "metadata": {},
     "output_type": "execute_result"
    }
   ],
   "source": [
    "13//4"
   ]
  },
  {
   "cell_type": "code",
   "execution_count": 15,
   "id": "d4ea3314",
   "metadata": {},
   "outputs": [
    {
     "data": {
      "text/plain": [
       "9"
      ]
     },
     "execution_count": 15,
     "metadata": {},
     "output_type": "execute_result"
    }
   ],
   "source": [
    "3**2"
   ]
  },
  {
   "cell_type": "markdown",
   "id": "776aab0b",
   "metadata": {},
   "source": [
    "## 22 what is output"
   ]
  },
  {
   "cell_type": "code",
   "execution_count": 16,
   "id": "2f015006",
   "metadata": {},
   "outputs": [
    {
     "name": "stdout",
     "output_type": "stream",
     "text": [
      "25.0\n"
     ]
    }
   ],
   "source": [
    "x=3/3+3**3-3\n",
    "print(x)"
   ]
  },
  {
   "cell_type": "markdown",
   "id": "6a829da7",
   "metadata": {},
   "source": [
    "## 23 what is output"
   ]
  },
  {
   "cell_type": "code",
   "execution_count": 18,
   "id": "1b658d64",
   "metadata": {},
   "outputs": [
    {
     "name": "stdout",
     "output_type": "stream",
     "text": [
      "-4.0\n"
     ]
    }
   ],
   "source": [
    "result=str(bool(1)-float(10)/float(2))\n",
    "print(result)"
   ]
  },
  {
   "cell_type": "markdown",
   "id": "e25f1108",
   "metadata": {},
   "source": [
    "## 24 what is result"
   ]
  },
  {
   "cell_type": "code",
   "execution_count": 19,
   "id": "44d13362",
   "metadata": {},
   "outputs": [
    {
     "name": "stdout",
     "output_type": "stream",
     "text": [
      "-fC:\\Users\\admin\\AppData\\Roaming\\jupyter\\runtime\\kernel-b8ab4ff5-621a-4201-8138-b523e68b68ef.json\n"
     ]
    }
   ],
   "source": [
    "from sys import argv\n",
    "print(argv[1]+argv[2])"
   ]
  },
  {
   "cell_type": "markdown",
   "id": "9b13139c",
   "metadata": {},
   "source": [
    "### 27 what is the result"
   ]
  },
  {
   "cell_type": "code",
   "execution_count": 21,
   "id": "75291fa3",
   "metadata": {},
   "outputs": [
    {
     "name": "stdout",
     "output_type": "stream",
     "text": [
      "True\n",
      "False\n",
      "True\n",
      "False\n",
      "True\n"
     ]
    }
   ],
   "source": [
    "print(not 0)\n",
    "print(not 10)\n",
    "print(not '')\n",
    "print(not 'Durga')\n",
    "print(not None)"
   ]
  },
  {
   "cell_type": "markdown",
   "id": "9cfc3976",
   "metadata": {},
   "source": [
    "### 28 what is the result"
   ]
  },
  {
   "cell_type": "code",
   "execution_count": 23,
   "id": "267a48de",
   "metadata": {},
   "outputs": [
    {
     "name": "stdout",
     "output_type": "stream",
     "text": [
      "True\n",
      "False\n",
      "False\n",
      "False\n"
     ]
    }
   ],
   "source": [
    "list_11=['sunny','bunney','chinny','vinny']\n",
    "list_12=['sunny','bunney','chinny','vinny']\n",
    "print(list_11 is not list_12)\n",
    "print(list_11!=list_12)\n",
    "list_11=list_12\n",
    "print(list_11 is not list_12)\n",
    "print(list_11!=list_12)"
   ]
  },
  {
   "cell_type": "markdown",
   "id": "4860d556",
   "metadata": {},
   "source": [
    "### 32 which of the following print AA"
   ]
  },
  {
   "cell_type": "code",
   "execution_count": 25,
   "id": "192c38cf",
   "metadata": {},
   "outputs": [],
   "source": [
    "b='BANANA'"
   ]
  },
  {
   "cell_type": "code",
   "execution_count": 26,
   "id": "fd58bf4e",
   "metadata": {},
   "outputs": [
    {
     "name": "stdout",
     "output_type": "stream",
     "text": [
      "AA\n"
     ]
    }
   ],
   "source": [
    "print(b[3]+b[5])"
   ]
  },
  {
   "cell_type": "code",
   "execution_count": 27,
   "id": "e78bf864",
   "metadata": {},
   "outputs": [
    {
     "name": "stdout",
     "output_type": "stream",
     "text": [
      "AA\n"
     ]
    }
   ],
   "source": [
    "print(b[1]+b[5])"
   ]
  },
  {
   "cell_type": "code",
   "execution_count": 28,
   "id": "e34f3d32",
   "metadata": {},
   "outputs": [
    {
     "name": "stdout",
     "output_type": "stream",
     "text": [
      "AN\n"
     ]
    }
   ],
   "source": [
    "print(b[1]+b[2])"
   ]
  },
  {
   "cell_type": "code",
   "execution_count": 29,
   "id": "380c1514",
   "metadata": {},
   "outputs": [
    {
     "name": "stdout",
     "output_type": "stream",
     "text": [
      "AA\n"
     ]
    }
   ],
   "source": [
    "print(b[1]+b[3])"
   ]
  },
  {
   "cell_type": "markdown",
   "id": "331b0352",
   "metadata": {},
   "source": [
    "## 33 what is the result"
   ]
  },
  {
   "cell_type": "code",
   "execution_count": 30,
   "id": "809ba972",
   "metadata": {},
   "outputs": [
    {
     "name": "stdout",
     "output_type": "stream",
     "text": [
      "True\n",
      "False\n",
      "False\n",
      "False\n"
     ]
    }
   ],
   "source": [
    "list_11=['sunny','bunney','chinny','vinny']\n",
    "list_12=['sunny','bunney','chinny','vinny']\n",
    "print(list_11 is not list_12)\n",
    "print(list_11!=list_12)\n",
    "list_11=list_12                                   ######already done\n",
    "print(list_11 is not list_12)\n",
    "print(list_11!=list_12)"
   ]
  },
  {
   "cell_type": "markdown",
   "id": "0b25fa41",
   "metadata": {},
   "source": [
    "## 34 what is the result"
   ]
  },
  {
   "cell_type": "code",
   "execution_count": 31,
   "id": "66e5b7d9",
   "metadata": {},
   "outputs": [
    {
     "name": "stdout",
     "output_type": "stream",
     "text": [
      "0\n"
     ]
    }
   ],
   "source": [
    "v1=1\n",
    "v2=0\n",
    "v1=v1^v2\n",
    "v2=v1^v2\n",
    "v1=v1^v2   ### ^ is a XOR operator\n",
    "print(v1)   ## if both the bits are same result is 0 otherwise 1"
   ]
  },
  {
   "cell_type": "markdown",
   "id": "bb0797e7",
   "metadata": {},
   "source": [
    "### Which of the following spans more than 1 line and consider whitespace too"
   ]
  },
  {
   "cell_type": "code",
   "execution_count": 32,
   "id": "1cb1a117",
   "metadata": {},
   "outputs": [
    {
     "ename": "SyntaxError",
     "evalue": "unterminated string literal (detected at line 1) (937522017.py, line 1)",
     "output_type": "error",
     "traceback": [
      "\u001b[1;36m  Cell \u001b[1;32mIn[32], line 1\u001b[1;36m\u001b[0m\n\u001b[1;33m    s1='Bharat\\n\u001b[0m\n\u001b[1;37m       ^\u001b[0m\n\u001b[1;31mSyntaxError\u001b[0m\u001b[1;31m:\u001b[0m unterminated string literal (detected at line 1)\n"
     ]
    }
   ],
   "source": [
    "s1='Bharat\\n\n",
    "     Softwere\\n\n",
    "     solutions'"
   ]
  },
  {
   "cell_type": "code",
   "execution_count": 37,
   "id": "76398391",
   "metadata": {},
   "outputs": [
    {
     "ename": "SyntaxError",
     "evalue": "unterminated string literal (detected at line 1) (3493684995.py, line 1)",
     "output_type": "error",
     "traceback": [
      "\u001b[1;36m  Cell \u001b[1;32mIn[37], line 1\u001b[1;36m\u001b[0m\n\u001b[1;33m    s1=\"'Bharat\u001b[0m\n\u001b[1;37m       ^\u001b[0m\n\u001b[1;31mSyntaxError\u001b[0m\u001b[1;31m:\u001b[0m unterminated string literal (detected at line 1)\n"
     ]
    }
   ],
   "source": [
    "s1=\"'Bharat\n",
    "     Softwere\n",
    "     solutions'"
   ]
  },
  {
   "cell_type": "code",
   "execution_count": 38,
   "id": "1e80fcac",
   "metadata": {},
   "outputs": [
    {
     "ename": "SyntaxError",
     "evalue": "unterminated string literal (detected at line 1) (983128859.py, line 1)",
     "output_type": "error",
     "traceback": [
      "\u001b[1;36m  Cell \u001b[1;32mIn[38], line 1\u001b[1;36m\u001b[0m\n\u001b[1;33m    s1=\"Bharat\u001b[0m\n\u001b[1;37m       ^\u001b[0m\n\u001b[1;31mSyntaxError\u001b[0m\u001b[1;31m:\u001b[0m unterminated string literal (detected at line 1)\n"
     ]
    }
   ],
   "source": [
    "s1=\"Bharat\n",
    "     Softwere\n",
    "     solutions'"
   ]
  },
  {
   "cell_type": "code",
   "execution_count": 39,
   "id": "aabb7838",
   "metadata": {},
   "outputs": [
    {
     "ename": "SyntaxError",
     "evalue": "unterminated string literal (detected at line 1) (1249608511.py, line 1)",
     "output_type": "error",
     "traceback": [
      "\u001b[1;36m  Cell \u001b[1;32mIn[39], line 1\u001b[1;36m\u001b[0m\n\u001b[1;33m    s1='Bharat\u001b[0m\n\u001b[1;37m       ^\u001b[0m\n\u001b[1;31mSyntaxError\u001b[0m\u001b[1;31m:\u001b[0m unterminated string literal (detected at line 1)\n"
     ]
    }
   ],
   "source": [
    "s1='Bharat\n",
    "     Softwere\n",
    "     solutions\""
   ]
  },
  {
   "cell_type": "code",
   "execution_count": 40,
   "id": "c84830f8",
   "metadata": {},
   "outputs": [],
   "source": [
    "s1 = '''Bharat\n",
    "Softwere\n",
    "solutions'''"
   ]
  },
  {
   "cell_type": "code",
   "execution_count": 41,
   "id": "c6b0c858",
   "metadata": {},
   "outputs": [
    {
     "data": {
      "text/plain": [
       "'Bharat\\nSoftwere\\nsolutions'"
      ]
     },
     "execution_count": 41,
     "metadata": {},
     "output_type": "execute_result"
    }
   ],
   "source": [
    "s1"
   ]
  },
  {
   "cell_type": "code",
   "execution_count": 45,
   "id": "258fb985",
   "metadata": {},
   "outputs": [],
   "source": [
    "s2 = 'Bharat\\n' \\\n",
    "     'Softwere\\n' \\\n",
    "     'solutions'"
   ]
  },
  {
   "cell_type": "code",
   "execution_count": 46,
   "id": "91a4769a",
   "metadata": {},
   "outputs": [
    {
     "name": "stdout",
     "output_type": "stream",
     "text": [
      "Bharat\n",
      "Softwere\n",
      "solutions\n"
     ]
    }
   ],
   "source": [
    "print(s2)"
   ]
  },
  {
   "cell_type": "code",
   "execution_count": 47,
   "id": "3b5d7dcb",
   "metadata": {},
   "outputs": [
    {
     "data": {
      "text/plain": [
       "'Bharat\\nSoftwere\\nsolutions'"
      ]
     },
     "execution_count": 47,
     "metadata": {},
     "output_type": "execute_result"
    }
   ],
   "source": [
    "s2"
   ]
  },
  {
   "cell_type": "markdown",
   "id": "c264ee19",
   "metadata": {},
   "source": [
    "## 39 which is the following statement are valid"
   ]
  },
  {
   "cell_type": "code",
   "execution_count": 48,
   "id": "c2b1a13f",
   "metadata": {},
   "outputs": [],
   "source": [
    "b=False+5-True+35//4"
   ]
  },
  {
   "cell_type": "code",
   "execution_count": 49,
   "id": "85a8b655",
   "metadata": {},
   "outputs": [
    {
     "data": {
      "text/plain": [
       "12"
      ]
     },
     "execution_count": 49,
     "metadata": {},
     "output_type": "execute_result"
    }
   ],
   "source": [
    "b"
   ]
  },
  {
   "cell_type": "code",
   "execution_count": 50,
   "id": "3d28d579",
   "metadata": {},
   "outputs": [],
   "source": [
    "s=\"Sachin Tendulkar is a crecket's great player\""
   ]
  },
  {
   "cell_type": "code",
   "execution_count": 51,
   "id": "6a772987",
   "metadata": {},
   "outputs": [
    {
     "data": {
      "text/plain": [
       "\"Sachin Tendulkar is a crecket's great player\""
      ]
     },
     "execution_count": 51,
     "metadata": {},
     "output_type": "execute_result"
    }
   ],
   "source": [
    "s"
   ]
  },
  {
   "cell_type": "code",
   "execution_count": 53,
   "id": "82ed58cb",
   "metadata": {},
   "outputs": [
    {
     "name": "stdout",
     "output_type": "stream",
     "text": [
      "result: 4.5\n"
     ]
    }
   ],
   "source": [
    "print('result:',(7/2)+(False or True)+(9%3))"
   ]
  },
  {
   "cell_type": "code",
   "execution_count": 54,
   "id": "424edb7b",
   "metadata": {},
   "outputs": [],
   "source": [
    "result=456+456.0"
   ]
  },
  {
   "cell_type": "code",
   "execution_count": 55,
   "id": "850109c6",
   "metadata": {},
   "outputs": [
    {
     "data": {
      "text/plain": [
       "float"
      ]
     },
     "execution_count": 55,
     "metadata": {},
     "output_type": "execute_result"
    }
   ],
   "source": [
    "type(result)  ##not int"
   ]
  },
  {
   "cell_type": "markdown",
   "id": "28dbdc49",
   "metadata": {},
   "source": [
    "### 40 We are developing an app in which students will provide college name and city as input.If the \n",
    "## student provides college name as BHARATSOFT and city as Pune,then our application has to provide the following greeting message. Welcome to BHARATSOFT in Pune   which coad is use for requiredment\n",
    "\n"
   ]
  },
  {
   "cell_type": "code",
   "execution_count": 56,
   "id": "183b1aa2",
   "metadata": {},
   "outputs": [
    {
     "name": "stdout",
     "output_type": "stream",
     "text": [
      "Enter your college name: BHARATSOFT\n",
      "Enter your city: PUNE\n",
      "Welcome to BHARATSOFT in PUNE\n"
     ]
    }
   ],
   "source": [
    "college_name = input(\"Enter your college name: \")\n",
    "city = input(\"Enter your city: \")\n",
    "if college_name.upper() == \"BHARATSOFT\" and city.upper() == \"PUNE\":\n",
    "    print(f\"Welcome to {college_name} in {city}\")\n",
    "else:\n",
    "    print(\"Invalid college name or city.\")"
   ]
  },
  {
   "cell_type": "code",
   "execution_count": null,
   "id": "61175121",
   "metadata": {},
   "outputs": [],
   "source": []
  }
 ],
 "metadata": {
  "kernelspec": {
   "display_name": "Python 3 (ipykernel)",
   "language": "python",
   "name": "python3"
  },
  "language_info": {
   "codemirror_mode": {
    "name": "ipython",
    "version": 3
   },
   "file_extension": ".py",
   "mimetype": "text/x-python",
   "name": "python",
   "nbconvert_exporter": "python",
   "pygments_lexer": "ipython3",
   "version": "3.11.5"
  }
 },
 "nbformat": 4,
 "nbformat_minor": 5
}
