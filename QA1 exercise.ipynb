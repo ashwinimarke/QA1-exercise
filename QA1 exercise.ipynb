{
 "cells": [
  {
   "cell_type": "code",
   "execution_count": 1,
   "id": "720a40f1",
   "metadata": {},
   "outputs": [],
   "source": [
    "x=8\n",
    "y=10"
   ]
  },
  {
   "cell_type": "code",
   "execution_count": 2,
   "id": "16615bc2",
   "metadata": {},
   "outputs": [
    {
     "data": {
      "text/plain": [
       "8"
      ]
     },
     "execution_count": 2,
     "metadata": {},
     "output_type": "execute_result"
    }
   ],
   "source": [
    "x"
   ]
  },
  {
   "cell_type": "code",
   "execution_count": 3,
   "id": "7f8563d1",
   "metadata": {},
   "outputs": [
    {
     "data": {
      "text/plain": [
       "10"
      ]
     },
     "execution_count": 3,
     "metadata": {},
     "output_type": "execute_result"
    }
   ],
   "source": [
    "y"
   ]
  },
  {
   "cell_type": "code",
   "execution_count": 5,
   "id": "d3968054",
   "metadata": {},
   "outputs": [
    {
     "name": "stdout",
     "output_type": "stream",
     "text": [
      "5.0\n"
     ]
    }
   ],
   "source": [
    "result=x//3*3/2+y%2**2\n",
    "print(result)"
   ]
  },
  {
   "cell_type": "code",
   "execution_count": 13,
   "id": "f79b3259",
   "metadata": {},
   "outputs": [
    {
     "name": "stdout",
     "output_type": "stream",
     "text": [
      "How old were you at the time of joining?23\n",
      "How old are you today?33\n",
      "congradulation on10Years of survice!\n"
     ]
    }
   ],
   "source": [
    "start=input('How old were you at the time of joining?')\n",
    "end=input('How old are you today?')\n",
    "print('congradulation on'+str(int(end)-int(start))+'Years of survice!')"
   ]
  },
  {
   "cell_type": "code",
   "execution_count": 15,
   "id": "86110f08",
   "metadata": {},
   "outputs": [
    {
     "name": "stdout",
     "output_type": "stream",
     "text": [
      "RPO\n"
     ]
    }
   ],
   "source": [
    "x='ACROTE'\n",
    "y='APPLE'\n",
    "z='TOMATO'\n",
    "print(x[2]+y[1]+z[5])   ###########which won't print CAT in console"
   ]
  },
  {
   "cell_type": "code",
   "execution_count": 16,
   "id": "970bcede",
   "metadata": {},
   "outputs": [
    {
     "name": "stdout",
     "output_type": "stream",
     "text": [
      "CAT\n"
     ]
    }
   ],
   "source": [
    "x='ACROTE'\n",
    "y='APPLE'\n",
    "z='TOMATO'\n",
    "print(x[1]+y[0]+z[4]) ########## to print CAT in consol"
   ]
  },
  {
   "cell_type": "code",
   "execution_count": 17,
   "id": "2bec819c",
   "metadata": {},
   "outputs": [
    {
     "name": "stdout",
     "output_type": "stream",
     "text": [
      "RPO\n"
     ]
    }
   ],
   "source": [
    "x='ACROTE'\n",
    "y='APPLE'\n",
    "z='TOMATO'\n",
    "print(x[-4]+y[-4]+z[-1])"
   ]
  },
  {
   "cell_type": "code",
   "execution_count": 18,
   "id": "8acf1eae",
   "metadata": {},
   "outputs": [
    {
     "name": "stdout",
     "output_type": "stream",
     "text": [
      "CAT\n"
     ]
    }
   ],
   "source": [
    "x='ACROTE'\n",
    "y='APPLE'\n",
    "z='TOMATO'\n",
    "print(x[-5]+y[-5]+z[-2])  ###### From right to left start from 0 & left to right from -1"
   ]
  },
  {
   "cell_type": "code",
   "execution_count": 20,
   "id": "105a9d44",
   "metadata": {},
   "outputs": [
    {
     "name": "stdout",
     "output_type": "stream",
     "text": [
      "False\n"
     ]
    }
   ],
   "source": [
    "x='PARTH'\n",
    "y='PARTH'\n",
    "result=x>y\n",
    "print(result)"
   ]
  },
  {
   "cell_type": "code",
   "execution_count": 21,
   "id": "5259c2dc",
   "metadata": {},
   "outputs": [
    {
     "name": "stdout",
     "output_type": "stream",
     "text": [
      "False\n"
     ]
    }
   ],
   "source": [
    "x='PARTH'\n",
    "y='PARTH'\n",
    "result=x<y\n",
    "print(result)"
   ]
  },
  {
   "cell_type": "code",
   "execution_count": 22,
   "id": "6c73d952",
   "metadata": {},
   "outputs": [
    {
     "name": "stdout",
     "output_type": "stream",
     "text": [
      "PARTH\n"
     ]
    }
   ],
   "source": [
    "x='PARTH'\n",
    "y='PARTH'\n",
    "result=x=y\n",
    "print(result)  ####### This condition print the result only not the TRUE"
   ]
  },
  {
   "cell_type": "code",
   "execution_count": 23,
   "id": "17a48ba8",
   "metadata": {},
   "outputs": [
    {
     "name": "stdout",
     "output_type": "stream",
     "text": [
      "False\n"
     ]
    }
   ],
   "source": [
    "x='PARTH'\n",
    "y='PARTH'\n",
    "result=x is not y\n",
    "print(result)"
   ]
  },
  {
   "cell_type": "code",
   "execution_count": 24,
   "id": "70f0d81e",
   "metadata": {},
   "outputs": [
    {
     "name": "stdout",
     "output_type": "stream",
     "text": [
      "True\n"
     ]
    }
   ],
   "source": [
    "x='PARTH'\n",
    "y='PARTH'\n",
    "result=x is y\n",
    "print(result)  ######### This condition is TRUE"
   ]
  },
  {
   "cell_type": "code",
   "execution_count": 25,
   "id": "4bdb09dd",
   "metadata": {},
   "outputs": [
    {
     "name": "stdout",
     "output_type": "stream",
     "text": [
      "False\n"
     ]
    }
   ],
   "source": [
    "x='PARTH'\n",
    "y='PARTH'\n",
    "result=x!=y\n",
    "print(result)"
   ]
  },
  {
   "cell_type": "markdown",
   "id": "f6b046ad",
   "metadata": {},
   "source": [
    "##### consider the following code segment"
   ]
  },
  {
   "cell_type": "code",
   "execution_count": 28,
   "id": "3ed774d4",
   "metadata": {},
   "outputs": [],
   "source": [
    "# Code segment-1\n",
    "a1='10'\n",
    "b1=3\n",
    "c1=a1*b1"
   ]
  },
  {
   "cell_type": "code",
   "execution_count": 30,
   "id": "d86bed26",
   "metadata": {},
   "outputs": [],
   "source": [
    "# Code segment-2\n",
    "a2=10\n",
    "b2=3\n",
    "c2=a2/b2"
   ]
  },
  {
   "cell_type": "code",
   "execution_count": 31,
   "id": "693e475c",
   "metadata": {},
   "outputs": [],
   "source": [
    "# Code segment-3\n",
    "a3=2.6\n",
    "b3=1\n",
    "c3=a3/b3"
   ]
  },
  {
   "cell_type": "code",
   "execution_count": 32,
   "id": "743c04f5",
   "metadata": {},
   "outputs": [
    {
     "data": {
      "text/plain": [
       "('101010', 3.3333333333333335, 2.6)"
      ]
     },
     "execution_count": 32,
     "metadata": {},
     "output_type": "execute_result"
    }
   ],
   "source": [
    "c1,c2,c3  #### after executing code segments 1,2 & 3 the types of c1, c2, c3 are:"
   ]
  },
  {
   "cell_type": "code",
   "execution_count": 34,
   "id": "6624a1d8",
   "metadata": {},
   "outputs": [
    {
     "data": {
      "text/plain": [
       "str"
      ]
     },
     "execution_count": 34,
     "metadata": {},
     "output_type": "execute_result"
    }
   ],
   "source": [
    "type(c1)"
   ]
  },
  {
   "cell_type": "code",
   "execution_count": 35,
   "id": "0a838367",
   "metadata": {},
   "outputs": [
    {
     "data": {
      "text/plain": [
       "float"
      ]
     },
     "execution_count": 35,
     "metadata": {},
     "output_type": "execute_result"
    }
   ],
   "source": [
    "type(c2)"
   ]
  },
  {
   "cell_type": "code",
   "execution_count": 36,
   "id": "6c21c5a9",
   "metadata": {},
   "outputs": [
    {
     "data": {
      "text/plain": [
       "float"
      ]
     },
     "execution_count": 36,
     "metadata": {},
     "output_type": "execute_result"
    }
   ],
   "source": [
    "type(c3)"
   ]
  },
  {
   "cell_type": "code",
   "execution_count": 38,
   "id": "844c3f51",
   "metadata": {},
   "outputs": [
    {
     "name": "stdout",
     "output_type": "stream",
     "text": [
      "<class 'str'>\n",
      "<class 'float'>\n",
      "<class 'float'>\n"
     ]
    }
   ],
   "source": [
    "print(type(c1))\n",
    "print(type(c2))\n",
    "print(type(c3)) ###### OR"
   ]
  },
  {
   "cell_type": "code",
   "execution_count": 39,
   "id": "e3d0a6f8",
   "metadata": {},
   "outputs": [
    {
     "name": "stdout",
     "output_type": "stream",
     "text": [
      "<class 'str'>\n",
      "<class 'float'>\n",
      "<class 'float'>\n"
     ]
    }
   ],
   "source": [
    "a1='10'\n",
    "b1=3\n",
    "c1=a1*b1\n",
    "a2=10\n",
    "b2=3\n",
    "c2=a2/b2\n",
    "a3=2.6\n",
    "b3=1\n",
    "c3=a3/b3\n",
    "print(type(c1))\n",
    "print(type(c2))\n",
    "print(type(c3))"
   ]
  },
  {
   "cell_type": "markdown",
   "id": "6f079d08",
   "metadata": {},
   "source": [
    "####### In which of the following case we get same result"
   ]
  },
  {
   "cell_type": "code",
   "execution_count": 49,
   "id": "5c286332",
   "metadata": {},
   "outputs": [],
   "source": [
    "a=13//4"
   ]
  },
  {
   "cell_type": "code",
   "execution_count": 48,
   "id": "ec5698e3",
   "metadata": {},
   "outputs": [],
   "source": [
    "b=11/3"
   ]
  },
  {
   "cell_type": "code",
   "execution_count": 47,
   "id": "565048d7",
   "metadata": {},
   "outputs": [],
   "source": [
    "c=3**1"
   ]
  },
  {
   "cell_type": "code",
   "execution_count": 46,
   "id": "ab0caadb",
   "metadata": {},
   "outputs": [],
   "source": [
    "d=23%5"
   ]
  },
  {
   "cell_type": "code",
   "execution_count": 50,
   "id": "4f784a46",
   "metadata": {},
   "outputs": [
    {
     "name": "stdout",
     "output_type": "stream",
     "text": [
      "3 3.6666666666666665 3 3\n"
     ]
    }
   ],
   "source": [
    "print(a,b,c,d)  ### hence a,c,d give same result  and b give different"
   ]
  },
  {
   "cell_type": "code",
   "execution_count": 2,
   "id": "7beb27bf",
   "metadata": {},
   "outputs": [
    {
     "name": "stdout",
     "output_type": "stream",
     "text": [
      "False\n"
     ]
    }
   ],
   "source": [
    "n1=[10,20,30,40,50]\n",
    "n2=[10,20,30,40,50]\n",
    "print(n1 is n2)"
   ]
  },
  {
   "cell_type": "code",
   "execution_count": 3,
   "id": "471a28fc",
   "metadata": {},
   "outputs": [
    {
     "name": "stdout",
     "output_type": "stream",
     "text": [
      "True\n"
     ]
    }
   ],
   "source": [
    "n1=[10,20,30,40,50]\n",
    "n2=[10,20,30,40,50]\n",
    "print(n1==n2)"
   ]
  },
  {
   "cell_type": "code",
   "execution_count": 4,
   "id": "0c511c93",
   "metadata": {},
   "outputs": [
    {
     "name": "stdout",
     "output_type": "stream",
     "text": [
      "False\n",
      "True\n"
     ]
    }
   ],
   "source": [
    "n1=[10,20,30,40,50]\n",
    "n2=[10,20,30,40,50]\n",
    "print(n1 is n2)\n",
    "print(n1==n2)"
   ]
  },
  {
   "cell_type": "code",
   "execution_count": 5,
   "id": "d12eb4e4",
   "metadata": {},
   "outputs": [],
   "source": [
    "a=1\n",
    "b=3\n",
    "c=5\n",
    "d=7"
   ]
  },
  {
   "cell_type": "code",
   "execution_count": 7,
   "id": "b6931b7a",
   "metadata": {},
   "outputs": [],
   "source": [
    "result=a-b//d"
   ]
  },
  {
   "cell_type": "code",
   "execution_count": 8,
   "id": "6af6b4a4",
   "metadata": {},
   "outputs": [
    {
     "data": {
      "text/plain": [
       "1"
      ]
     },
     "execution_count": 8,
     "metadata": {},
     "output_type": "execute_result"
    }
   ],
   "source": [
    "result"
   ]
  },
  {
   "cell_type": "code",
   "execution_count": 9,
   "id": "b2b2ab7b",
   "metadata": {},
   "outputs": [],
   "source": [
    "result=a**d-1   ######### this is give result 0"
   ]
  },
  {
   "cell_type": "code",
   "execution_count": 10,
   "id": "d60f64bf",
   "metadata": {},
   "outputs": [
    {
     "data": {
      "text/plain": [
       "0"
      ]
     },
     "execution_count": 10,
     "metadata": {},
     "output_type": "execute_result"
    }
   ],
   "source": [
    "result"
   ]
  },
  {
   "cell_type": "code",
   "execution_count": 11,
   "id": "6aca4e4b",
   "metadata": {},
   "outputs": [],
   "source": [
    "result=a+b*2"
   ]
  },
  {
   "cell_type": "code",
   "execution_count": 12,
   "id": "f8f0f925",
   "metadata": {},
   "outputs": [
    {
     "data": {
      "text/plain": [
       "7"
      ]
     },
     "execution_count": 12,
     "metadata": {},
     "output_type": "execute_result"
    }
   ],
   "source": [
    "result"
   ]
  },
  {
   "cell_type": "code",
   "execution_count": 13,
   "id": "f5a7786c",
   "metadata": {},
   "outputs": [],
   "source": [
    "result=a%b-1 ###### this is give result 0"
   ]
  },
  {
   "cell_type": "code",
   "execution_count": 14,
   "id": "a7bbeb15",
   "metadata": {},
   "outputs": [
    {
     "data": {
      "text/plain": [
       "0"
      ]
     },
     "execution_count": 14,
     "metadata": {},
     "output_type": "execute_result"
    }
   ],
   "source": [
    "result"
   ]
  },
  {
   "cell_type": "code",
   "execution_count": 56,
   "id": "a70ee820",
   "metadata": {},
   "outputs": [
    {
     "ename": "TypeError",
     "evalue": "'str' object cannot be interpreted as an integer",
     "output_type": "error",
     "traceback": [
      "\u001b[1;31m---------------------------------------------------------------------------\u001b[0m",
      "\u001b[1;31mTypeError\u001b[0m                                 Traceback (most recent call last)",
      "Cell \u001b[1;32mIn[56], line 2\u001b[0m\n\u001b[0;32m      1\u001b[0m s\u001b[38;5;241m=\u001b[39m\u001b[38;5;124m'\u001b[39m\u001b[38;5;124mAB CD\u001b[39m\u001b[38;5;124m'\u001b[39m\n\u001b[1;32m----> 2\u001b[0m my_list\u001b[38;5;241m.\u001b[39mexpandtabs(\u001b[38;5;124m'\u001b[39m\u001b[38;5;124mEF\u001b[39m\u001b[38;5;124m'\u001b[39m)\n\u001b[0;32m      3\u001b[0m \u001b[38;5;28mprint\u001b[39m(\u001b[38;5;124m'\u001b[39m\u001b[38;5;124mstring after appendding value:\u001b[39m\u001b[38;5;124m'\u001b[39m,my_list)\n",
      "\u001b[1;31mTypeError\u001b[0m: 'str' object cannot be interpreted as an integer"
     ]
    }
   ],
   "source": [
    "s='AB CD'\n",
    "my_list.('EF')\n",
    "print('string after appendding value:',my_list)"
   ]
  },
  {
   "cell_type": "code",
   "execution_count": 49,
   "id": "8370ab73",
   "metadata": {},
   "outputs": [],
   "source": [
    "s = 'AB CD'\n"
   ]
  },
  {
   "cell_type": "code",
   "execution_count": 50,
   "id": "30ef5876",
   "metadata": {},
   "outputs": [
    {
     "data": {
      "text/plain": [
       "'AB CD'"
      ]
     },
     "execution_count": 50,
     "metadata": {},
     "output_type": "execute_result"
    }
   ],
   "source": [
    "s"
   ]
  },
  {
   "cell_type": "code",
   "execution_count": 68,
   "id": "aa199820",
   "metadata": {},
   "outputs": [
    {
     "name": "stdout",
     "output_type": "stream",
     "text": [
      "['AB', 'CD', ['EF']]\n"
     ]
    }
   ],
   "source": [
    "s = [\"AB\",\"CD\"]\n",
    "my_list = [\"EF\"]\n",
    "s.append(my_list)\n",
    "print(s)"
   ]
  },
  {
   "cell_type": "code",
   "execution_count": 73,
   "id": "1f811abe",
   "metadata": {},
   "outputs": [
    {
     "name": "stdout",
     "output_type": "stream",
     "text": [
      "['AB', 'CD', 'EF']\n"
     ]
    }
   ],
   "source": [
    "s = [\"AB\",\"CD\"]\n",
    "my_list = \"EF\"\n",
    "s.append(my_list)\n",
    "print(s)"
   ]
  },
  {
   "cell_type": "code",
   "execution_count": 78,
   "id": "c9579aba",
   "metadata": {},
   "outputs": [
    {
     "ename": "AttributeError",
     "evalue": "'str' object has no attribute 'append'",
     "output_type": "error",
     "traceback": [
      "\u001b[1;31m---------------------------------------------------------------------------\u001b[0m",
      "\u001b[1;31mAttributeError\u001b[0m                            Traceback (most recent call last)",
      "Cell \u001b[1;32mIn[78], line 2\u001b[0m\n\u001b[0;32m      1\u001b[0m s \u001b[38;5;241m=\u001b[39m \u001b[38;5;124m'\u001b[39m\u001b[38;5;124mA\u001b[39m\u001b[38;5;124m'\u001b[39m\u001b[38;5;124m'\u001b[39m\u001b[38;5;124mB\u001b[39m\u001b[38;5;124m'\u001b[39m\u001b[38;5;124m'\u001b[39m\u001b[38;5;124mC\u001b[39m\u001b[38;5;124m'\u001b[39m\u001b[38;5;124m'\u001b[39m\u001b[38;5;124mD\u001b[39m\u001b[38;5;124m'\u001b[39m\n\u001b[1;32m----> 2\u001b[0m s\u001b[38;5;241m.\u001b[39mappend(\u001b[38;5;124m\"\u001b[39m\u001b[38;5;124mEF\u001b[39m\u001b[38;5;124m\"\u001b[39m)\n\u001b[0;32m      3\u001b[0m \u001b[38;5;28mprint\u001b[39m(s)\n",
      "\u001b[1;31mAttributeError\u001b[0m: 'str' object has no attribute 'append'"
     ]
    }
   ],
   "source": [
    "s = 'A''B''C''D'\n",
    "s.append(\"EF\")\n",
    "print(s)"
   ]
  },
  {
   "cell_type": "code",
   "execution_count": 84,
   "id": "11796d34",
   "metadata": {},
   "outputs": [
    {
     "name": "stdout",
     "output_type": "stream",
     "text": [
      "Invalid\n"
     ]
    }
   ],
   "source": [
    "a=5\n",
    "b=10\n",
    "c=2\n",
    "d=1\n",
    "x=a+b*c\n",
    "y=a+b/d                         ######### value assign to d is 1 and not true----error\n",
    "if(x<=y):\n",
    "    print('Valid')\n",
    "else:\n",
    "    print('Invalid')"
   ]
  },
  {
   "cell_type": "code",
   "execution_count": 85,
   "id": "aa42e303",
   "metadata": {},
   "outputs": [
    {
     "name": "stdout",
     "output_type": "stream",
     "text": [
      "Invalid\n"
     ]
    }
   ],
   "source": [
    "a=5\n",
    "b=10\n",
    "c=2\n",
    "d=1\n",
    "x=a+b*c\n",
    "y=a+b/d\n",
    "if(x<y):\n",
    "    print('Valid')\n",
    "else:\n",
    "    print('Invalid')"
   ]
  },
  {
   "cell_type": "code",
   "execution_count": 86,
   "id": "ef45bc37",
   "metadata": {},
   "outputs": [
    {
     "name": "stdout",
     "output_type": "stream",
     "text": [
      "Invalid\n"
     ]
    }
   ],
   "source": [
    "a=5\n",
    "b=10\n",
    "c=2\n",
    "d=1\n",
    "x=a+b*c\n",
    "y=a+b/d\n",
    "if(x==y):\n",
    "    print('Valid')\n",
    "else:\n",
    "    print('Invalid')"
   ]
  },
  {
   "cell_type": "code",
   "execution_count": 87,
   "id": "e5813a67",
   "metadata": {},
   "outputs": [
    {
     "name": "stdout",
     "output_type": "stream",
     "text": [
      "Valid\n"
     ]
    }
   ],
   "source": [
    "a=5\n",
    "b=10\n",
    "c=2\n",
    "d=1\n",
    "x=a+b*c\n",
    "y=a+b/d\n",
    "if(x>y):\n",
    "    print('Valid')\n",
    "else:\n",
    "    print('Invalid')"
   ]
  },
  {
   "cell_type": "markdown",
   "id": "7e6efbef",
   "metadata": {},
   "source": [
    "####write the python program to read the two integer values from the keyboard and print the sum"
   ]
  },
  {
   "cell_type": "code",
   "execution_count": 1,
   "id": "39e2a0b3",
   "metadata": {},
   "outputs": [
    {
     "name": "stdout",
     "output_type": "stream",
     "text": [
      "Enter the First Number:10\n",
      "Enter the Second Number:20\n"
     ]
    }
   ],
   "source": [
    "x=input('Enter the First Number:')\n",
    "y=input('Enter the Second Number:')\n",
    "##Line-1              #######which of the following code we have to write in line-1 to get sum of given number"
   ]
  },
  {
   "cell_type": "code",
   "execution_count": 2,
   "id": "248e89b9",
   "metadata": {},
   "outputs": [
    {
     "ename": "TypeError",
     "evalue": "can only concatenate str (not \"int\") to str",
     "output_type": "error",
     "traceback": [
      "\u001b[1;31m---------------------------------------------------------------------------\u001b[0m",
      "\u001b[1;31mTypeError\u001b[0m                                 Traceback (most recent call last)",
      "Cell \u001b[1;32mIn[2], line 1\u001b[0m\n\u001b[1;32m----> 1\u001b[0m \u001b[38;5;28mprint\u001b[39m(\u001b[38;5;124m'\u001b[39m\u001b[38;5;124mThe Result:\u001b[39m\u001b[38;5;124m'\u001b[39m\u001b[38;5;241m+\u001b[39m(\u001b[38;5;28mint\u001b[39m(x\u001b[38;5;241m+\u001b[39my)))\n",
      "\u001b[1;31mTypeError\u001b[0m: can only concatenate str (not \"int\") to str"
     ]
    }
   ],
   "source": [
    "print('The Result:'+(int(x+y)))"
   ]
  },
  {
   "cell_type": "code",
   "execution_count": 3,
   "id": "6a201a83",
   "metadata": {},
   "outputs": [
    {
     "name": "stdout",
     "output_type": "stream",
     "text": [
      "The Result:30\n"
     ]
    }
   ],
   "source": [
    "print('The Result:'+str(int(x)+int(y)))   ######this is the write code"
   ]
  },
  {
   "cell_type": "code",
   "execution_count": 4,
   "id": "7c3d71ab",
   "metadata": {},
   "outputs": [
    {
     "name": "stdout",
     "output_type": "stream",
     "text": [
      "The Result:1020\n"
     ]
    }
   ],
   "source": [
    "print('The Result:'+str(int(x+y)))"
   ]
  },
  {
   "cell_type": "code",
   "execution_count": 5,
   "id": "73e909ad",
   "metadata": {},
   "outputs": [
    {
     "ename": "TypeError",
     "evalue": "can only concatenate str (not \"int\") to str",
     "output_type": "error",
     "traceback": [
      "\u001b[1;31m---------------------------------------------------------------------------\u001b[0m",
      "\u001b[1;31mTypeError\u001b[0m                                 Traceback (most recent call last)",
      "Cell \u001b[1;32mIn[5], line 1\u001b[0m\n\u001b[1;32m----> 1\u001b[0m \u001b[38;5;28mprint\u001b[39m(\u001b[38;5;124m'\u001b[39m\u001b[38;5;124mThe Result:\u001b[39m\u001b[38;5;124m'\u001b[39m\u001b[38;5;241m+\u001b[39m(\u001b[38;5;28mint\u001b[39m(x)\u001b[38;5;241m+\u001b[39m\u001b[38;5;28mint\u001b[39m(y)))\n",
      "\u001b[1;31mTypeError\u001b[0m: can only concatenate str (not \"int\") to str"
     ]
    }
   ],
   "source": [
    "print('The Result:'+(int(x)+int(y)))"
   ]
  },
  {
   "cell_type": "markdown",
   "id": "018d2757",
   "metadata": {},
   "source": [
    "########### 12 consider the following expression  ###which of the following are valid"
   ]
  },
  {
   "cell_type": "code",
   "execution_count": 8,
   "id": "942746c2",
   "metadata": {},
   "outputs": [],
   "source": [
    "a=5\n",
    "b=10\n",
    "c=2\n",
    "d=1\n",
    "result=a-b*c+d"
   ]
  },
  {
   "cell_type": "code",
   "execution_count": 9,
   "id": "f1765fff",
   "metadata": {},
   "outputs": [
    {
     "data": {
      "text/plain": [
       "-5"
      ]
     },
     "execution_count": 9,
     "metadata": {},
     "output_type": "execute_result"
    }
   ],
   "source": [
    "a-b ##first a-b will be evaluated followed by multiplication and addition"
   ]
  },
  {
   "cell_type": "code",
   "execution_count": 10,
   "id": "666d8ab4",
   "metadata": {},
   "outputs": [
    {
     "data": {
      "text/plain": [
       "20"
      ]
     },
     "execution_count": 10,
     "metadata": {},
     "output_type": "execute_result"
    }
   ],
   "source": [
    "b*c   ##first b*c will be evaluated followed by addition and substraction"
   ]
  },
  {
   "cell_type": "code",
   "execution_count": 11,
   "id": "05b3995d",
   "metadata": {},
   "outputs": [
    {
     "data": {
      "text/plain": [
       "-14"
      ]
     },
     "execution_count": 11,
     "metadata": {},
     "output_type": "execute_result"
    }
   ],
   "source": [
    "a-(b*c)+d   ###the above expression is equivalent to the -(b*c)+d"
   ]
  },
  {
   "cell_type": "code",
   "execution_count": 12,
   "id": "0002a70e",
   "metadata": {},
   "outputs": [
    {
     "data": {
      "text/plain": [
       "20"
      ]
     },
     "execution_count": 12,
     "metadata": {},
     "output_type": "execute_result"
    }
   ],
   "source": [
    "b*c   ##first b*c will be evaluated followed by substaction and addition"
   ]
  },
  {
   "cell_type": "code",
   "execution_count": 13,
   "id": "d1f7e698",
   "metadata": {},
   "outputs": [
    {
     "data": {
      "text/plain": [
       "-14"
      ]
     },
     "execution_count": 13,
     "metadata": {},
     "output_type": "execute_result"
    }
   ],
   "source": [
    "result  ### hence  ###the above expression is equivalent to the -(b*c)+d\n",
    "        ##first b*c will be evaluated followed by substaction and addition"
   ]
  },
  {
   "cell_type": "markdown",
   "id": "0c83035e",
   "metadata": {},
   "source": [
    "#########13 consider the following python   the type of weight,zip,value respectively:"
   ]
  },
  {
   "cell_type": "code",
   "execution_count": 14,
   "id": "0b724227",
   "metadata": {},
   "outputs": [],
   "source": [
    "weight=62.4\n",
    "zip='80098'\n",
    "value=23E4"
   ]
  },
  {
   "cell_type": "code",
   "execution_count": 16,
   "id": "3963620d",
   "metadata": {},
   "outputs": [
    {
     "data": {
      "text/plain": [
       "float"
      ]
     },
     "execution_count": 16,
     "metadata": {},
     "output_type": "execute_result"
    }
   ],
   "source": [
    "type(weight)"
   ]
  },
  {
   "cell_type": "code",
   "execution_count": 17,
   "id": "99847992",
   "metadata": {},
   "outputs": [
    {
     "data": {
      "text/plain": [
       "str"
      ]
     },
     "execution_count": 17,
     "metadata": {},
     "output_type": "execute_result"
    }
   ],
   "source": [
    "type(zip)"
   ]
  },
  {
   "cell_type": "code",
   "execution_count": 18,
   "id": "74b75178",
   "metadata": {},
   "outputs": [
    {
     "data": {
      "text/plain": [
       "float"
      ]
     },
     "execution_count": 18,
     "metadata": {},
     "output_type": "execute_result"
    }
   ],
   "source": [
    "type(value)"
   ]
  },
  {
   "cell_type": "markdown",
   "id": "ea3bc47e",
   "metadata": {},
   "source": [
    "####14 you are writting the python program. You required the handle data types properly\n",
    "consider the code statement.....identify the type of a,b,c?"
   ]
  },
  {
   "cell_type": "code",
   "execution_count": 19,
   "id": "4dfca95d",
   "metadata": {},
   "outputs": [],
   "source": [
    "a=10+20\n",
    "b='10'+'20'\n",
    "c='10'*3"
   ]
  },
  {
   "cell_type": "code",
   "execution_count": 20,
   "id": "de1a87dc",
   "metadata": {},
   "outputs": [
    {
     "data": {
      "text/plain": [
       "int"
      ]
     },
     "execution_count": 20,
     "metadata": {},
     "output_type": "execute_result"
    }
   ],
   "source": [
    "type(a)"
   ]
  },
  {
   "cell_type": "code",
   "execution_count": 21,
   "id": "1beac8c7",
   "metadata": {},
   "outputs": [
    {
     "data": {
      "text/plain": [
       "str"
      ]
     },
     "execution_count": 21,
     "metadata": {},
     "output_type": "execute_result"
    }
   ],
   "source": [
    "type(b)"
   ]
  },
  {
   "cell_type": "code",
   "execution_count": 24,
   "id": "44c099b0",
   "metadata": {},
   "outputs": [
    {
     "data": {
      "text/plain": [
       "int"
      ]
     },
     "execution_count": 24,
     "metadata": {},
     "output_type": "execute_result"
    }
   ],
   "source": [
    "type(c)"
   ]
  },
  {
   "cell_type": "markdown",
   "id": "93af781d",
   "metadata": {},
   "source": [
    "#### 15 which of variable represent false"
   ]
  },
  {
   "cell_type": "code",
   "execution_count": 12,
   "id": "e2b9f73f",
   "metadata": {},
   "outputs": [],
   "source": [
    "a=bool([False])  ## for empty str, empty tuple, empty list, empty set, empty dict and range(0)\n",
    "b=bool(3)        ## argument bool() function return false\n",
    "c=bool(\"\")\n",
    "d=bool(' ')"
   ]
  },
  {
   "cell_type": "code",
   "execution_count": 3,
   "id": "6948d015",
   "metadata": {},
   "outputs": [
    {
     "data": {
      "text/plain": [
       "True"
      ]
     },
     "execution_count": 3,
     "metadata": {},
     "output_type": "execute_result"
    }
   ],
   "source": [
    "a"
   ]
  },
  {
   "cell_type": "code",
   "execution_count": 4,
   "id": "12b3c0a4",
   "metadata": {},
   "outputs": [
    {
     "data": {
      "text/plain": [
       "True"
      ]
     },
     "execution_count": 4,
     "metadata": {},
     "output_type": "execute_result"
    }
   ],
   "source": [
    "b"
   ]
  },
  {
   "cell_type": "code",
   "execution_count": 8,
   "id": "b6fb6a92",
   "metadata": {},
   "outputs": [
    {
     "data": {
      "text/plain": [
       "False"
      ]
     },
     "execution_count": 8,
     "metadata": {},
     "output_type": "execute_result"
    }
   ],
   "source": [
    "c"
   ]
  },
  {
   "cell_type": "code",
   "execution_count": 13,
   "id": "3e325f9d",
   "metadata": {},
   "outputs": [
    {
     "data": {
      "text/plain": [
       "True"
      ]
     },
     "execution_count": 13,
     "metadata": {},
     "output_type": "execute_result"
    }
   ],
   "source": [
    "d"
   ]
  },
  {
   "cell_type": "markdown",
   "id": "59c926e3",
   "metadata": {},
   "source": [
    "### 16 consider the following expression what is the result value"
   ]
  },
  {
   "cell_type": "code",
   "execution_count": 14,
   "id": "4cfd6daf",
   "metadata": {},
   "outputs": [],
   "source": [
    "result=(2*(3+4)**2-(3**3)*3)  ####\n",
    "####Let's break down the expression step by step:\n",
    "\n",
    "##Inside the innermost parentheses, we have the addition operation (3 + 4), which evaluates to 7.\n",
    "\n",
    "## Next, we have (7)**2, which is the square of 7, resulting in 49.\n",
    "\n",
    "##Moving on, we have (3**3), which is the cube of 3, resulting in 27.\n",
    "\n",
    "## Now, we multiply 27 by 3, resulting in 81.\n",
    "\n",
    "## We then have 2 * 49, which is 98.\n",
    "\n",
    "## Finally, we subtract 81 from 98, giving us the final result:"
   ]
  },
  {
   "cell_type": "code",
   "execution_count": 15,
   "id": "7c2ad083",
   "metadata": {},
   "outputs": [
    {
     "data": {
      "text/plain": [
       "17"
      ]
     },
     "execution_count": 15,
     "metadata": {},
     "output_type": "execute_result"
    }
   ],
   "source": [
    "result"
   ]
  },
  {
   "cell_type": "markdown",
   "id": "eb79075d",
   "metadata": {},
   "source": [
    "### 17 consider the code...to make a value 9,which expression is required to place at line 1"
   ]
  },
  {
   "cell_type": "code",
   "execution_count": 47,
   "id": "2780eb98",
   "metadata": {},
   "outputs": [],
   "source": [
    "a=2\n",
    "a+=1"
   ]
  },
  {
   "cell_type": "code",
   "execution_count": 48,
   "id": "7abb5347",
   "metadata": {},
   "outputs": [
    {
     "data": {
      "text/plain": [
       "3"
      ]
     },
     "execution_count": 48,
     "metadata": {},
     "output_type": "execute_result"
    }
   ],
   "source": [
    "a"
   ]
  },
  {
   "cell_type": "code",
   "execution_count": 49,
   "id": "b3a821ba",
   "metadata": {},
   "outputs": [],
   "source": [
    "b*=2\n",
    "b+=1"
   ]
  },
  {
   "cell_type": "code",
   "execution_count": 50,
   "id": "5a99753e",
   "metadata": {},
   "outputs": [
    {
     "data": {
      "text/plain": [
       "3"
      ]
     },
     "execution_count": 50,
     "metadata": {},
     "output_type": "execute_result"
    }
   ],
   "source": [
    "b"
   ]
  },
  {
   "cell_type": "code",
   "execution_count": 51,
   "id": "48de450d",
   "metadata": {},
   "outputs": [],
   "source": [
    "a*=2\n",
    "a+=1"
   ]
  },
  {
   "cell_type": "code",
   "execution_count": 58,
   "id": "70e2682a",
   "metadata": {},
   "outputs": [
    {
     "data": {
      "text/plain": [
       "49"
      ]
     },
     "execution_count": 58,
     "metadata": {},
     "output_type": "execute_result"
    }
   ],
   "source": [
    "a"
   ]
  },
  {
   "cell_type": "code",
   "execution_count": 64,
   "id": "c334032e",
   "metadata": {},
   "outputs": [],
   "source": [
    "a='3'"
   ]
  },
  {
   "cell_type": "code",
   "execution_count": 65,
   "id": "74f810b5",
   "metadata": {},
   "outputs": [
    {
     "ename": "SyntaxError",
     "evalue": "'literal' is an illegal expression for augmented assignment (1600005813.py, line 1)",
     "output_type": "error",
     "traceback": [
      "\u001b[1;36m  Cell \u001b[1;32mIn[65], line 1\u001b[1;36m\u001b[0m\n\u001b[1;33m    3**=2\u001b[0m\n\u001b[1;37m    ^\u001b[0m\n\u001b[1;31mSyntaxError\u001b[0m\u001b[1;31m:\u001b[0m 'literal' is an illegal expression for augmented assignment\n"
     ]
    }
   ],
   "source": [
    "3**=2\n",
    "3+=1"
   ]
  },
  {
   "cell_type": "markdown",
   "id": "e666e80e",
   "metadata": {},
   "source": [
    "### 18 which variable represent true\n"
   ]
  },
  {
   "cell_type": "code",
   "execution_count": 71,
   "id": "e4ecdc66",
   "metadata": {},
   "outputs": [],
   "source": [
    "a=bool(0)\n",
    "b=bool(3)\n",
    "c=bool(0.5)\n",
    "d=bool(0.0)"
   ]
  },
  {
   "cell_type": "code",
   "execution_count": 67,
   "id": "9fdc7113",
   "metadata": {},
   "outputs": [
    {
     "data": {
      "text/plain": [
       "False"
      ]
     },
     "execution_count": 67,
     "metadata": {},
     "output_type": "execute_result"
    }
   ],
   "source": [
    "a"
   ]
  },
  {
   "cell_type": "code",
   "execution_count": 72,
   "id": "9d210562",
   "metadata": {},
   "outputs": [
    {
     "data": {
      "text/plain": [
       "True"
      ]
     },
     "execution_count": 72,
     "metadata": {},
     "output_type": "execute_result"
    }
   ],
   "source": [
    "b"
   ]
  },
  {
   "cell_type": "code",
   "execution_count": 69,
   "id": "9734fab6",
   "metadata": {},
   "outputs": [
    {
     "data": {
      "text/plain": [
       "1"
      ]
     },
     "execution_count": 69,
     "metadata": {},
     "output_type": "execute_result"
    }
   ],
   "source": [
    "c"
   ]
  },
  {
   "cell_type": "code",
   "execution_count": 70,
   "id": "ffdf7e5f",
   "metadata": {},
   "outputs": [
    {
     "data": {
      "text/plain": [
       "True"
      ]
     },
     "execution_count": 70,
     "metadata": {},
     "output_type": "execute_result"
    }
   ],
   "source": [
    "d"
   ]
  },
  {
   "cell_type": "markdown",
   "id": "3f0b8a81",
   "metadata": {},
   "source": [
    "#### 19"
   ]
  },
  {
   "cell_type": "code",
   "execution_count": 73,
   "id": "40a91d8a",
   "metadata": {},
   "outputs": [
    {
     "name": "stdout",
     "output_type": "stream",
     "text": [
      "3.5\n"
     ]
    }
   ],
   "source": [
    "a=21\n",
    "b=6\n",
    "print(a/b)## always perfor floating in python\n"
   ]
  },
  {
   "cell_type": "code",
   "execution_count": 74,
   "id": "cdd9f70e",
   "metadata": {},
   "outputs": [
    {
     "name": "stdout",
     "output_type": "stream",
     "text": [
      "3\n"
     ]
    }
   ],
   "source": [
    "print(a//b) ## perform both int and flote depends on expression"
   ]
  },
  {
   "cell_type": "code",
   "execution_count": 75,
   "id": "760a1d43",
   "metadata": {},
   "outputs": [
    {
     "name": "stdout",
     "output_type": "stream",
     "text": [
      "3\n"
     ]
    }
   ],
   "source": [
    "print(a%b) ## give remaider"
   ]
  },
  {
   "cell_type": "markdown",
   "id": "6fb94a72",
   "metadata": {},
   "source": [
    "## 20"
   ]
  },
  {
   "cell_type": "code",
   "execution_count": 78,
   "id": "9f978a6a",
   "metadata": {},
   "outputs": [],
   "source": [
    "employees=[\"Employee1\", \"Employee2\", ..., \"Employee498\", \"Manager1\", \"Manager2\", \"Manager3\"]\n",
    "\n",
    "management_employees = employees[-3:]\n"
   ]
  },
  {
   "cell_type": "code",
   "execution_count": 79,
   "id": "8578911b",
   "metadata": {},
   "outputs": [
    {
     "data": {
      "text/plain": [
       "['Employee1',\n",
       " 'Employee2',\n",
       " Ellipsis,\n",
       " 'Employee498',\n",
       " 'Manager1',\n",
       " 'Manager2',\n",
       " 'Manager3']"
      ]
     },
     "execution_count": 79,
     "metadata": {},
     "output_type": "execute_result"
    }
   ],
   "source": [
    "employees"
   ]
  },
  {
   "cell_type": "code",
   "execution_count": 80,
   "id": "3ffb2a42",
   "metadata": {},
   "outputs": [],
   "source": [
    "management_employees = employees[-3:]\n"
   ]
  },
  {
   "cell_type": "code",
   "execution_count": 81,
   "id": "d7c89534",
   "metadata": {},
   "outputs": [
    {
     "data": {
      "text/plain": [
       "['Manager1', 'Manager2', 'Manager3']"
      ]
     },
     "execution_count": 81,
     "metadata": {},
     "output_type": "execute_result"
    }
   ],
   "source": [
    "management_employees"
   ]
  },
  {
   "cell_type": "code",
   "execution_count": 82,
   "id": "5384b626",
   "metadata": {},
   "outputs": [
    {
     "name": "stdout",
     "output_type": "stream",
     "text": [
      "Management Employees: ['Manager1', 'Manager2', 'Manager3']\n"
     ]
    }
   ],
   "source": [
    "management_employees = employees[-3:]\n",
    "print(\"Management Employees:\", management_employees)"
   ]
  },
  {
   "cell_type": "code",
   "execution_count": 86,
   "id": "b34f1f4d",
   "metadata": {},
   "outputs": [
    {
     "name": "stdout",
     "output_type": "stream",
     "text": [
      "Management Employees: []\n"
     ]
    }
   ],
   "source": [
    "management_employees = employees[497:]\n",
    "print(\"Management Employees:\", management_employees)"
   ]
  },
  {
   "cell_type": "code",
   "execution_count": 87,
   "id": "5e2b367f",
   "metadata": {},
   "outputs": [],
   "source": [
    "employees=[\"Employee1\", \"Employee2\", ..., \"Employee497\", \"Manager1\", \"Manager2\", \"Manager3\"]\n",
    "\n",
    "management_employees = employees[-3:]"
   ]
  },
  {
   "cell_type": "code",
   "execution_count": 88,
   "id": "1edbfbae",
   "metadata": {},
   "outputs": [
    {
     "data": {
      "text/plain": [
       "['Manager1', 'Manager2', 'Manager3']"
      ]
     },
     "execution_count": 88,
     "metadata": {},
     "output_type": "execute_result"
    }
   ],
   "source": [
    "management_employees"
   ]
  },
  {
   "cell_type": "code",
   "execution_count": 91,
   "id": "3bf21a6f",
   "metadata": {},
   "outputs": [],
   "source": [
    "employees=[\"Employee1\", \"Employee2\", ..., \"Employee497\", \"Manager1\", \"Manager2\", \"Manager3\"]\n",
    "\n",
    "management_employees = employees[497:]"
   ]
  },
  {
   "cell_type": "code",
   "execution_count": 92,
   "id": "e229d374",
   "metadata": {},
   "outputs": [
    {
     "data": {
      "text/plain": [
       "[]"
      ]
     },
     "execution_count": 92,
     "metadata": {},
     "output_type": "execute_result"
    }
   ],
   "source": [
    "management_employees"
   ]
  },
  {
   "cell_type": "code",
   "execution_count": 94,
   "id": "a277938b",
   "metadata": {},
   "outputs": [],
   "source": [
    "employees=[\"Employee1\", \"Employee2\", ..., \"Employee497\", \"Manager1\", \"Manager2\", \"Manager3\"]\n",
    "\n",
    "management_employees = employees[497:500]"
   ]
  },
  {
   "cell_type": "code",
   "execution_count": 95,
   "id": "260a462a",
   "metadata": {},
   "outputs": [
    {
     "data": {
      "text/plain": [
       "[]"
      ]
     },
     "execution_count": 95,
     "metadata": {},
     "output_type": "execute_result"
    }
   ],
   "source": [
    "management_employees"
   ]
  },
  {
   "cell_type": "code",
   "execution_count": 96,
   "id": "00082325",
   "metadata": {},
   "outputs": [
    {
     "name": "stdout",
     "output_type": "stream",
     "text": [
      "Management Employees: ['Manager1', 'Manager2', 'Manager3']\n"
     ]
    }
   ],
   "source": [
    "employees = [\"Employee\" + str(i) for i in range(1, 498)] + [\"Manager1\", \"Manager2\", \"Manager3\"]\n",
    "management_employees = employees[497:]\n",
    "print(\"Management Employees:\", management_employees)"
   ]
  },
  {
   "cell_type": "code",
   "execution_count": 97,
   "id": "18b01fb3",
   "metadata": {},
   "outputs": [
    {
     "name": "stdout",
     "output_type": "stream",
     "text": [
      "Management Employees: ['Manager1', 'Manager2', 'Manager3']\n"
     ]
    }
   ],
   "source": [
    "employees = [\"Employee\" + str(i) for i in range(1, 498)] + [\"Manager1\", \"Manager2\", \"Manager3\"]\n",
    "management_employees = employees[497:500]\n",
    "print(\"Management Employees:\", management_employees)"
   ]
  },
  {
   "cell_type": "markdown",
   "id": "1baacfed",
   "metadata": {},
   "source": [
    "##21"
   ]
  },
  {
   "cell_type": "code",
   "execution_count": 98,
   "id": "25b4b277",
   "metadata": {},
   "outputs": [],
   "source": [
    "subjects=['java','python','sap']\n",
    "more_subjects=['java','python','sap']\n",
    "subjects=more_subjects"
   ]
  },
  {
   "cell_type": "code",
   "execution_count": 99,
   "id": "4165c482",
   "metadata": {},
   "outputs": [],
   "source": [
    "subjects=['java','python','sap']\n",
    "more_subjects=['java','python','sap']\n",
    "extra_subjects=more_subjects"
   ]
  },
  {
   "cell_type": "code",
   "execution_count": 100,
   "id": "0667f1f5",
   "metadata": {},
   "outputs": [
    {
     "name": "stdout",
     "output_type": "stream",
     "text": [
      "True\n"
     ]
    }
   ],
   "source": [
    "print(extra_subjects is more_subjects)"
   ]
  },
  {
   "cell_type": "code",
   "execution_count": 101,
   "id": "acff5245",
   "metadata": {},
   "outputs": [
    {
     "name": "stdout",
     "output_type": "stream",
     "text": [
      "False\n"
     ]
    }
   ],
   "source": [
    "print(subjects is more_subjects)"
   ]
  },
  {
   "cell_type": "code",
   "execution_count": 102,
   "id": "063830a5",
   "metadata": {},
   "outputs": [
    {
     "name": "stdout",
     "output_type": "stream",
     "text": [
      "False\n"
     ]
    }
   ],
   "source": [
    "print(subjects is extra_subjects)"
   ]
  },
  {
   "cell_type": "code",
   "execution_count": 103,
   "id": "f519ba43",
   "metadata": {},
   "outputs": [
    {
     "name": "stdout",
     "output_type": "stream",
     "text": [
      "True\n"
     ]
    }
   ],
   "source": [
    "print(subjects==extra_subjects)"
   ]
  },
  {
   "cell_type": "markdown",
   "id": "c3bc6263",
   "metadata": {},
   "source": [
    "## 22"
   ]
  },
  {
   "cell_type": "code",
   "execution_count": 111,
   "id": "e5239a91",
   "metadata": {},
   "outputs": [],
   "source": [
    "employees=[\"Employee1\", \"Employee2\", ..., \"Employee500\"] ### slice operator never gives indexerror"
   ]
  },
  {
   "cell_type": "code",
   "execution_count": 112,
   "id": "74475fa1",
   "metadata": {},
   "outputs": [
    {
     "data": {
      "text/plain": [
       "['Employee1', 'Employee2', Ellipsis, 'Employee500']"
      ]
     },
     "execution_count": 112,
     "metadata": {},
     "output_type": "execute_result"
    }
   ],
   "source": [
    "employees"
   ]
  },
  {
   "cell_type": "code",
   "execution_count": 113,
   "id": "95717096",
   "metadata": {},
   "outputs": [
    {
     "data": {
      "text/plain": [
       "['Employee1', 'Employee2', Ellipsis, 'Employee500']"
      ]
     },
     "execution_count": 113,
     "metadata": {},
     "output_type": "execute_result"
    }
   ],
   "source": [
    "employees[0:501]"
   ]
  },
  {
   "cell_type": "code",
   "execution_count": 114,
   "id": "82c380c8",
   "metadata": {},
   "outputs": [
    {
     "data": {
      "text/plain": [
       "['Employee2', Ellipsis, 'Employee500']"
      ]
     },
     "execution_count": 114,
     "metadata": {},
     "output_type": "execute_result"
    }
   ],
   "source": [
    "employees[1:1000]"
   ]
  },
  {
   "cell_type": "code",
   "execution_count": 115,
   "id": "99bb4305",
   "metadata": {},
   "outputs": [
    {
     "data": {
      "text/plain": [
       "['Employee1', 'Employee2', Ellipsis, 'Employee500']"
      ]
     },
     "execution_count": 115,
     "metadata": {},
     "output_type": "execute_result"
    }
   ],
   "source": [
    "employees[-10:10]"
   ]
  },
  {
   "cell_type": "markdown",
   "id": "ee3362d3",
   "metadata": {},
   "source": [
    "## 23"
   ]
  },
  {
   "cell_type": "code",
   "execution_count": 116,
   "id": "39c719e1",
   "metadata": {},
   "outputs": [
    {
     "name": "stdout",
     "output_type": "stream",
     "text": [
      "False\n",
      "False\n",
      "True\n",
      "True\n"
     ]
    }
   ],
   "source": [
    "numbers=[10,20,30,40,50]\n",
    "alphabets=['a','b','c','d','e']\n",
    "print(numbers is alphabets)  ## is operator is always reference comparision\n",
    "print(numbers==alphabets)  ## == operator is always content comparision\n",
    "numbers=alphabets\n",
    "print(numbers is alphabets)\n",
    "print(numbers is alphabets)"
   ]
  },
  {
   "cell_type": "markdown",
   "id": "64dcdbcc",
   "metadata": {},
   "source": [
    "## 24 the types of age, minor, name variable comparitivly"
   ]
  },
  {
   "cell_type": "code",
   "execution_count": 117,
   "id": "1e1f0e05",
   "metadata": {},
   "outputs": [],
   "source": [
    "age=8\n",
    "minor=False\n",
    "name='Parth'"
   ]
  },
  {
   "cell_type": "code",
   "execution_count": 120,
   "id": "c2e5b43d",
   "metadata": {},
   "outputs": [
    {
     "data": {
      "text/plain": [
       "int"
      ]
     },
     "execution_count": 120,
     "metadata": {},
     "output_type": "execute_result"
    }
   ],
   "source": [
    "type(age)"
   ]
  },
  {
   "cell_type": "code",
   "execution_count": 121,
   "id": "a2b3dc0e",
   "metadata": {},
   "outputs": [
    {
     "data": {
      "text/plain": [
       "bool"
      ]
     },
     "execution_count": 121,
     "metadata": {},
     "output_type": "execute_result"
    }
   ],
   "source": [
    "type(minor)"
   ]
  },
  {
   "cell_type": "code",
   "execution_count": 122,
   "id": "4d58053c",
   "metadata": {},
   "outputs": [
    {
     "data": {
      "text/plain": [
       "str"
      ]
     },
     "execution_count": 122,
     "metadata": {},
     "output_type": "execute_result"
    }
   ],
   "source": [
    "type(name)"
   ]
  },
  {
   "cell_type": "markdown",
   "id": "d5457071",
   "metadata": {},
   "source": [
    "## 25 which expression generate max value"
   ]
  },
  {
   "cell_type": "code",
   "execution_count": 124,
   "id": "e6004f71",
   "metadata": {},
   "outputs": [],
   "source": [
    "a=8//3*4\n",
    "b=8/3*4 ## b print max value\n",
    "c=8%3*4\n",
    "d=8-3*4"
   ]
  },
  {
   "cell_type": "code",
   "execution_count": 125,
   "id": "5f5a5c50",
   "metadata": {},
   "outputs": [
    {
     "data": {
      "text/plain": [
       "8"
      ]
     },
     "execution_count": 125,
     "metadata": {},
     "output_type": "execute_result"
    }
   ],
   "source": [
    "a"
   ]
  },
  {
   "cell_type": "code",
   "execution_count": 126,
   "id": "a2075281",
   "metadata": {},
   "outputs": [
    {
     "data": {
      "text/plain": [
       "10.666666666666666"
      ]
     },
     "execution_count": 126,
     "metadata": {},
     "output_type": "execute_result"
    }
   ],
   "source": [
    "b"
   ]
  },
  {
   "cell_type": "code",
   "execution_count": 127,
   "id": "41ebbea1",
   "metadata": {},
   "outputs": [
    {
     "data": {
      "text/plain": [
       "8"
      ]
     },
     "execution_count": 127,
     "metadata": {},
     "output_type": "execute_result"
    }
   ],
   "source": [
    "c"
   ]
  },
  {
   "cell_type": "code",
   "execution_count": 128,
   "id": "de582278",
   "metadata": {},
   "outputs": [
    {
     "data": {
      "text/plain": [
       "-4"
      ]
     },
     "execution_count": 128,
     "metadata": {},
     "output_type": "execute_result"
    }
   ],
   "source": [
    "d"
   ]
  },
  {
   "cell_type": "markdown",
   "id": "db6aa49f",
   "metadata": {},
   "source": [
    "## 26 to print 2 as output which code insert at line 1"
   ]
  },
  {
   "cell_type": "code",
   "execution_count": 135,
   "id": "3a1660f1",
   "metadata": {},
   "outputs": [
    {
     "name": "stdout",
     "output_type": "stream",
     "text": [
      "0\n"
     ]
    }
   ],
   "source": [
    "s='python is easy'\n",
    "s1=s[6:-4]\n",
    "#line1\n",
    "print(len(s2))"
   ]
  },
  {
   "cell_type": "code",
   "execution_count": 136,
   "id": "d3411390",
   "metadata": {},
   "outputs": [
    {
     "name": "stdout",
     "output_type": "stream",
     "text": [
      "2\n"
     ]
    }
   ],
   "source": [
    "s='python is easy'\n",
    "s1=s[6:-4]\n",
    "s2=s1.strip()## remove spaces present at left and right side of string\n",
    "print(len(s2))"
   ]
  },
  {
   "cell_type": "code",
   "execution_count": 137,
   "id": "7aa1b57b",
   "metadata": {},
   "outputs": [
    {
     "name": "stdout",
     "output_type": "stream",
     "text": [
      "3\n"
     ]
    }
   ],
   "source": [
    "s='python is easy'\n",
    "s1=s[6:-4]\n",
    "s2=s1.rstrip()## remove spaces present at right side of string\n",
    "print(len(s2))"
   ]
  },
  {
   "cell_type": "code",
   "execution_count": 138,
   "id": "25261b1c",
   "metadata": {},
   "outputs": [
    {
     "name": "stdout",
     "output_type": "stream",
     "text": [
      "3\n"
     ]
    }
   ],
   "source": [
    "s='python is easy'\n",
    "s1=s[6:-4]\n",
    "s2=s1.lstrip()## remove spaces present at left side of string\n",
    "print(len(s2))"
   ]
  },
  {
   "cell_type": "code",
   "execution_count": 141,
   "id": "b40c91f6",
   "metadata": {},
   "outputs": [
    {
     "ename": "AttributeError",
     "evalue": "'str' object has no attribute 'lrstrip'",
     "output_type": "error",
     "traceback": [
      "\u001b[1;31m---------------------------------------------------------------------------\u001b[0m",
      "\u001b[1;31mAttributeError\u001b[0m                            Traceback (most recent call last)",
      "Cell \u001b[1;32mIn[141], line 3\u001b[0m\n\u001b[0;32m      1\u001b[0m s\u001b[38;5;241m=\u001b[39m\u001b[38;5;124m'\u001b[39m\u001b[38;5;124mpython is easy\u001b[39m\u001b[38;5;124m'\u001b[39m\n\u001b[0;32m      2\u001b[0m s1\u001b[38;5;241m=\u001b[39ms[\u001b[38;5;241m6\u001b[39m:\u001b[38;5;241m-\u001b[39m\u001b[38;5;241m4\u001b[39m]\n\u001b[1;32m----> 3\u001b[0m s2\u001b[38;5;241m=\u001b[39ms1\u001b[38;5;241m.\u001b[39mlrstrip()\n\u001b[0;32m      4\u001b[0m \u001b[38;5;28mprint\u001b[39m(\u001b[38;5;28mlen\u001b[39m(s2))\n",
      "\u001b[1;31mAttributeError\u001b[0m: 'str' object has no attribute 'lrstrip'"
     ]
    }
   ],
   "source": [
    "s='python is easy'\n",
    "s1=s[6:-4]\n",
    "s2=s1.lrstrip()## their is no such command present hence give error\n",
    "print(len(s2))"
   ]
  },
  {
   "cell_type": "markdown",
   "id": "c22e9096",
   "metadata": {},
   "source": [
    "## 27 need to slice emplyoyees to display all emplyoyees excluding managment employee"
   ]
  },
  {
   "cell_type": "code",
   "execution_count": 142,
   "id": "96d33a9c",
   "metadata": {},
   "outputs": [],
   "source": [
    "employees=[\"Employee1\", \"Employee2\", ..., \"Employee597\", \"Manager1\", \"Manager2\", \"Manager3\"]"
   ]
  },
  {
   "cell_type": "code",
   "execution_count": 143,
   "id": "61dcb365",
   "metadata": {},
   "outputs": [
    {
     "data": {
      "text/plain": [
       "['Employee1',\n",
       " 'Employee2',\n",
       " Ellipsis,\n",
       " 'Employee597',\n",
       " 'Manager1',\n",
       " 'Manager2',\n",
       " 'Manager3']"
      ]
     },
     "execution_count": 143,
     "metadata": {},
     "output_type": "execute_result"
    }
   ],
   "source": [
    "employees"
   ]
  },
  {
   "cell_type": "code",
   "execution_count": 145,
   "id": "784cc8c8",
   "metadata": {},
   "outputs": [
    {
     "data": {
      "text/plain": [
       "['Employee2', Ellipsis, 'Employee597']"
      ]
     },
     "execution_count": 145,
     "metadata": {},
     "output_type": "execute_result"
    }
   ],
   "source": [
    "employees[1:-3]"
   ]
  },
  {
   "cell_type": "code",
   "execution_count": 146,
   "id": "43cbbee9",
   "metadata": {},
   "outputs": [
    {
     "name": "stdout",
     "output_type": "stream",
     "text": [
      "['Employee2', 'Employee3', 'Employee4', 'Employee5', 'Employee6', 'Employee7', 'Employee8', 'Employee9', 'Employee10', 'Employee11', 'Employee12', 'Employee13', 'Employee14', 'Employee15', 'Employee16', 'Employee17', 'Employee18', 'Employee19', 'Employee20', 'Employee21', 'Employee22', 'Employee23', 'Employee24', 'Employee25', 'Employee26', 'Employee27', 'Employee28', 'Employee29', 'Employee30', 'Employee31', 'Employee32', 'Employee33', 'Employee34', 'Employee35', 'Employee36', 'Employee37', 'Employee38', 'Employee39', 'Employee40', 'Employee41', 'Employee42', 'Employee43', 'Employee44', 'Employee45', 'Employee46', 'Employee47', 'Employee48', 'Employee49', 'Employee50', 'Employee51', 'Employee52', 'Employee53', 'Employee54', 'Employee55', 'Employee56', 'Employee57', 'Employee58', 'Employee59', 'Employee60', 'Employee61', 'Employee62', 'Employee63', 'Employee64', 'Employee65', 'Employee66', 'Employee67', 'Employee68', 'Employee69', 'Employee70', 'Employee71', 'Employee72', 'Employee73', 'Employee74', 'Employee75', 'Employee76', 'Employee77', 'Employee78', 'Employee79', 'Employee80', 'Employee81', 'Employee82', 'Employee83', 'Employee84', 'Employee85', 'Employee86', 'Employee87', 'Employee88', 'Employee89', 'Employee90', 'Employee91', 'Employee92', 'Employee93', 'Employee94', 'Employee95', 'Employee96', 'Employee97', 'Employee98', 'Employee99', 'Employee100', 'Employee101', 'Employee102', 'Employee103', 'Employee104', 'Employee105', 'Employee106', 'Employee107', 'Employee108', 'Employee109', 'Employee110', 'Employee111', 'Employee112', 'Employee113', 'Employee114', 'Employee115', 'Employee116', 'Employee117', 'Employee118', 'Employee119', 'Employee120', 'Employee121', 'Employee122', 'Employee123', 'Employee124', 'Employee125', 'Employee126', 'Employee127', 'Employee128', 'Employee129', 'Employee130', 'Employee131', 'Employee132', 'Employee133', 'Employee134', 'Employee135', 'Employee136', 'Employee137', 'Employee138', 'Employee139', 'Employee140', 'Employee141', 'Employee142', 'Employee143', 'Employee144', 'Employee145', 'Employee146', 'Employee147', 'Employee148', 'Employee149', 'Employee150', 'Employee151', 'Employee152', 'Employee153', 'Employee154', 'Employee155', 'Employee156', 'Employee157', 'Employee158', 'Employee159', 'Employee160', 'Employee161', 'Employee162', 'Employee163', 'Employee164', 'Employee165', 'Employee166', 'Employee167', 'Employee168', 'Employee169', 'Employee170', 'Employee171', 'Employee172', 'Employee173', 'Employee174', 'Employee175', 'Employee176', 'Employee177', 'Employee178', 'Employee179', 'Employee180', 'Employee181', 'Employee182', 'Employee183', 'Employee184', 'Employee185', 'Employee186', 'Employee187', 'Employee188', 'Employee189', 'Employee190', 'Employee191', 'Employee192', 'Employee193', 'Employee194', 'Employee195', 'Employee196', 'Employee197', 'Employee198', 'Employee199', 'Employee200', 'Employee201', 'Employee202', 'Employee203', 'Employee204', 'Employee205', 'Employee206', 'Employee207', 'Employee208', 'Employee209', 'Employee210', 'Employee211', 'Employee212', 'Employee213', 'Employee214', 'Employee215', 'Employee216', 'Employee217', 'Employee218', 'Employee219', 'Employee220', 'Employee221', 'Employee222', 'Employee223', 'Employee224', 'Employee225', 'Employee226', 'Employee227', 'Employee228', 'Employee229', 'Employee230', 'Employee231', 'Employee232', 'Employee233', 'Employee234', 'Employee235', 'Employee236', 'Employee237', 'Employee238', 'Employee239', 'Employee240', 'Employee241', 'Employee242', 'Employee243', 'Employee244', 'Employee245', 'Employee246', 'Employee247', 'Employee248', 'Employee249', 'Employee250', 'Employee251', 'Employee252', 'Employee253', 'Employee254', 'Employee255', 'Employee256', 'Employee257', 'Employee258', 'Employee259', 'Employee260', 'Employee261', 'Employee262', 'Employee263', 'Employee264', 'Employee265', 'Employee266', 'Employee267', 'Employee268', 'Employee269', 'Employee270', 'Employee271', 'Employee272', 'Employee273', 'Employee274', 'Employee275', 'Employee276', 'Employee277', 'Employee278', 'Employee279', 'Employee280', 'Employee281', 'Employee282', 'Employee283', 'Employee284', 'Employee285', 'Employee286', 'Employee287', 'Employee288', 'Employee289', 'Employee290', 'Employee291', 'Employee292', 'Employee293', 'Employee294', 'Employee295', 'Employee296', 'Employee297', 'Employee298', 'Employee299', 'Employee300', 'Employee301', 'Employee302', 'Employee303', 'Employee304', 'Employee305', 'Employee306', 'Employee307', 'Employee308', 'Employee309', 'Employee310', 'Employee311', 'Employee312', 'Employee313', 'Employee314', 'Employee315', 'Employee316', 'Employee317', 'Employee318', 'Employee319', 'Employee320', 'Employee321', 'Employee322', 'Employee323', 'Employee324', 'Employee325', 'Employee326', 'Employee327', 'Employee328', 'Employee329', 'Employee330', 'Employee331', 'Employee332', 'Employee333', 'Employee334', 'Employee335', 'Employee336', 'Employee337', 'Employee338', 'Employee339', 'Employee340', 'Employee341', 'Employee342', 'Employee343', 'Employee344', 'Employee345', 'Employee346', 'Employee347', 'Employee348', 'Employee349', 'Employee350', 'Employee351', 'Employee352', 'Employee353', 'Employee354', 'Employee355', 'Employee356', 'Employee357', 'Employee358', 'Employee359', 'Employee360', 'Employee361', 'Employee362', 'Employee363', 'Employee364', 'Employee365', 'Employee366', 'Employee367', 'Employee368', 'Employee369', 'Employee370', 'Employee371', 'Employee372', 'Employee373', 'Employee374', 'Employee375', 'Employee376', 'Employee377', 'Employee378', 'Employee379', 'Employee380', 'Employee381', 'Employee382', 'Employee383', 'Employee384', 'Employee385', 'Employee386', 'Employee387', 'Employee388', 'Employee389', 'Employee390', 'Employee391', 'Employee392', 'Employee393', 'Employee394', 'Employee395', 'Employee396', 'Employee397', 'Employee398', 'Employee399', 'Employee400', 'Employee401', 'Employee402', 'Employee403', 'Employee404', 'Employee405', 'Employee406', 'Employee407', 'Employee408', 'Employee409', 'Employee410', 'Employee411', 'Employee412', 'Employee413', 'Employee414', 'Employee415', 'Employee416', 'Employee417', 'Employee418', 'Employee419', 'Employee420', 'Employee421', 'Employee422', 'Employee423', 'Employee424', 'Employee425', 'Employee426', 'Employee427', 'Employee428', 'Employee429', 'Employee430', 'Employee431', 'Employee432', 'Employee433', 'Employee434', 'Employee435', 'Employee436', 'Employee437', 'Employee438', 'Employee439', 'Employee440', 'Employee441', 'Employee442', 'Employee443', 'Employee444', 'Employee445', 'Employee446', 'Employee447', 'Employee448', 'Employee449', 'Employee450', 'Employee451', 'Employee452', 'Employee453', 'Employee454', 'Employee455', 'Employee456', 'Employee457', 'Employee458', 'Employee459', 'Employee460', 'Employee461', 'Employee462', 'Employee463', 'Employee464', 'Employee465', 'Employee466', 'Employee467', 'Employee468', 'Employee469', 'Employee470', 'Employee471', 'Employee472', 'Employee473', 'Employee474', 'Employee475', 'Employee476', 'Employee477', 'Employee478', 'Employee479', 'Employee480', 'Employee481', 'Employee482', 'Employee483', 'Employee484', 'Employee485', 'Employee486', 'Employee487', 'Employee488', 'Employee489', 'Employee490', 'Employee491', 'Employee492', 'Employee493', 'Employee494', 'Employee495', 'Employee496', 'Employee497', 'Employee498', 'Employee499', 'Employee500', 'Employee501', 'Employee502', 'Employee503', 'Employee504', 'Employee505', 'Employee506', 'Employee507', 'Employee508', 'Employee509', 'Employee510', 'Employee511', 'Employee512', 'Employee513', 'Employee514', 'Employee515', 'Employee516', 'Employee517', 'Employee518', 'Employee519', 'Employee520', 'Employee521', 'Employee522', 'Employee523', 'Employee524', 'Employee525', 'Employee526', 'Employee527', 'Employee528', 'Employee529', 'Employee530', 'Employee531', 'Employee532', 'Employee533', 'Employee534', 'Employee535', 'Employee536', 'Employee537', 'Employee538', 'Employee539', 'Employee540', 'Employee541', 'Employee542', 'Employee543', 'Employee544', 'Employee545', 'Employee546', 'Employee547', 'Employee548', 'Employee549', 'Employee550', 'Employee551', 'Employee552', 'Employee553', 'Employee554', 'Employee555', 'Employee556', 'Employee557', 'Employee558', 'Employee559', 'Employee560', 'Employee561', 'Employee562', 'Employee563', 'Employee564', 'Employee565', 'Employee566', 'Employee567', 'Employee568', 'Employee569', 'Employee570', 'Employee571', 'Employee572', 'Employee573', 'Employee574', 'Employee575', 'Employee576', 'Employee577', 'Employee578', 'Employee579', 'Employee580', 'Employee581', 'Employee582', 'Employee583', 'Employee584', 'Employee585', 'Employee586', 'Employee587', 'Employee588', 'Employee589', 'Employee590', 'Employee591', 'Employee592', 'Employee593', 'Employee594', 'Employee595', 'Employee596', 'Employee597']\n"
     ]
    }
   ],
   "source": [
    "employees = [\"Employee\" + str(i) for i in range(1, 601)]\n",
    "print(employees[1:-3])"
   ]
  },
  {
   "cell_type": "code",
   "execution_count": 147,
   "id": "fa1b5fe5",
   "metadata": {},
   "outputs": [
    {
     "name": "stdout",
     "output_type": "stream",
     "text": [
      "['Employee1', 'Employee2', 'Employee3', 'Employee4', 'Employee5', 'Employee6', 'Employee7', 'Employee8', 'Employee9', 'Employee10', 'Employee11', 'Employee12', 'Employee13', 'Employee14', 'Employee15', 'Employee16', 'Employee17', 'Employee18', 'Employee19', 'Employee20', 'Employee21', 'Employee22', 'Employee23', 'Employee24', 'Employee25', 'Employee26', 'Employee27', 'Employee28', 'Employee29', 'Employee30', 'Employee31', 'Employee32', 'Employee33', 'Employee34', 'Employee35', 'Employee36', 'Employee37', 'Employee38', 'Employee39', 'Employee40', 'Employee41', 'Employee42', 'Employee43', 'Employee44', 'Employee45', 'Employee46', 'Employee47', 'Employee48', 'Employee49', 'Employee50', 'Employee51', 'Employee52', 'Employee53', 'Employee54', 'Employee55', 'Employee56', 'Employee57', 'Employee58', 'Employee59', 'Employee60', 'Employee61', 'Employee62', 'Employee63', 'Employee64', 'Employee65', 'Employee66', 'Employee67', 'Employee68', 'Employee69', 'Employee70', 'Employee71', 'Employee72', 'Employee73', 'Employee74', 'Employee75', 'Employee76', 'Employee77', 'Employee78', 'Employee79', 'Employee80', 'Employee81', 'Employee82', 'Employee83', 'Employee84', 'Employee85', 'Employee86', 'Employee87', 'Employee88', 'Employee89', 'Employee90', 'Employee91', 'Employee92', 'Employee93', 'Employee94', 'Employee95', 'Employee96', 'Employee97', 'Employee98', 'Employee99', 'Employee100', 'Employee101', 'Employee102', 'Employee103', 'Employee104', 'Employee105', 'Employee106', 'Employee107', 'Employee108', 'Employee109', 'Employee110', 'Employee111', 'Employee112', 'Employee113', 'Employee114', 'Employee115', 'Employee116', 'Employee117', 'Employee118', 'Employee119', 'Employee120', 'Employee121', 'Employee122', 'Employee123', 'Employee124', 'Employee125', 'Employee126', 'Employee127', 'Employee128', 'Employee129', 'Employee130', 'Employee131', 'Employee132', 'Employee133', 'Employee134', 'Employee135', 'Employee136', 'Employee137', 'Employee138', 'Employee139', 'Employee140', 'Employee141', 'Employee142', 'Employee143', 'Employee144', 'Employee145', 'Employee146', 'Employee147', 'Employee148', 'Employee149', 'Employee150', 'Employee151', 'Employee152', 'Employee153', 'Employee154', 'Employee155', 'Employee156', 'Employee157', 'Employee158', 'Employee159', 'Employee160', 'Employee161', 'Employee162', 'Employee163', 'Employee164', 'Employee165', 'Employee166', 'Employee167', 'Employee168', 'Employee169', 'Employee170', 'Employee171', 'Employee172', 'Employee173', 'Employee174', 'Employee175', 'Employee176', 'Employee177', 'Employee178', 'Employee179', 'Employee180', 'Employee181', 'Employee182', 'Employee183', 'Employee184', 'Employee185', 'Employee186', 'Employee187', 'Employee188', 'Employee189', 'Employee190', 'Employee191', 'Employee192', 'Employee193', 'Employee194', 'Employee195', 'Employee196', 'Employee197', 'Employee198', 'Employee199', 'Employee200', 'Employee201', 'Employee202', 'Employee203', 'Employee204', 'Employee205', 'Employee206', 'Employee207', 'Employee208', 'Employee209', 'Employee210', 'Employee211', 'Employee212', 'Employee213', 'Employee214', 'Employee215', 'Employee216', 'Employee217', 'Employee218', 'Employee219', 'Employee220', 'Employee221', 'Employee222', 'Employee223', 'Employee224', 'Employee225', 'Employee226', 'Employee227', 'Employee228', 'Employee229', 'Employee230', 'Employee231', 'Employee232', 'Employee233', 'Employee234', 'Employee235', 'Employee236', 'Employee237', 'Employee238', 'Employee239', 'Employee240', 'Employee241', 'Employee242', 'Employee243', 'Employee244', 'Employee245', 'Employee246', 'Employee247', 'Employee248', 'Employee249', 'Employee250', 'Employee251', 'Employee252', 'Employee253', 'Employee254', 'Employee255', 'Employee256', 'Employee257', 'Employee258', 'Employee259', 'Employee260', 'Employee261', 'Employee262', 'Employee263', 'Employee264', 'Employee265', 'Employee266', 'Employee267', 'Employee268', 'Employee269', 'Employee270', 'Employee271', 'Employee272', 'Employee273', 'Employee274', 'Employee275', 'Employee276', 'Employee277', 'Employee278', 'Employee279', 'Employee280', 'Employee281', 'Employee282', 'Employee283', 'Employee284', 'Employee285', 'Employee286', 'Employee287', 'Employee288', 'Employee289', 'Employee290', 'Employee291', 'Employee292', 'Employee293', 'Employee294', 'Employee295', 'Employee296', 'Employee297', 'Employee298', 'Employee299', 'Employee300', 'Employee301', 'Employee302', 'Employee303', 'Employee304', 'Employee305', 'Employee306', 'Employee307', 'Employee308', 'Employee309', 'Employee310', 'Employee311', 'Employee312', 'Employee313', 'Employee314', 'Employee315', 'Employee316', 'Employee317', 'Employee318', 'Employee319', 'Employee320', 'Employee321', 'Employee322', 'Employee323', 'Employee324', 'Employee325', 'Employee326', 'Employee327', 'Employee328', 'Employee329', 'Employee330', 'Employee331', 'Employee332', 'Employee333', 'Employee334', 'Employee335', 'Employee336', 'Employee337', 'Employee338', 'Employee339', 'Employee340', 'Employee341', 'Employee342', 'Employee343', 'Employee344', 'Employee345', 'Employee346', 'Employee347', 'Employee348', 'Employee349', 'Employee350', 'Employee351', 'Employee352', 'Employee353', 'Employee354', 'Employee355', 'Employee356', 'Employee357', 'Employee358', 'Employee359', 'Employee360', 'Employee361', 'Employee362', 'Employee363', 'Employee364', 'Employee365', 'Employee366', 'Employee367', 'Employee368', 'Employee369', 'Employee370', 'Employee371', 'Employee372', 'Employee373', 'Employee374', 'Employee375', 'Employee376', 'Employee377', 'Employee378', 'Employee379', 'Employee380', 'Employee381', 'Employee382', 'Employee383', 'Employee384', 'Employee385', 'Employee386', 'Employee387', 'Employee388', 'Employee389', 'Employee390', 'Employee391', 'Employee392', 'Employee393', 'Employee394', 'Employee395', 'Employee396', 'Employee397', 'Employee398', 'Employee399', 'Employee400', 'Employee401', 'Employee402', 'Employee403', 'Employee404', 'Employee405', 'Employee406', 'Employee407', 'Employee408', 'Employee409', 'Employee410', 'Employee411', 'Employee412', 'Employee413', 'Employee414', 'Employee415', 'Employee416', 'Employee417', 'Employee418', 'Employee419', 'Employee420', 'Employee421', 'Employee422', 'Employee423', 'Employee424', 'Employee425', 'Employee426', 'Employee427', 'Employee428', 'Employee429', 'Employee430', 'Employee431', 'Employee432', 'Employee433', 'Employee434', 'Employee435', 'Employee436', 'Employee437', 'Employee438', 'Employee439', 'Employee440', 'Employee441', 'Employee442', 'Employee443', 'Employee444', 'Employee445', 'Employee446', 'Employee447', 'Employee448', 'Employee449', 'Employee450', 'Employee451', 'Employee452', 'Employee453', 'Employee454', 'Employee455', 'Employee456', 'Employee457', 'Employee458', 'Employee459', 'Employee460', 'Employee461', 'Employee462', 'Employee463', 'Employee464', 'Employee465', 'Employee466', 'Employee467', 'Employee468', 'Employee469', 'Employee470', 'Employee471', 'Employee472', 'Employee473', 'Employee474', 'Employee475', 'Employee476', 'Employee477', 'Employee478', 'Employee479', 'Employee480', 'Employee481', 'Employee482', 'Employee483', 'Employee484', 'Employee485', 'Employee486', 'Employee487', 'Employee488', 'Employee489', 'Employee490', 'Employee491', 'Employee492', 'Employee493', 'Employee494', 'Employee495', 'Employee496', 'Employee497', 'Employee498', 'Employee499', 'Employee500', 'Employee501', 'Employee502', 'Employee503', 'Employee504', 'Employee505', 'Employee506', 'Employee507', 'Employee508', 'Employee509', 'Employee510', 'Employee511', 'Employee512', 'Employee513', 'Employee514', 'Employee515', 'Employee516', 'Employee517', 'Employee518', 'Employee519', 'Employee520', 'Employee521', 'Employee522', 'Employee523', 'Employee524', 'Employee525', 'Employee526', 'Employee527', 'Employee528', 'Employee529', 'Employee530', 'Employee531', 'Employee532', 'Employee533', 'Employee534', 'Employee535', 'Employee536', 'Employee537', 'Employee538', 'Employee539', 'Employee540', 'Employee541', 'Employee542', 'Employee543', 'Employee544', 'Employee545', 'Employee546', 'Employee547', 'Employee548', 'Employee549', 'Employee550', 'Employee551', 'Employee552', 'Employee553', 'Employee554', 'Employee555', 'Employee556', 'Employee557', 'Employee558', 'Employee559', 'Employee560', 'Employee561', 'Employee562', 'Employee563', 'Employee564', 'Employee565', 'Employee566', 'Employee567', 'Employee568', 'Employee569', 'Employee570', 'Employee571', 'Employee572', 'Employee573', 'Employee574', 'Employee575', 'Employee576', 'Employee577', 'Employee578', 'Employee579', 'Employee580', 'Employee581', 'Employee582', 'Employee583', 'Employee584', 'Employee585', 'Employee586', 'Employee587', 'Employee588', 'Employee589', 'Employee590', 'Employee591', 'Employee592', 'Employee593', 'Employee594', 'Employee595', 'Employee596', 'Employee597']\n"
     ]
    }
   ],
   "source": [
    "employees = [\"Employee\" + str(i) for i in range(1, 601)]\n",
    "print(employees[:-3])"
   ]
  },
  {
   "cell_type": "code",
   "execution_count": 154,
   "id": "76873ed7",
   "metadata": {},
   "outputs": [
    {
     "name": "stdout",
     "output_type": "stream",
     "text": [
      "['Employee1', 'Employee2', 'Employee3', 'Employee4', 'Employee5', 'Employee6', 'Employee7', 'Employee8', 'Employee9', 'Employee10', 'Employee11', 'Employee12', 'Employee13', 'Employee14', 'Employee15', 'Employee16', 'Employee17', 'Employee18', 'Employee19', 'Employee20', 'Employee21', 'Employee22', 'Employee23', 'Employee24', 'Employee25', 'Employee26', 'Employee27', 'Employee28', 'Employee29', 'Employee30', 'Employee31', 'Employee32', 'Employee33', 'Employee34', 'Employee35', 'Employee36', 'Employee37', 'Employee38', 'Employee39', 'Employee40', 'Employee41', 'Employee42', 'Employee43', 'Employee44', 'Employee45', 'Employee46', 'Employee47', 'Employee48', 'Employee49', 'Employee50', 'Employee51', 'Employee52', 'Employee53', 'Employee54', 'Employee55', 'Employee56', 'Employee57', 'Employee58', 'Employee59', 'Employee60', 'Employee61', 'Employee62', 'Employee63', 'Employee64', 'Employee65', 'Employee66', 'Employee67', 'Employee68', 'Employee69', 'Employee70', 'Employee71', 'Employee72', 'Employee73', 'Employee74', 'Employee75', 'Employee76', 'Employee77', 'Employee78', 'Employee79', 'Employee80', 'Employee81', 'Employee82', 'Employee83', 'Employee84', 'Employee85', 'Employee86', 'Employee87', 'Employee88', 'Employee89', 'Employee90', 'Employee91', 'Employee92', 'Employee93', 'Employee94', 'Employee95', 'Employee96', 'Employee97', 'Employee98', 'Employee99', 'Employee100', 'Employee101', 'Employee102', 'Employee103', 'Employee104', 'Employee105', 'Employee106', 'Employee107', 'Employee108', 'Employee109', 'Employee110', 'Employee111', 'Employee112', 'Employee113', 'Employee114', 'Employee115', 'Employee116', 'Employee117', 'Employee118', 'Employee119', 'Employee120', 'Employee121', 'Employee122', 'Employee123', 'Employee124', 'Employee125', 'Employee126', 'Employee127', 'Employee128', 'Employee129', 'Employee130', 'Employee131', 'Employee132', 'Employee133', 'Employee134', 'Employee135', 'Employee136', 'Employee137', 'Employee138', 'Employee139', 'Employee140', 'Employee141', 'Employee142', 'Employee143', 'Employee144', 'Employee145', 'Employee146', 'Employee147', 'Employee148', 'Employee149', 'Employee150', 'Employee151', 'Employee152', 'Employee153', 'Employee154', 'Employee155', 'Employee156', 'Employee157', 'Employee158', 'Employee159', 'Employee160', 'Employee161', 'Employee162', 'Employee163', 'Employee164', 'Employee165', 'Employee166', 'Employee167', 'Employee168', 'Employee169', 'Employee170', 'Employee171', 'Employee172', 'Employee173', 'Employee174', 'Employee175', 'Employee176', 'Employee177', 'Employee178', 'Employee179', 'Employee180', 'Employee181', 'Employee182', 'Employee183', 'Employee184', 'Employee185', 'Employee186', 'Employee187', 'Employee188', 'Employee189', 'Employee190', 'Employee191', 'Employee192', 'Employee193', 'Employee194', 'Employee195', 'Employee196', 'Employee197', 'Employee198', 'Employee199', 'Employee200', 'Employee201', 'Employee202', 'Employee203', 'Employee204', 'Employee205', 'Employee206', 'Employee207', 'Employee208', 'Employee209', 'Employee210', 'Employee211', 'Employee212', 'Employee213', 'Employee214', 'Employee215', 'Employee216', 'Employee217', 'Employee218', 'Employee219', 'Employee220', 'Employee221', 'Employee222', 'Employee223', 'Employee224', 'Employee225', 'Employee226', 'Employee227', 'Employee228', 'Employee229', 'Employee230', 'Employee231', 'Employee232', 'Employee233', 'Employee234', 'Employee235', 'Employee236', 'Employee237', 'Employee238', 'Employee239', 'Employee240', 'Employee241', 'Employee242', 'Employee243', 'Employee244', 'Employee245', 'Employee246', 'Employee247', 'Employee248', 'Employee249', 'Employee250', 'Employee251', 'Employee252', 'Employee253', 'Employee254', 'Employee255', 'Employee256', 'Employee257', 'Employee258', 'Employee259', 'Employee260', 'Employee261', 'Employee262', 'Employee263', 'Employee264', 'Employee265', 'Employee266', 'Employee267', 'Employee268', 'Employee269', 'Employee270', 'Employee271', 'Employee272', 'Employee273', 'Employee274', 'Employee275', 'Employee276', 'Employee277', 'Employee278', 'Employee279', 'Employee280', 'Employee281', 'Employee282', 'Employee283', 'Employee284', 'Employee285', 'Employee286', 'Employee287', 'Employee288', 'Employee289', 'Employee290', 'Employee291', 'Employee292', 'Employee293', 'Employee294', 'Employee295', 'Employee296', 'Employee297', 'Employee298', 'Employee299', 'Employee300', 'Employee301', 'Employee302', 'Employee303', 'Employee304', 'Employee305', 'Employee306', 'Employee307', 'Employee308', 'Employee309', 'Employee310', 'Employee311', 'Employee312', 'Employee313', 'Employee314', 'Employee315', 'Employee316', 'Employee317', 'Employee318', 'Employee319', 'Employee320', 'Employee321', 'Employee322', 'Employee323', 'Employee324', 'Employee325', 'Employee326', 'Employee327', 'Employee328', 'Employee329', 'Employee330', 'Employee331', 'Employee332', 'Employee333', 'Employee334', 'Employee335', 'Employee336', 'Employee337', 'Employee338', 'Employee339', 'Employee340', 'Employee341', 'Employee342', 'Employee343', 'Employee344', 'Employee345', 'Employee346', 'Employee347', 'Employee348', 'Employee349', 'Employee350', 'Employee351', 'Employee352', 'Employee353', 'Employee354', 'Employee355', 'Employee356', 'Employee357', 'Employee358', 'Employee359', 'Employee360', 'Employee361', 'Employee362', 'Employee363', 'Employee364', 'Employee365', 'Employee366', 'Employee367', 'Employee368', 'Employee369', 'Employee370', 'Employee371', 'Employee372', 'Employee373', 'Employee374', 'Employee375', 'Employee376', 'Employee377', 'Employee378', 'Employee379', 'Employee380', 'Employee381', 'Employee382', 'Employee383', 'Employee384', 'Employee385', 'Employee386', 'Employee387', 'Employee388', 'Employee389', 'Employee390', 'Employee391', 'Employee392', 'Employee393', 'Employee394', 'Employee395', 'Employee396', 'Employee397', 'Employee398', 'Employee399', 'Employee400', 'Employee401', 'Employee402', 'Employee403', 'Employee404', 'Employee405', 'Employee406', 'Employee407', 'Employee408', 'Employee409', 'Employee410', 'Employee411', 'Employee412', 'Employee413', 'Employee414', 'Employee415', 'Employee416', 'Employee417', 'Employee418', 'Employee419', 'Employee420', 'Employee421', 'Employee422', 'Employee423', 'Employee424', 'Employee425', 'Employee426', 'Employee427', 'Employee428', 'Employee429', 'Employee430', 'Employee431', 'Employee432', 'Employee433', 'Employee434', 'Employee435', 'Employee436', 'Employee437', 'Employee438', 'Employee439', 'Employee440', 'Employee441', 'Employee442', 'Employee443', 'Employee444', 'Employee445', 'Employee446', 'Employee447', 'Employee448', 'Employee449', 'Employee450', 'Employee451', 'Employee452', 'Employee453', 'Employee454', 'Employee455', 'Employee456', 'Employee457', 'Employee458', 'Employee459', 'Employee460', 'Employee461', 'Employee462', 'Employee463', 'Employee464', 'Employee465', 'Employee466', 'Employee467', 'Employee468', 'Employee469', 'Employee470', 'Employee471', 'Employee472', 'Employee473', 'Employee474', 'Employee475', 'Employee476', 'Employee477', 'Employee478', 'Employee479', 'Employee480', 'Employee481', 'Employee482', 'Employee483', 'Employee484', 'Employee485', 'Employee486', 'Employee487', 'Employee488', 'Employee489', 'Employee490', 'Employee491', 'Employee492', 'Employee493', 'Employee494', 'Employee495', 'Employee496', 'Employee497', 'Employee498', 'Employee499', 'Employee500', 'Employee501', 'Employee502', 'Employee503', 'Employee504', 'Employee505', 'Employee506', 'Employee507', 'Employee508', 'Employee509', 'Employee510', 'Employee511', 'Employee512', 'Employee513', 'Employee514', 'Employee515', 'Employee516', 'Employee517', 'Employee518', 'Employee519', 'Employee520', 'Employee521', 'Employee522', 'Employee523', 'Employee524', 'Employee525', 'Employee526', 'Employee527', 'Employee528', 'Employee529', 'Employee530', 'Employee531', 'Employee532', 'Employee533', 'Employee534', 'Employee535', 'Employee536', 'Employee537', 'Employee538', 'Employee539', 'Employee540', 'Employee541', 'Employee542', 'Employee543', 'Employee544', 'Employee545', 'Employee546', 'Employee547', 'Employee548', 'Employee549', 'Employee550', 'Employee551', 'Employee552', 'Employee553', 'Employee554', 'Employee555', 'Employee556', 'Employee557', 'Employee558', 'Employee559', 'Employee560', 'Employee561', 'Employee562', 'Employee563', 'Employee564', 'Employee565', 'Employee566', 'Employee567', 'Employee568', 'Employee569', 'Employee570', 'Employee571', 'Employee572', 'Employee573', 'Employee574', 'Employee575', 'Employee576', 'Employee577', 'Employee578', 'Employee579', 'Employee580', 'Employee581', 'Employee582', 'Employee583', 'Employee584', 'Employee585', 'Employee586', 'Employee587', 'Employee588', 'Employee589', 'Employee590', 'Employee591', 'Employee592', 'Employee593', 'Employee594', 'Employee595', 'Employee596', 'Employee597']\n"
     ]
    }
   ],
   "source": [
    "employees = [\"Employee\" + str(i) for i in range(1, 598)] + [\"Manager1\", \"Manager2\", \"Manager3\"]\n",
    "print(employees[:-3])"
   ]
  },
  {
   "cell_type": "code",
   "execution_count": 149,
   "id": "2d22b6aa",
   "metadata": {},
   "outputs": [
    {
     "name": "stdout",
     "output_type": "stream",
     "text": [
      "['Employee2', 'Employee3', 'Employee4', 'Employee5', 'Employee6', 'Employee7', 'Employee8', 'Employee9', 'Employee10', 'Employee11', 'Employee12', 'Employee13', 'Employee14', 'Employee15', 'Employee16', 'Employee17', 'Employee18', 'Employee19', 'Employee20', 'Employee21', 'Employee22', 'Employee23', 'Employee24', 'Employee25', 'Employee26', 'Employee27', 'Employee28', 'Employee29', 'Employee30', 'Employee31', 'Employee32', 'Employee33', 'Employee34', 'Employee35', 'Employee36', 'Employee37', 'Employee38', 'Employee39', 'Employee40', 'Employee41', 'Employee42', 'Employee43', 'Employee44', 'Employee45', 'Employee46', 'Employee47', 'Employee48', 'Employee49', 'Employee50', 'Employee51', 'Employee52', 'Employee53', 'Employee54', 'Employee55', 'Employee56', 'Employee57', 'Employee58', 'Employee59', 'Employee60', 'Employee61', 'Employee62', 'Employee63', 'Employee64', 'Employee65', 'Employee66', 'Employee67', 'Employee68', 'Employee69', 'Employee70', 'Employee71', 'Employee72', 'Employee73', 'Employee74', 'Employee75', 'Employee76', 'Employee77', 'Employee78', 'Employee79', 'Employee80', 'Employee81', 'Employee82', 'Employee83', 'Employee84', 'Employee85', 'Employee86', 'Employee87', 'Employee88', 'Employee89', 'Employee90', 'Employee91', 'Employee92', 'Employee93', 'Employee94', 'Employee95', 'Employee96', 'Employee97', 'Employee98', 'Employee99', 'Employee100', 'Employee101', 'Employee102', 'Employee103', 'Employee104', 'Employee105', 'Employee106', 'Employee107', 'Employee108', 'Employee109', 'Employee110', 'Employee111', 'Employee112', 'Employee113', 'Employee114', 'Employee115', 'Employee116', 'Employee117', 'Employee118', 'Employee119', 'Employee120', 'Employee121', 'Employee122', 'Employee123', 'Employee124', 'Employee125', 'Employee126', 'Employee127', 'Employee128', 'Employee129', 'Employee130', 'Employee131', 'Employee132', 'Employee133', 'Employee134', 'Employee135', 'Employee136', 'Employee137', 'Employee138', 'Employee139', 'Employee140', 'Employee141', 'Employee142', 'Employee143', 'Employee144', 'Employee145', 'Employee146', 'Employee147', 'Employee148', 'Employee149', 'Employee150', 'Employee151', 'Employee152', 'Employee153', 'Employee154', 'Employee155', 'Employee156', 'Employee157', 'Employee158', 'Employee159', 'Employee160', 'Employee161', 'Employee162', 'Employee163', 'Employee164', 'Employee165', 'Employee166', 'Employee167', 'Employee168', 'Employee169', 'Employee170', 'Employee171', 'Employee172', 'Employee173', 'Employee174', 'Employee175', 'Employee176', 'Employee177', 'Employee178', 'Employee179', 'Employee180', 'Employee181', 'Employee182', 'Employee183', 'Employee184', 'Employee185', 'Employee186', 'Employee187', 'Employee188', 'Employee189', 'Employee190', 'Employee191', 'Employee192', 'Employee193', 'Employee194', 'Employee195', 'Employee196', 'Employee197', 'Employee198', 'Employee199', 'Employee200', 'Employee201', 'Employee202', 'Employee203', 'Employee204', 'Employee205', 'Employee206', 'Employee207', 'Employee208', 'Employee209', 'Employee210', 'Employee211', 'Employee212', 'Employee213', 'Employee214', 'Employee215', 'Employee216', 'Employee217', 'Employee218', 'Employee219', 'Employee220', 'Employee221', 'Employee222', 'Employee223', 'Employee224', 'Employee225', 'Employee226', 'Employee227', 'Employee228', 'Employee229', 'Employee230', 'Employee231', 'Employee232', 'Employee233', 'Employee234', 'Employee235', 'Employee236', 'Employee237', 'Employee238', 'Employee239', 'Employee240', 'Employee241', 'Employee242', 'Employee243', 'Employee244', 'Employee245', 'Employee246', 'Employee247', 'Employee248', 'Employee249', 'Employee250', 'Employee251', 'Employee252', 'Employee253', 'Employee254', 'Employee255', 'Employee256', 'Employee257', 'Employee258', 'Employee259', 'Employee260', 'Employee261', 'Employee262', 'Employee263', 'Employee264', 'Employee265', 'Employee266', 'Employee267', 'Employee268', 'Employee269', 'Employee270', 'Employee271', 'Employee272', 'Employee273', 'Employee274', 'Employee275', 'Employee276', 'Employee277', 'Employee278', 'Employee279', 'Employee280', 'Employee281', 'Employee282', 'Employee283', 'Employee284', 'Employee285', 'Employee286', 'Employee287', 'Employee288', 'Employee289', 'Employee290', 'Employee291', 'Employee292', 'Employee293', 'Employee294', 'Employee295', 'Employee296', 'Employee297', 'Employee298', 'Employee299', 'Employee300', 'Employee301', 'Employee302', 'Employee303', 'Employee304', 'Employee305', 'Employee306', 'Employee307', 'Employee308', 'Employee309', 'Employee310', 'Employee311', 'Employee312', 'Employee313', 'Employee314', 'Employee315', 'Employee316', 'Employee317', 'Employee318', 'Employee319', 'Employee320', 'Employee321', 'Employee322', 'Employee323', 'Employee324', 'Employee325', 'Employee326', 'Employee327', 'Employee328', 'Employee329', 'Employee330', 'Employee331', 'Employee332', 'Employee333', 'Employee334', 'Employee335', 'Employee336', 'Employee337', 'Employee338', 'Employee339', 'Employee340', 'Employee341', 'Employee342', 'Employee343', 'Employee344', 'Employee345', 'Employee346', 'Employee347', 'Employee348', 'Employee349', 'Employee350', 'Employee351', 'Employee352', 'Employee353', 'Employee354', 'Employee355', 'Employee356', 'Employee357', 'Employee358', 'Employee359', 'Employee360', 'Employee361', 'Employee362', 'Employee363', 'Employee364', 'Employee365', 'Employee366', 'Employee367', 'Employee368', 'Employee369', 'Employee370', 'Employee371', 'Employee372', 'Employee373', 'Employee374', 'Employee375', 'Employee376', 'Employee377', 'Employee378', 'Employee379', 'Employee380', 'Employee381', 'Employee382', 'Employee383', 'Employee384', 'Employee385', 'Employee386', 'Employee387', 'Employee388', 'Employee389', 'Employee390', 'Employee391', 'Employee392', 'Employee393', 'Employee394', 'Employee395', 'Employee396', 'Employee397', 'Employee398', 'Employee399', 'Employee400', 'Employee401', 'Employee402', 'Employee403', 'Employee404', 'Employee405', 'Employee406', 'Employee407', 'Employee408', 'Employee409', 'Employee410', 'Employee411', 'Employee412', 'Employee413', 'Employee414', 'Employee415', 'Employee416', 'Employee417', 'Employee418', 'Employee419', 'Employee420', 'Employee421', 'Employee422', 'Employee423', 'Employee424', 'Employee425', 'Employee426', 'Employee427', 'Employee428', 'Employee429', 'Employee430', 'Employee431', 'Employee432', 'Employee433', 'Employee434', 'Employee435', 'Employee436', 'Employee437', 'Employee438', 'Employee439', 'Employee440', 'Employee441', 'Employee442', 'Employee443', 'Employee444', 'Employee445', 'Employee446', 'Employee447', 'Employee448', 'Employee449', 'Employee450', 'Employee451', 'Employee452', 'Employee453', 'Employee454', 'Employee455', 'Employee456', 'Employee457', 'Employee458', 'Employee459', 'Employee460', 'Employee461', 'Employee462', 'Employee463', 'Employee464', 'Employee465', 'Employee466', 'Employee467', 'Employee468', 'Employee469', 'Employee470', 'Employee471', 'Employee472', 'Employee473', 'Employee474', 'Employee475', 'Employee476', 'Employee477', 'Employee478', 'Employee479', 'Employee480', 'Employee481', 'Employee482', 'Employee483', 'Employee484', 'Employee485', 'Employee486', 'Employee487', 'Employee488', 'Employee489', 'Employee490', 'Employee491', 'Employee492', 'Employee493', 'Employee494', 'Employee495', 'Employee496', 'Employee497', 'Employee498', 'Employee499', 'Employee500', 'Employee501', 'Employee502', 'Employee503', 'Employee504', 'Employee505', 'Employee506', 'Employee507', 'Employee508', 'Employee509', 'Employee510', 'Employee511', 'Employee512', 'Employee513', 'Employee514', 'Employee515', 'Employee516', 'Employee517', 'Employee518', 'Employee519', 'Employee520', 'Employee521', 'Employee522', 'Employee523', 'Employee524', 'Employee525', 'Employee526', 'Employee527', 'Employee528', 'Employee529', 'Employee530', 'Employee531', 'Employee532', 'Employee533', 'Employee534', 'Employee535', 'Employee536', 'Employee537', 'Employee538', 'Employee539', 'Employee540', 'Employee541', 'Employee542', 'Employee543', 'Employee544', 'Employee545', 'Employee546', 'Employee547', 'Employee548', 'Employee549', 'Employee550', 'Employee551', 'Employee552', 'Employee553', 'Employee554', 'Employee555', 'Employee556', 'Employee557', 'Employee558', 'Employee559', 'Employee560', 'Employee561', 'Employee562', 'Employee563', 'Employee564', 'Employee565', 'Employee566', 'Employee567', 'Employee568', 'Employee569', 'Employee570', 'Employee571', 'Employee572', 'Employee573', 'Employee574', 'Employee575', 'Employee576', 'Employee577', 'Employee578', 'Employee579', 'Employee580', 'Employee581', 'Employee582', 'Employee583', 'Employee584', 'Employee585', 'Employee586', 'Employee587', 'Employee588', 'Employee589', 'Employee590', 'Employee591', 'Employee592', 'Employee593', 'Employee594', 'Employee595', 'Employee596', 'Employee597', 'Manager1']\n"
     ]
    }
   ],
   "source": [
    "employees = [\"Employee\" + str(i) for i in range(1, 598)] + [\"Manager1\", \"Manager2\", \"Manager3\"]\n",
    "print(employees[1:-2])"
   ]
  },
  {
   "cell_type": "code",
   "execution_count": 150,
   "id": "e2df78d2",
   "metadata": {},
   "outputs": [
    {
     "name": "stdout",
     "output_type": "stream",
     "text": [
      "['Employee1', 'Employee2', 'Employee3', 'Employee4', 'Employee5', 'Employee6', 'Employee7', 'Employee8', 'Employee9', 'Employee10', 'Employee11', 'Employee12', 'Employee13', 'Employee14', 'Employee15', 'Employee16', 'Employee17', 'Employee18', 'Employee19', 'Employee20', 'Employee21', 'Employee22', 'Employee23', 'Employee24', 'Employee25', 'Employee26', 'Employee27', 'Employee28', 'Employee29', 'Employee30', 'Employee31', 'Employee32', 'Employee33', 'Employee34', 'Employee35', 'Employee36', 'Employee37', 'Employee38', 'Employee39', 'Employee40', 'Employee41', 'Employee42', 'Employee43', 'Employee44', 'Employee45', 'Employee46', 'Employee47', 'Employee48', 'Employee49', 'Employee50', 'Employee51', 'Employee52', 'Employee53', 'Employee54', 'Employee55', 'Employee56', 'Employee57', 'Employee58', 'Employee59', 'Employee60', 'Employee61', 'Employee62', 'Employee63', 'Employee64', 'Employee65', 'Employee66', 'Employee67', 'Employee68', 'Employee69', 'Employee70', 'Employee71', 'Employee72', 'Employee73', 'Employee74', 'Employee75', 'Employee76', 'Employee77', 'Employee78', 'Employee79', 'Employee80', 'Employee81', 'Employee82', 'Employee83', 'Employee84', 'Employee85', 'Employee86', 'Employee87', 'Employee88', 'Employee89', 'Employee90', 'Employee91', 'Employee92', 'Employee93', 'Employee94', 'Employee95', 'Employee96', 'Employee97', 'Employee98', 'Employee99', 'Employee100', 'Employee101', 'Employee102', 'Employee103', 'Employee104', 'Employee105', 'Employee106', 'Employee107', 'Employee108', 'Employee109', 'Employee110', 'Employee111', 'Employee112', 'Employee113', 'Employee114', 'Employee115', 'Employee116', 'Employee117', 'Employee118', 'Employee119', 'Employee120', 'Employee121', 'Employee122', 'Employee123', 'Employee124', 'Employee125', 'Employee126', 'Employee127', 'Employee128', 'Employee129', 'Employee130', 'Employee131', 'Employee132', 'Employee133', 'Employee134', 'Employee135', 'Employee136', 'Employee137', 'Employee138', 'Employee139', 'Employee140', 'Employee141', 'Employee142', 'Employee143', 'Employee144', 'Employee145', 'Employee146', 'Employee147', 'Employee148', 'Employee149', 'Employee150', 'Employee151', 'Employee152', 'Employee153', 'Employee154', 'Employee155', 'Employee156', 'Employee157', 'Employee158', 'Employee159', 'Employee160', 'Employee161', 'Employee162', 'Employee163', 'Employee164', 'Employee165', 'Employee166', 'Employee167', 'Employee168', 'Employee169', 'Employee170', 'Employee171', 'Employee172', 'Employee173', 'Employee174', 'Employee175', 'Employee176', 'Employee177', 'Employee178', 'Employee179', 'Employee180', 'Employee181', 'Employee182', 'Employee183', 'Employee184', 'Employee185', 'Employee186', 'Employee187', 'Employee188', 'Employee189', 'Employee190', 'Employee191', 'Employee192', 'Employee193', 'Employee194', 'Employee195', 'Employee196', 'Employee197', 'Employee198', 'Employee199', 'Employee200', 'Employee201', 'Employee202', 'Employee203', 'Employee204', 'Employee205', 'Employee206', 'Employee207', 'Employee208', 'Employee209', 'Employee210', 'Employee211', 'Employee212', 'Employee213', 'Employee214', 'Employee215', 'Employee216', 'Employee217', 'Employee218', 'Employee219', 'Employee220', 'Employee221', 'Employee222', 'Employee223', 'Employee224', 'Employee225', 'Employee226', 'Employee227', 'Employee228', 'Employee229', 'Employee230', 'Employee231', 'Employee232', 'Employee233', 'Employee234', 'Employee235', 'Employee236', 'Employee237', 'Employee238', 'Employee239', 'Employee240', 'Employee241', 'Employee242', 'Employee243', 'Employee244', 'Employee245', 'Employee246', 'Employee247', 'Employee248', 'Employee249', 'Employee250', 'Employee251', 'Employee252', 'Employee253', 'Employee254', 'Employee255', 'Employee256', 'Employee257', 'Employee258', 'Employee259', 'Employee260', 'Employee261', 'Employee262', 'Employee263', 'Employee264', 'Employee265', 'Employee266', 'Employee267', 'Employee268', 'Employee269', 'Employee270', 'Employee271', 'Employee272', 'Employee273', 'Employee274', 'Employee275', 'Employee276', 'Employee277', 'Employee278', 'Employee279', 'Employee280', 'Employee281', 'Employee282', 'Employee283', 'Employee284', 'Employee285', 'Employee286', 'Employee287', 'Employee288', 'Employee289', 'Employee290', 'Employee291', 'Employee292', 'Employee293', 'Employee294', 'Employee295', 'Employee296', 'Employee297', 'Employee298', 'Employee299', 'Employee300', 'Employee301', 'Employee302', 'Employee303', 'Employee304', 'Employee305', 'Employee306', 'Employee307', 'Employee308', 'Employee309', 'Employee310', 'Employee311', 'Employee312', 'Employee313', 'Employee314', 'Employee315', 'Employee316', 'Employee317', 'Employee318', 'Employee319', 'Employee320', 'Employee321', 'Employee322', 'Employee323', 'Employee324', 'Employee325', 'Employee326', 'Employee327', 'Employee328', 'Employee329', 'Employee330', 'Employee331', 'Employee332', 'Employee333', 'Employee334', 'Employee335', 'Employee336', 'Employee337', 'Employee338', 'Employee339', 'Employee340', 'Employee341', 'Employee342', 'Employee343', 'Employee344', 'Employee345', 'Employee346', 'Employee347', 'Employee348', 'Employee349', 'Employee350', 'Employee351', 'Employee352', 'Employee353', 'Employee354', 'Employee355', 'Employee356', 'Employee357', 'Employee358', 'Employee359', 'Employee360', 'Employee361', 'Employee362', 'Employee363', 'Employee364', 'Employee365', 'Employee366', 'Employee367', 'Employee368', 'Employee369', 'Employee370', 'Employee371', 'Employee372', 'Employee373', 'Employee374', 'Employee375', 'Employee376', 'Employee377', 'Employee378', 'Employee379', 'Employee380', 'Employee381', 'Employee382', 'Employee383', 'Employee384', 'Employee385', 'Employee386', 'Employee387', 'Employee388', 'Employee389', 'Employee390', 'Employee391', 'Employee392', 'Employee393', 'Employee394', 'Employee395', 'Employee396', 'Employee397', 'Employee398', 'Employee399', 'Employee400', 'Employee401', 'Employee402', 'Employee403', 'Employee404', 'Employee405', 'Employee406', 'Employee407', 'Employee408', 'Employee409', 'Employee410', 'Employee411', 'Employee412', 'Employee413', 'Employee414', 'Employee415', 'Employee416', 'Employee417', 'Employee418', 'Employee419', 'Employee420', 'Employee421', 'Employee422', 'Employee423', 'Employee424', 'Employee425', 'Employee426', 'Employee427', 'Employee428', 'Employee429', 'Employee430', 'Employee431', 'Employee432', 'Employee433', 'Employee434', 'Employee435', 'Employee436', 'Employee437', 'Employee438', 'Employee439', 'Employee440', 'Employee441', 'Employee442', 'Employee443', 'Employee444', 'Employee445', 'Employee446', 'Employee447', 'Employee448', 'Employee449', 'Employee450', 'Employee451', 'Employee452', 'Employee453', 'Employee454', 'Employee455', 'Employee456', 'Employee457', 'Employee458', 'Employee459', 'Employee460', 'Employee461', 'Employee462', 'Employee463', 'Employee464', 'Employee465', 'Employee466', 'Employee467', 'Employee468', 'Employee469', 'Employee470', 'Employee471', 'Employee472', 'Employee473', 'Employee474', 'Employee475', 'Employee476', 'Employee477', 'Employee478', 'Employee479', 'Employee480', 'Employee481', 'Employee482', 'Employee483', 'Employee484', 'Employee485', 'Employee486', 'Employee487', 'Employee488', 'Employee489', 'Employee490', 'Employee491', 'Employee492', 'Employee493', 'Employee494', 'Employee495', 'Employee496', 'Employee497', 'Employee498', 'Employee499', 'Employee500', 'Employee501', 'Employee502', 'Employee503', 'Employee504', 'Employee505', 'Employee506', 'Employee507', 'Employee508', 'Employee509', 'Employee510', 'Employee511', 'Employee512', 'Employee513', 'Employee514', 'Employee515', 'Employee516', 'Employee517', 'Employee518', 'Employee519', 'Employee520', 'Employee521', 'Employee522', 'Employee523', 'Employee524', 'Employee525', 'Employee526', 'Employee527', 'Employee528', 'Employee529', 'Employee530', 'Employee531', 'Employee532', 'Employee533', 'Employee534', 'Employee535', 'Employee536', 'Employee537', 'Employee538', 'Employee539', 'Employee540', 'Employee541', 'Employee542', 'Employee543', 'Employee544', 'Employee545', 'Employee546', 'Employee547', 'Employee548', 'Employee549', 'Employee550', 'Employee551', 'Employee552', 'Employee553', 'Employee554', 'Employee555', 'Employee556', 'Employee557', 'Employee558', 'Employee559', 'Employee560', 'Employee561', 'Employee562', 'Employee563', 'Employee564', 'Employee565', 'Employee566', 'Employee567', 'Employee568', 'Employee569', 'Employee570', 'Employee571', 'Employee572', 'Employee573', 'Employee574', 'Employee575', 'Employee576', 'Employee577', 'Employee578', 'Employee579', 'Employee580', 'Employee581', 'Employee582', 'Employee583', 'Employee584', 'Employee585', 'Employee586', 'Employee587', 'Employee588', 'Employee589', 'Employee590', 'Employee591', 'Employee592', 'Employee593', 'Employee594', 'Employee595', 'Employee596', 'Employee597']\n"
     ]
    }
   ],
   "source": [
    "employees = [\"Employee\" + str(i) for i in range(1, 598)] + [\"Manager1\", \"Manager2\", \"Manager3\"]\n",
    "print(employees[0:-3])"
   ]
  },
  {
   "cell_type": "code",
   "execution_count": 151,
   "id": "ec1c0f54",
   "metadata": {},
   "outputs": [
    {
     "name": "stdout",
     "output_type": "stream",
     "text": [
      "['Employee1', 'Employee2', 'Employee3', 'Employee4', 'Employee5', 'Employee6', 'Employee7', 'Employee8', 'Employee9', 'Employee10', 'Employee11', 'Employee12', 'Employee13', 'Employee14', 'Employee15', 'Employee16', 'Employee17', 'Employee18', 'Employee19', 'Employee20', 'Employee21', 'Employee22', 'Employee23', 'Employee24', 'Employee25', 'Employee26', 'Employee27', 'Employee28', 'Employee29', 'Employee30', 'Employee31', 'Employee32', 'Employee33', 'Employee34', 'Employee35', 'Employee36', 'Employee37', 'Employee38', 'Employee39', 'Employee40', 'Employee41', 'Employee42', 'Employee43', 'Employee44', 'Employee45', 'Employee46', 'Employee47', 'Employee48', 'Employee49', 'Employee50', 'Employee51', 'Employee52', 'Employee53', 'Employee54', 'Employee55', 'Employee56', 'Employee57', 'Employee58', 'Employee59', 'Employee60', 'Employee61', 'Employee62', 'Employee63', 'Employee64', 'Employee65', 'Employee66', 'Employee67', 'Employee68', 'Employee69', 'Employee70', 'Employee71', 'Employee72', 'Employee73', 'Employee74', 'Employee75', 'Employee76', 'Employee77', 'Employee78', 'Employee79', 'Employee80', 'Employee81', 'Employee82', 'Employee83', 'Employee84', 'Employee85', 'Employee86', 'Employee87', 'Employee88', 'Employee89', 'Employee90', 'Employee91', 'Employee92', 'Employee93', 'Employee94', 'Employee95', 'Employee96', 'Employee97', 'Employee98', 'Employee99', 'Employee100', 'Employee101', 'Employee102', 'Employee103', 'Employee104', 'Employee105', 'Employee106', 'Employee107', 'Employee108', 'Employee109', 'Employee110', 'Employee111', 'Employee112', 'Employee113', 'Employee114', 'Employee115', 'Employee116', 'Employee117', 'Employee118', 'Employee119', 'Employee120', 'Employee121', 'Employee122', 'Employee123', 'Employee124', 'Employee125', 'Employee126', 'Employee127', 'Employee128', 'Employee129', 'Employee130', 'Employee131', 'Employee132', 'Employee133', 'Employee134', 'Employee135', 'Employee136', 'Employee137', 'Employee138', 'Employee139', 'Employee140', 'Employee141', 'Employee142', 'Employee143', 'Employee144', 'Employee145', 'Employee146', 'Employee147', 'Employee148', 'Employee149', 'Employee150', 'Employee151', 'Employee152', 'Employee153', 'Employee154', 'Employee155', 'Employee156', 'Employee157', 'Employee158', 'Employee159', 'Employee160', 'Employee161', 'Employee162', 'Employee163', 'Employee164', 'Employee165', 'Employee166', 'Employee167', 'Employee168', 'Employee169', 'Employee170', 'Employee171', 'Employee172', 'Employee173', 'Employee174', 'Employee175', 'Employee176', 'Employee177', 'Employee178', 'Employee179', 'Employee180', 'Employee181', 'Employee182', 'Employee183', 'Employee184', 'Employee185', 'Employee186', 'Employee187', 'Employee188', 'Employee189', 'Employee190', 'Employee191', 'Employee192', 'Employee193', 'Employee194', 'Employee195', 'Employee196', 'Employee197', 'Employee198', 'Employee199', 'Employee200', 'Employee201', 'Employee202', 'Employee203', 'Employee204', 'Employee205', 'Employee206', 'Employee207', 'Employee208', 'Employee209', 'Employee210', 'Employee211', 'Employee212', 'Employee213', 'Employee214', 'Employee215', 'Employee216', 'Employee217', 'Employee218', 'Employee219', 'Employee220', 'Employee221', 'Employee222', 'Employee223', 'Employee224', 'Employee225', 'Employee226', 'Employee227', 'Employee228', 'Employee229', 'Employee230', 'Employee231', 'Employee232', 'Employee233', 'Employee234', 'Employee235', 'Employee236', 'Employee237', 'Employee238', 'Employee239', 'Employee240', 'Employee241', 'Employee242', 'Employee243', 'Employee244', 'Employee245', 'Employee246', 'Employee247', 'Employee248', 'Employee249', 'Employee250', 'Employee251', 'Employee252', 'Employee253', 'Employee254', 'Employee255', 'Employee256', 'Employee257', 'Employee258', 'Employee259', 'Employee260', 'Employee261', 'Employee262', 'Employee263', 'Employee264', 'Employee265', 'Employee266', 'Employee267', 'Employee268', 'Employee269', 'Employee270', 'Employee271', 'Employee272', 'Employee273', 'Employee274', 'Employee275', 'Employee276', 'Employee277', 'Employee278', 'Employee279', 'Employee280', 'Employee281', 'Employee282', 'Employee283', 'Employee284', 'Employee285', 'Employee286', 'Employee287', 'Employee288', 'Employee289', 'Employee290', 'Employee291', 'Employee292', 'Employee293', 'Employee294', 'Employee295', 'Employee296', 'Employee297', 'Employee298', 'Employee299', 'Employee300', 'Employee301', 'Employee302', 'Employee303', 'Employee304', 'Employee305', 'Employee306', 'Employee307', 'Employee308', 'Employee309', 'Employee310', 'Employee311', 'Employee312', 'Employee313', 'Employee314', 'Employee315', 'Employee316', 'Employee317', 'Employee318', 'Employee319', 'Employee320', 'Employee321', 'Employee322', 'Employee323', 'Employee324', 'Employee325', 'Employee326', 'Employee327', 'Employee328', 'Employee329', 'Employee330', 'Employee331', 'Employee332', 'Employee333', 'Employee334', 'Employee335', 'Employee336', 'Employee337', 'Employee338', 'Employee339', 'Employee340', 'Employee341', 'Employee342', 'Employee343', 'Employee344', 'Employee345', 'Employee346', 'Employee347', 'Employee348', 'Employee349', 'Employee350', 'Employee351', 'Employee352', 'Employee353', 'Employee354', 'Employee355', 'Employee356', 'Employee357', 'Employee358', 'Employee359', 'Employee360', 'Employee361', 'Employee362', 'Employee363', 'Employee364', 'Employee365', 'Employee366', 'Employee367', 'Employee368', 'Employee369', 'Employee370', 'Employee371', 'Employee372', 'Employee373', 'Employee374', 'Employee375', 'Employee376', 'Employee377', 'Employee378', 'Employee379', 'Employee380', 'Employee381', 'Employee382', 'Employee383', 'Employee384', 'Employee385', 'Employee386', 'Employee387', 'Employee388', 'Employee389', 'Employee390', 'Employee391', 'Employee392', 'Employee393', 'Employee394', 'Employee395', 'Employee396', 'Employee397', 'Employee398', 'Employee399', 'Employee400', 'Employee401', 'Employee402', 'Employee403', 'Employee404', 'Employee405', 'Employee406', 'Employee407', 'Employee408', 'Employee409', 'Employee410', 'Employee411', 'Employee412', 'Employee413', 'Employee414', 'Employee415', 'Employee416', 'Employee417', 'Employee418', 'Employee419', 'Employee420', 'Employee421', 'Employee422', 'Employee423', 'Employee424', 'Employee425', 'Employee426', 'Employee427', 'Employee428', 'Employee429', 'Employee430', 'Employee431', 'Employee432', 'Employee433', 'Employee434', 'Employee435', 'Employee436', 'Employee437', 'Employee438', 'Employee439', 'Employee440', 'Employee441', 'Employee442', 'Employee443', 'Employee444', 'Employee445', 'Employee446', 'Employee447', 'Employee448', 'Employee449', 'Employee450', 'Employee451', 'Employee452', 'Employee453', 'Employee454', 'Employee455', 'Employee456', 'Employee457', 'Employee458', 'Employee459', 'Employee460', 'Employee461', 'Employee462', 'Employee463', 'Employee464', 'Employee465', 'Employee466', 'Employee467', 'Employee468', 'Employee469', 'Employee470', 'Employee471', 'Employee472', 'Employee473', 'Employee474', 'Employee475', 'Employee476', 'Employee477', 'Employee478', 'Employee479', 'Employee480', 'Employee481', 'Employee482', 'Employee483', 'Employee484', 'Employee485', 'Employee486', 'Employee487', 'Employee488', 'Employee489', 'Employee490', 'Employee491', 'Employee492', 'Employee493', 'Employee494', 'Employee495', 'Employee496', 'Employee497', 'Employee498', 'Employee499', 'Employee500', 'Employee501', 'Employee502', 'Employee503', 'Employee504', 'Employee505', 'Employee506', 'Employee507', 'Employee508', 'Employee509', 'Employee510', 'Employee511', 'Employee512', 'Employee513', 'Employee514', 'Employee515', 'Employee516', 'Employee517', 'Employee518', 'Employee519', 'Employee520', 'Employee521', 'Employee522', 'Employee523', 'Employee524', 'Employee525', 'Employee526', 'Employee527', 'Employee528', 'Employee529', 'Employee530', 'Employee531', 'Employee532', 'Employee533', 'Employee534', 'Employee535', 'Employee536', 'Employee537', 'Employee538', 'Employee539', 'Employee540', 'Employee541', 'Employee542', 'Employee543', 'Employee544', 'Employee545', 'Employee546', 'Employee547', 'Employee548', 'Employee549', 'Employee550', 'Employee551', 'Employee552', 'Employee553', 'Employee554', 'Employee555', 'Employee556', 'Employee557', 'Employee558', 'Employee559', 'Employee560', 'Employee561', 'Employee562', 'Employee563', 'Employee564', 'Employee565', 'Employee566', 'Employee567', 'Employee568', 'Employee569', 'Employee570', 'Employee571', 'Employee572', 'Employee573', 'Employee574', 'Employee575', 'Employee576', 'Employee577', 'Employee578', 'Employee579', 'Employee580', 'Employee581', 'Employee582', 'Employee583', 'Employee584', 'Employee585', 'Employee586', 'Employee587', 'Employee588', 'Employee589', 'Employee590', 'Employee591', 'Employee592', 'Employee593', 'Employee594', 'Employee595', 'Employee596', 'Employee597', 'Manager1']\n"
     ]
    }
   ],
   "source": [
    "employees = [\"Employee\" + str(i) for i in range(1, 598)] + [\"Manager1\", \"Manager2\", \"Manager3\"]\n",
    "print(employees[0:-2])"
   ]
  },
  {
   "cell_type": "code",
   "execution_count": 152,
   "id": "bdc9dd1c",
   "metadata": {},
   "outputs": [
    {
     "name": "stdout",
     "output_type": "stream",
     "text": [
      "['Employee1', 'Employee2', 'Employee3', 'Employee4', 'Employee5', 'Employee6', 'Employee7', 'Employee8', 'Employee9', 'Employee10', 'Employee11', 'Employee12', 'Employee13', 'Employee14', 'Employee15', 'Employee16', 'Employee17', 'Employee18', 'Employee19', 'Employee20', 'Employee21', 'Employee22', 'Employee23', 'Employee24', 'Employee25', 'Employee26', 'Employee27', 'Employee28', 'Employee29', 'Employee30', 'Employee31', 'Employee32', 'Employee33', 'Employee34', 'Employee35', 'Employee36', 'Employee37', 'Employee38', 'Employee39', 'Employee40', 'Employee41', 'Employee42', 'Employee43', 'Employee44', 'Employee45', 'Employee46', 'Employee47', 'Employee48', 'Employee49', 'Employee50', 'Employee51', 'Employee52', 'Employee53', 'Employee54', 'Employee55', 'Employee56', 'Employee57', 'Employee58', 'Employee59', 'Employee60', 'Employee61', 'Employee62', 'Employee63', 'Employee64', 'Employee65', 'Employee66', 'Employee67', 'Employee68', 'Employee69', 'Employee70', 'Employee71', 'Employee72', 'Employee73', 'Employee74', 'Employee75', 'Employee76', 'Employee77', 'Employee78', 'Employee79', 'Employee80', 'Employee81', 'Employee82', 'Employee83', 'Employee84', 'Employee85', 'Employee86', 'Employee87', 'Employee88', 'Employee89', 'Employee90', 'Employee91', 'Employee92', 'Employee93', 'Employee94', 'Employee95', 'Employee96', 'Employee97', 'Employee98', 'Employee99', 'Employee100', 'Employee101', 'Employee102', 'Employee103', 'Employee104', 'Employee105', 'Employee106', 'Employee107', 'Employee108', 'Employee109', 'Employee110', 'Employee111', 'Employee112', 'Employee113', 'Employee114', 'Employee115', 'Employee116', 'Employee117', 'Employee118', 'Employee119', 'Employee120', 'Employee121', 'Employee122', 'Employee123', 'Employee124', 'Employee125', 'Employee126', 'Employee127', 'Employee128', 'Employee129', 'Employee130', 'Employee131', 'Employee132', 'Employee133', 'Employee134', 'Employee135', 'Employee136', 'Employee137', 'Employee138', 'Employee139', 'Employee140', 'Employee141', 'Employee142', 'Employee143', 'Employee144', 'Employee145', 'Employee146', 'Employee147', 'Employee148', 'Employee149', 'Employee150', 'Employee151', 'Employee152', 'Employee153', 'Employee154', 'Employee155', 'Employee156', 'Employee157', 'Employee158', 'Employee159', 'Employee160', 'Employee161', 'Employee162', 'Employee163', 'Employee164', 'Employee165', 'Employee166', 'Employee167', 'Employee168', 'Employee169', 'Employee170', 'Employee171', 'Employee172', 'Employee173', 'Employee174', 'Employee175', 'Employee176', 'Employee177', 'Employee178', 'Employee179', 'Employee180', 'Employee181', 'Employee182', 'Employee183', 'Employee184', 'Employee185', 'Employee186', 'Employee187', 'Employee188', 'Employee189', 'Employee190', 'Employee191', 'Employee192', 'Employee193', 'Employee194', 'Employee195', 'Employee196', 'Employee197', 'Employee198', 'Employee199', 'Employee200', 'Employee201', 'Employee202', 'Employee203', 'Employee204', 'Employee205', 'Employee206', 'Employee207', 'Employee208', 'Employee209', 'Employee210', 'Employee211', 'Employee212', 'Employee213', 'Employee214', 'Employee215', 'Employee216', 'Employee217', 'Employee218', 'Employee219', 'Employee220', 'Employee221', 'Employee222', 'Employee223', 'Employee224', 'Employee225', 'Employee226', 'Employee227', 'Employee228', 'Employee229', 'Employee230', 'Employee231', 'Employee232', 'Employee233', 'Employee234', 'Employee235', 'Employee236', 'Employee237', 'Employee238', 'Employee239', 'Employee240', 'Employee241', 'Employee242', 'Employee243', 'Employee244', 'Employee245', 'Employee246', 'Employee247', 'Employee248', 'Employee249', 'Employee250', 'Employee251', 'Employee252', 'Employee253', 'Employee254', 'Employee255', 'Employee256', 'Employee257', 'Employee258', 'Employee259', 'Employee260', 'Employee261', 'Employee262', 'Employee263', 'Employee264', 'Employee265', 'Employee266', 'Employee267', 'Employee268', 'Employee269', 'Employee270', 'Employee271', 'Employee272', 'Employee273', 'Employee274', 'Employee275', 'Employee276', 'Employee277', 'Employee278', 'Employee279', 'Employee280', 'Employee281', 'Employee282', 'Employee283', 'Employee284', 'Employee285', 'Employee286', 'Employee287', 'Employee288', 'Employee289', 'Employee290', 'Employee291', 'Employee292', 'Employee293', 'Employee294', 'Employee295', 'Employee296', 'Employee297', 'Employee298', 'Employee299', 'Employee300', 'Employee301', 'Employee302', 'Employee303', 'Employee304', 'Employee305', 'Employee306', 'Employee307', 'Employee308', 'Employee309', 'Employee310', 'Employee311', 'Employee312', 'Employee313', 'Employee314', 'Employee315', 'Employee316', 'Employee317', 'Employee318', 'Employee319', 'Employee320', 'Employee321', 'Employee322', 'Employee323', 'Employee324', 'Employee325', 'Employee326', 'Employee327', 'Employee328', 'Employee329', 'Employee330', 'Employee331', 'Employee332', 'Employee333', 'Employee334', 'Employee335', 'Employee336', 'Employee337', 'Employee338', 'Employee339', 'Employee340', 'Employee341', 'Employee342', 'Employee343', 'Employee344', 'Employee345', 'Employee346', 'Employee347', 'Employee348', 'Employee349', 'Employee350', 'Employee351', 'Employee352', 'Employee353', 'Employee354', 'Employee355', 'Employee356', 'Employee357', 'Employee358', 'Employee359', 'Employee360', 'Employee361', 'Employee362', 'Employee363', 'Employee364', 'Employee365', 'Employee366', 'Employee367', 'Employee368', 'Employee369', 'Employee370', 'Employee371', 'Employee372', 'Employee373', 'Employee374', 'Employee375', 'Employee376', 'Employee377', 'Employee378', 'Employee379', 'Employee380', 'Employee381', 'Employee382', 'Employee383', 'Employee384', 'Employee385', 'Employee386', 'Employee387', 'Employee388', 'Employee389', 'Employee390', 'Employee391', 'Employee392', 'Employee393', 'Employee394', 'Employee395', 'Employee396', 'Employee397', 'Employee398', 'Employee399', 'Employee400', 'Employee401', 'Employee402', 'Employee403', 'Employee404', 'Employee405', 'Employee406', 'Employee407', 'Employee408', 'Employee409', 'Employee410', 'Employee411', 'Employee412', 'Employee413', 'Employee414', 'Employee415', 'Employee416', 'Employee417', 'Employee418', 'Employee419', 'Employee420', 'Employee421', 'Employee422', 'Employee423', 'Employee424', 'Employee425', 'Employee426', 'Employee427', 'Employee428', 'Employee429', 'Employee430', 'Employee431', 'Employee432', 'Employee433', 'Employee434', 'Employee435', 'Employee436', 'Employee437', 'Employee438', 'Employee439', 'Employee440', 'Employee441', 'Employee442', 'Employee443', 'Employee444', 'Employee445', 'Employee446', 'Employee447', 'Employee448', 'Employee449', 'Employee450', 'Employee451', 'Employee452', 'Employee453', 'Employee454', 'Employee455', 'Employee456', 'Employee457', 'Employee458', 'Employee459', 'Employee460', 'Employee461', 'Employee462', 'Employee463', 'Employee464', 'Employee465', 'Employee466', 'Employee467', 'Employee468', 'Employee469', 'Employee470', 'Employee471', 'Employee472', 'Employee473', 'Employee474', 'Employee475', 'Employee476', 'Employee477', 'Employee478', 'Employee479', 'Employee480', 'Employee481', 'Employee482', 'Employee483', 'Employee484', 'Employee485', 'Employee486', 'Employee487', 'Employee488', 'Employee489', 'Employee490', 'Employee491', 'Employee492', 'Employee493', 'Employee494', 'Employee495', 'Employee496', 'Employee497', 'Employee498', 'Employee499', 'Employee500', 'Employee501', 'Employee502', 'Employee503', 'Employee504', 'Employee505', 'Employee506', 'Employee507', 'Employee508', 'Employee509', 'Employee510', 'Employee511', 'Employee512', 'Employee513', 'Employee514', 'Employee515', 'Employee516', 'Employee517', 'Employee518', 'Employee519', 'Employee520', 'Employee521', 'Employee522', 'Employee523', 'Employee524', 'Employee525', 'Employee526', 'Employee527', 'Employee528', 'Employee529', 'Employee530', 'Employee531', 'Employee532', 'Employee533', 'Employee534', 'Employee535', 'Employee536', 'Employee537', 'Employee538', 'Employee539', 'Employee540', 'Employee541', 'Employee542', 'Employee543', 'Employee544', 'Employee545', 'Employee546', 'Employee547', 'Employee548', 'Employee549', 'Employee550', 'Employee551', 'Employee552', 'Employee553', 'Employee554', 'Employee555', 'Employee556', 'Employee557', 'Employee558', 'Employee559', 'Employee560', 'Employee561', 'Employee562', 'Employee563', 'Employee564', 'Employee565', 'Employee566', 'Employee567', 'Employee568', 'Employee569', 'Employee570', 'Employee571', 'Employee572', 'Employee573', 'Employee574', 'Employee575', 'Employee576', 'Employee577', 'Employee578', 'Employee579', 'Employee580', 'Employee581', 'Employee582', 'Employee583', 'Employee584', 'Employee585', 'Employee586', 'Employee587', 'Employee588', 'Employee589', 'Employee590', 'Employee591', 'Employee592', 'Employee593', 'Employee594', 'Employee595', 'Employee596', 'Employee597']\n"
     ]
    }
   ],
   "source": [
    "employees = [\"Employee\" + str(i) for i in range(1, 598)] + [\"Manager1\", \"Manager2\", \"Manager3\"]\n",
    "print(employees[0:-3])"
   ]
  },
  {
   "cell_type": "code",
   "execution_count": 155,
   "id": "8534ab73",
   "metadata": {},
   "outputs": [
    {
     "name": "stdout",
     "output_type": "stream",
     "text": [
      "['Employee2', 'Employee3', 'Employee4', 'Employee5', 'Employee6', 'Employee7', 'Employee8', 'Employee9', 'Employee10', 'Employee11', 'Employee12', 'Employee13', 'Employee14', 'Employee15', 'Employee16', 'Employee17', 'Employee18', 'Employee19', 'Employee20', 'Employee21', 'Employee22', 'Employee23', 'Employee24', 'Employee25', 'Employee26', 'Employee27', 'Employee28', 'Employee29', 'Employee30', 'Employee31', 'Employee32', 'Employee33', 'Employee34', 'Employee35', 'Employee36', 'Employee37', 'Employee38', 'Employee39', 'Employee40', 'Employee41', 'Employee42', 'Employee43', 'Employee44', 'Employee45', 'Employee46', 'Employee47', 'Employee48', 'Employee49', 'Employee50', 'Employee51', 'Employee52', 'Employee53', 'Employee54', 'Employee55', 'Employee56', 'Employee57', 'Employee58', 'Employee59', 'Employee60', 'Employee61', 'Employee62', 'Employee63', 'Employee64', 'Employee65', 'Employee66', 'Employee67', 'Employee68', 'Employee69', 'Employee70', 'Employee71', 'Employee72', 'Employee73', 'Employee74', 'Employee75', 'Employee76', 'Employee77', 'Employee78', 'Employee79', 'Employee80', 'Employee81', 'Employee82', 'Employee83', 'Employee84', 'Employee85', 'Employee86', 'Employee87', 'Employee88', 'Employee89', 'Employee90', 'Employee91', 'Employee92', 'Employee93', 'Employee94', 'Employee95', 'Employee96', 'Employee97', 'Employee98', 'Employee99', 'Employee100', 'Employee101', 'Employee102', 'Employee103', 'Employee104', 'Employee105', 'Employee106', 'Employee107', 'Employee108', 'Employee109', 'Employee110', 'Employee111', 'Employee112', 'Employee113', 'Employee114', 'Employee115', 'Employee116', 'Employee117', 'Employee118', 'Employee119', 'Employee120', 'Employee121', 'Employee122', 'Employee123', 'Employee124', 'Employee125', 'Employee126', 'Employee127', 'Employee128', 'Employee129', 'Employee130', 'Employee131', 'Employee132', 'Employee133', 'Employee134', 'Employee135', 'Employee136', 'Employee137', 'Employee138', 'Employee139', 'Employee140', 'Employee141', 'Employee142', 'Employee143', 'Employee144', 'Employee145', 'Employee146', 'Employee147', 'Employee148', 'Employee149', 'Employee150', 'Employee151', 'Employee152', 'Employee153', 'Employee154', 'Employee155', 'Employee156', 'Employee157', 'Employee158', 'Employee159', 'Employee160', 'Employee161', 'Employee162', 'Employee163', 'Employee164', 'Employee165', 'Employee166', 'Employee167', 'Employee168', 'Employee169', 'Employee170', 'Employee171', 'Employee172', 'Employee173', 'Employee174', 'Employee175', 'Employee176', 'Employee177', 'Employee178', 'Employee179', 'Employee180', 'Employee181', 'Employee182', 'Employee183', 'Employee184', 'Employee185', 'Employee186', 'Employee187', 'Employee188', 'Employee189', 'Employee190', 'Employee191', 'Employee192', 'Employee193', 'Employee194', 'Employee195', 'Employee196', 'Employee197', 'Employee198', 'Employee199', 'Employee200', 'Employee201', 'Employee202', 'Employee203', 'Employee204', 'Employee205', 'Employee206', 'Employee207', 'Employee208', 'Employee209', 'Employee210', 'Employee211', 'Employee212', 'Employee213', 'Employee214', 'Employee215', 'Employee216', 'Employee217', 'Employee218', 'Employee219', 'Employee220', 'Employee221', 'Employee222', 'Employee223', 'Employee224', 'Employee225', 'Employee226', 'Employee227', 'Employee228', 'Employee229', 'Employee230', 'Employee231', 'Employee232', 'Employee233', 'Employee234', 'Employee235', 'Employee236', 'Employee237', 'Employee238', 'Employee239', 'Employee240', 'Employee241', 'Employee242', 'Employee243', 'Employee244', 'Employee245', 'Employee246', 'Employee247', 'Employee248', 'Employee249', 'Employee250', 'Employee251', 'Employee252', 'Employee253', 'Employee254', 'Employee255', 'Employee256', 'Employee257', 'Employee258', 'Employee259', 'Employee260', 'Employee261', 'Employee262', 'Employee263', 'Employee264', 'Employee265', 'Employee266', 'Employee267', 'Employee268', 'Employee269', 'Employee270', 'Employee271', 'Employee272', 'Employee273', 'Employee274', 'Employee275', 'Employee276', 'Employee277', 'Employee278', 'Employee279', 'Employee280', 'Employee281', 'Employee282', 'Employee283', 'Employee284', 'Employee285', 'Employee286', 'Employee287', 'Employee288', 'Employee289', 'Employee290', 'Employee291', 'Employee292', 'Employee293', 'Employee294', 'Employee295', 'Employee296', 'Employee297', 'Employee298', 'Employee299', 'Employee300', 'Employee301', 'Employee302', 'Employee303', 'Employee304', 'Employee305', 'Employee306', 'Employee307', 'Employee308', 'Employee309', 'Employee310', 'Employee311', 'Employee312', 'Employee313', 'Employee314', 'Employee315', 'Employee316', 'Employee317', 'Employee318', 'Employee319', 'Employee320', 'Employee321', 'Employee322', 'Employee323', 'Employee324', 'Employee325', 'Employee326', 'Employee327', 'Employee328', 'Employee329', 'Employee330', 'Employee331', 'Employee332', 'Employee333', 'Employee334', 'Employee335', 'Employee336', 'Employee337', 'Employee338', 'Employee339', 'Employee340', 'Employee341', 'Employee342', 'Employee343', 'Employee344', 'Employee345', 'Employee346', 'Employee347', 'Employee348', 'Employee349', 'Employee350', 'Employee351', 'Employee352', 'Employee353', 'Employee354', 'Employee355', 'Employee356', 'Employee357', 'Employee358', 'Employee359', 'Employee360', 'Employee361', 'Employee362', 'Employee363', 'Employee364', 'Employee365', 'Employee366', 'Employee367', 'Employee368', 'Employee369', 'Employee370', 'Employee371', 'Employee372', 'Employee373', 'Employee374', 'Employee375', 'Employee376', 'Employee377', 'Employee378', 'Employee379', 'Employee380', 'Employee381', 'Employee382', 'Employee383', 'Employee384', 'Employee385', 'Employee386', 'Employee387', 'Employee388', 'Employee389', 'Employee390', 'Employee391', 'Employee392', 'Employee393', 'Employee394', 'Employee395', 'Employee396', 'Employee397', 'Employee398', 'Employee399', 'Employee400', 'Employee401', 'Employee402', 'Employee403', 'Employee404', 'Employee405', 'Employee406', 'Employee407', 'Employee408', 'Employee409', 'Employee410', 'Employee411', 'Employee412', 'Employee413', 'Employee414', 'Employee415', 'Employee416', 'Employee417', 'Employee418', 'Employee419', 'Employee420', 'Employee421', 'Employee422', 'Employee423', 'Employee424', 'Employee425', 'Employee426', 'Employee427', 'Employee428', 'Employee429', 'Employee430', 'Employee431', 'Employee432', 'Employee433', 'Employee434', 'Employee435', 'Employee436', 'Employee437', 'Employee438', 'Employee439', 'Employee440', 'Employee441', 'Employee442', 'Employee443', 'Employee444', 'Employee445', 'Employee446', 'Employee447', 'Employee448', 'Employee449', 'Employee450', 'Employee451', 'Employee452', 'Employee453', 'Employee454', 'Employee455', 'Employee456', 'Employee457', 'Employee458', 'Employee459', 'Employee460', 'Employee461', 'Employee462', 'Employee463', 'Employee464', 'Employee465', 'Employee466', 'Employee467', 'Employee468', 'Employee469', 'Employee470', 'Employee471', 'Employee472', 'Employee473', 'Employee474', 'Employee475', 'Employee476', 'Employee477', 'Employee478', 'Employee479', 'Employee480', 'Employee481', 'Employee482', 'Employee483', 'Employee484', 'Employee485', 'Employee486', 'Employee487', 'Employee488', 'Employee489', 'Employee490', 'Employee491', 'Employee492', 'Employee493', 'Employee494', 'Employee495', 'Employee496', 'Employee497', 'Employee498', 'Employee499', 'Employee500', 'Employee501', 'Employee502', 'Employee503', 'Employee504', 'Employee505', 'Employee506', 'Employee507', 'Employee508', 'Employee509', 'Employee510', 'Employee511', 'Employee512', 'Employee513', 'Employee514', 'Employee515', 'Employee516', 'Employee517', 'Employee518', 'Employee519', 'Employee520', 'Employee521', 'Employee522', 'Employee523', 'Employee524', 'Employee525', 'Employee526', 'Employee527', 'Employee528', 'Employee529', 'Employee530', 'Employee531', 'Employee532', 'Employee533', 'Employee534', 'Employee535', 'Employee536', 'Employee537', 'Employee538', 'Employee539', 'Employee540', 'Employee541', 'Employee542', 'Employee543', 'Employee544', 'Employee545', 'Employee546', 'Employee547', 'Employee548', 'Employee549', 'Employee550', 'Employee551', 'Employee552', 'Employee553', 'Employee554', 'Employee555', 'Employee556', 'Employee557', 'Employee558', 'Employee559', 'Employee560', 'Employee561', 'Employee562', 'Employee563', 'Employee564', 'Employee565', 'Employee566', 'Employee567', 'Employee568', 'Employee569', 'Employee570', 'Employee571', 'Employee572', 'Employee573', 'Employee574', 'Employee575', 'Employee576', 'Employee577', 'Employee578', 'Employee579', 'Employee580', 'Employee581', 'Employee582', 'Employee583', 'Employee584', 'Employee585', 'Employee586', 'Employee587', 'Employee588', 'Employee589', 'Employee590', 'Employee591', 'Employee592', 'Employee593', 'Employee594', 'Employee595', 'Employee596', 'Employee597', 'Manager1', 'Manager2', 'Manager3']\n"
     ]
    }
   ],
   "source": [
    "employees = [\"Employee\" + str(i) for i in range(1, 598)] + [\"Manager1\", \"Manager2\", \"Manager3\"]\n",
    "print(employees[1:])  #### we need this code"
   ]
  },
  {
   "cell_type": "markdown",
   "id": "dd98b0dc",
   "metadata": {},
   "source": [
    "## 28 code to access mango"
   ]
  },
  {
   "cell_type": "code",
   "execution_count": 156,
   "id": "339eb605",
   "metadata": {},
   "outputs": [],
   "source": [
    "list=['Apple','Banana','Carrot','Mango']"
   ]
  },
  {
   "cell_type": "code",
   "execution_count": 157,
   "id": "21e9f351",
   "metadata": {},
   "outputs": [
    {
     "data": {
      "text/plain": [
       "['Apple', 'Banana', 'Carrot', 'Mango']"
      ]
     },
     "execution_count": 157,
     "metadata": {},
     "output_type": "execute_result"
    }
   ],
   "source": [
    "list"
   ]
  },
  {
   "cell_type": "code",
   "execution_count": 158,
   "id": "b3ca5d4c",
   "metadata": {},
   "outputs": [
    {
     "data": {
      "text/plain": [
       "'Apple'"
      ]
     },
     "execution_count": 158,
     "metadata": {},
     "output_type": "execute_result"
    }
   ],
   "source": [
    "list[0]"
   ]
  },
  {
   "cell_type": "code",
   "execution_count": 159,
   "id": "dc69240a",
   "metadata": {},
   "outputs": [
    {
     "data": {
      "text/plain": [
       "'Mango'"
      ]
     },
     "execution_count": 159,
     "metadata": {},
     "output_type": "execute_result"
    }
   ],
   "source": [
    "list[-1]"
   ]
  },
  {
   "cell_type": "code",
   "execution_count": 160,
   "id": "555cfc9a",
   "metadata": {},
   "outputs": [
    {
     "data": {
      "text/plain": [
       "'Carrot'"
      ]
     },
     "execution_count": 160,
     "metadata": {},
     "output_type": "execute_result"
    }
   ],
   "source": [
    "list[2]"
   ]
  },
  {
   "cell_type": "code",
   "execution_count": 161,
   "id": "31012ca3",
   "metadata": {},
   "outputs": [
    {
     "data": {
      "text/plain": [
       "'Mango'"
      ]
     },
     "execution_count": 161,
     "metadata": {},
     "output_type": "execute_result"
    }
   ],
   "source": [
    "list[3]"
   ]
  },
  {
   "cell_type": "code",
   "execution_count": 162,
   "id": "b4aef74c",
   "metadata": {},
   "outputs": [
    {
     "ename": "IndexError",
     "evalue": "list index out of range",
     "output_type": "error",
     "traceback": [
      "\u001b[1;31m---------------------------------------------------------------------------\u001b[0m",
      "\u001b[1;31mIndexError\u001b[0m                                Traceback (most recent call last)",
      "Cell \u001b[1;32mIn[162], line 1\u001b[0m\n\u001b[1;32m----> 1\u001b[0m \u001b[38;5;28mlist\u001b[39m[\u001b[38;5;241m4\u001b[39m]\n",
      "\u001b[1;31mIndexError\u001b[0m: list index out of range"
     ]
    }
   ],
   "source": [
    "list[4]  ## because list start from 0"
   ]
  },
  {
   "cell_type": "markdown",
   "id": "6790e82e",
   "metadata": {},
   "source": [
    "## 29 which code snippet will produce the following output"
   ]
  },
  {
   "cell_type": "code",
   "execution_count": 164,
   "id": "e62d1606",
   "metadata": {},
   "outputs": [],
   "source": [
    "## Boy\n",
    "## Cat\n",
    "## Dog"
   ]
  },
  {
   "cell_type": "code",
   "execution_count": 165,
   "id": "ed237a2c",
   "metadata": {},
   "outputs": [
    {
     "name": "stdout",
     "output_type": "stream",
     "text": [
      "Apple\n",
      "Boy\n",
      "Cat\n",
      "Dog\n"
     ]
    }
   ],
   "source": [
    "l=['Apple','Boy','Cat','Dog']\n",
    "for x in l:\n",
    "    print(x)"
   ]
  },
  {
   "cell_type": "code",
   "execution_count": null,
   "id": "8dcf168c",
   "metadata": {},
   "outputs": [],
   "source": [
    "l=['Apple','Boy','Cat','Dog']\n",
    "for x in l:\n",
    "    if len(x) !=3:\n",
    "    print(x)     expected an indented block after 'if' statement on line 3\n",
    "    --------- need print slightly right in side\n",
    "\n"
   ]
  },
  {
   "cell_type": "code",
   "execution_count": 172,
   "id": "db54481a",
   "metadata": {},
   "outputs": [
    {
     "name": "stdout",
     "output_type": "stream",
     "text": [
      "Apple\n"
     ]
    }
   ],
   "source": [
    "\n",
    "\n",
    "l= ['Apple','Boy','Cat','Dog']\n",
    "\n",
    "for x in l:\n",
    "    if len(x) !=3:\n",
    "        print(x)"
   ]
  },
  {
   "cell_type": "code",
   "execution_count": 169,
   "id": "028228d8",
   "metadata": {},
   "outputs": [
    {
     "name": "stdout",
     "output_type": "stream",
     "text": [
      "Apple\n"
     ]
    }
   ],
   "source": [
    "l = ['Apple', 'Boy', 'Cat', 'Dog']\n",
    "\n",
    "for x in l:\n",
    "    if len(x) != 3:\n",
    "        print(x)"
   ]
  },
  {
   "cell_type": "code",
   "execution_count": 173,
   "id": "5b25f76b",
   "metadata": {},
   "outputs": [
    {
     "name": "stdout",
     "output_type": "stream",
     "text": [
      "Boy\n",
      "Cat\n",
      "Dog\n"
     ]
    }
   ],
   "source": [
    "l = ['Apple', 'Boy', 'Cat', 'Dog']\n",
    "\n",
    "for x in l:\n",
    "    if len(x) == 3:\n",
    "        print(x)"
   ]
  },
  {
   "cell_type": "code",
   "execution_count": 174,
   "id": "dafbdeb7",
   "metadata": {},
   "outputs": [
    {
     "name": "stdout",
     "output_type": "stream",
     "text": [
      "Boy\n",
      "Cat\n",
      "Dog\n"
     ]
    }
   ],
   "source": [
    "l = ['Apple', 'Boy', 'Cat', 'Dog']\n",
    "l2=l[1:]\n",
    "for x in l2:\n",
    "        print(x)"
   ]
  },
  {
   "cell_type": "markdown",
   "id": "91d95211",
   "metadata": {},
   "source": [
    "## 30"
   ]
  },
  {
   "cell_type": "code",
   "execution_count": 175,
   "id": "88fcea76",
   "metadata": {},
   "outputs": [
    {
     "name": "stdout",
     "output_type": "stream",
     "text": [
      "3.0\n"
     ]
    }
   ],
   "source": [
    "a=15\n",
    "b=5\n",
    "print(a/b)  ## / always meant by floating point arithmatic"
   ]
  },
  {
   "cell_type": "markdown",
   "id": "47204577",
   "metadata": {},
   "source": [
    "## 31 in which case get indexerror while accessing employee names"
   ]
  },
  {
   "cell_type": "code",
   "execution_count": 176,
   "id": "1651f806",
   "metadata": {},
   "outputs": [
    {
     "ename": "IndexError",
     "evalue": "list index out of range",
     "output_type": "error",
     "traceback": [
      "\u001b[1;31m---------------------------------------------------------------------------\u001b[0m",
      "\u001b[1;31mIndexError\u001b[0m                                Traceback (most recent call last)",
      "Cell \u001b[1;32mIn[176], line 2\u001b[0m\n\u001b[0;32m      1\u001b[0m employees \u001b[38;5;241m=\u001b[39m [\u001b[38;5;124m\"\u001b[39m\u001b[38;5;124mEmployee\u001b[39m\u001b[38;5;124m\"\u001b[39m \u001b[38;5;241m+\u001b[39m \u001b[38;5;28mstr\u001b[39m(i) \u001b[38;5;28;01mfor\u001b[39;00m i \u001b[38;5;129;01min\u001b[39;00m \u001b[38;5;28mrange\u001b[39m(\u001b[38;5;241m1\u001b[39m, \u001b[38;5;241m501\u001b[39m)]\n\u001b[1;32m----> 2\u001b[0m \u001b[38;5;28mprint\u001b[39m(employees[\u001b[38;5;241m500\u001b[39m])\n",
      "\u001b[1;31mIndexError\u001b[0m: list index out of range"
     ]
    }
   ],
   "source": [
    "employees = [\"Employee\" + str(i) for i in range(1, 501)]\n",
    "print(employees[500])  ## because we trying to access list elments with out of the index range"
   ]
  },
  {
   "cell_type": "code",
   "execution_count": 177,
   "id": "6dd9b13a",
   "metadata": {},
   "outputs": [
    {
     "name": "stdout",
     "output_type": "stream",
     "text": [
      "Employee1\n"
     ]
    }
   ],
   "source": [
    "employees = [\"Employee\" + str(i) for i in range(1, 501)]\n",
    "print(employees[0])"
   ]
  },
  {
   "cell_type": "code",
   "execution_count": 178,
   "id": "b6236308",
   "metadata": {},
   "outputs": [
    {
     "name": "stdout",
     "output_type": "stream",
     "text": [
      "Employee500\n"
     ]
    }
   ],
   "source": [
    "employees = [\"Employee\" + str(i) for i in range(1, 501)]\n",
    "print(employees[-1])"
   ]
  },
  {
   "cell_type": "markdown",
   "id": "222dfab4",
   "metadata": {},
   "source": [
    "## 32"
   ]
  },
  {
   "cell_type": "code",
   "execution_count": 179,
   "id": "f5a06202",
   "metadata": {},
   "outputs": [],
   "source": [
    "a=1\n",
    "b=2\n",
    "c=4      ## we need result 0\n",
    "d=6"
   ]
  },
  {
   "cell_type": "code",
   "execution_count": 180,
   "id": "b66a296e",
   "metadata": {},
   "outputs": [
    {
     "data": {
      "text/plain": [
       "0"
      ]
     },
     "execution_count": 180,
     "metadata": {},
     "output_type": "execute_result"
    }
   ],
   "source": [
    "(a+b)//c*d"
   ]
  },
  {
   "cell_type": "code",
   "execution_count": 181,
   "id": "ea4a0c10",
   "metadata": {},
   "outputs": [
    {
     "data": {
      "text/plain": [
       "0"
      ]
     },
     "execution_count": 181,
     "metadata": {},
     "output_type": "execute_result"
    }
   ],
   "source": [
    "(b+c)//a%d"
   ]
  },
  {
   "cell_type": "code",
   "execution_count": 182,
   "id": "af1803c6",
   "metadata": {},
   "outputs": [
    {
     "data": {
      "text/plain": [
       "0"
      ]
     },
     "execution_count": 182,
     "metadata": {},
     "output_type": "execute_result"
    }
   ],
   "source": [
    "(a+b)//c%d"
   ]
  },
  {
   "cell_type": "code",
   "execution_count": 183,
   "id": "a131781a",
   "metadata": {},
   "outputs": [
    {
     "data": {
      "text/plain": [
       "-4"
      ]
     },
     "execution_count": 183,
     "metadata": {},
     "output_type": "execute_result"
    }
   ],
   "source": [
    "(a+b)//d-c  ## this is correct"
   ]
  },
  {
   "cell_type": "markdown",
   "id": "fc514002",
   "metadata": {},
   "source": [
    "## 33"
   ]
  },
  {
   "cell_type": "code",
   "execution_count": 186,
   "id": "7945638c",
   "metadata": {},
   "outputs": [
    {
     "name": "stdout",
     "output_type": "stream",
     "text": [
      "is easyeasy\n"
     ]
    }
   ],
   "source": [
    "s='python is easy'\n",
    "s1=s[-7:]  ## give is easy\n",
    "s2=s[-4:]  ## give easy\n",
    "print(s1+s2)"
   ]
  },
  {
   "cell_type": "markdown",
   "id": "5c9e7471",
   "metadata": {},
   "source": [
    "## 34 valid python operator precedence order"
   ]
  },
  {
   "cell_type": "markdown",
   "id": "01036c1c",
   "metadata": {},
   "source": [
    "## (** - Exponentiation\n",
    "## ~ - Bitwise NOT\n",
    "## +x, -x, ~x - Unary plus, Unary minus, Bitwise negation\n",
    "## *, /, //, % - Multiplication, Division, Floor division, Modulus\n",
    "## +, - - Addition, Subtraction\n",
    "## <<, >> - Bitwise shift operators\n",
    "## & - Bitwise AND\n",
    "## ^ - Bitwise XOR\n",
    "## | - Bitwise OR\n",
    "## <, <=, >, >=, ==, != - Comparison operators\n",
    "## not - Logical NOT\n",
    "## and - Logical AND\n",
    "## or - Logical OR\n",
    "## if...else - Conditional expression (ternary operator)\n",
    "## lambda - Lambda expression)"
   ]
  },
  {
   "cell_type": "markdown",
   "id": "c6d506ed",
   "metadata": {},
   "source": [
    "## 35 b=(-a)**2"
   ]
  },
  {
   "cell_type": "markdown",
   "id": "758fb600",
   "metadata": {},
   "source": [
    "## 36"
   ]
  },
  {
   "cell_type": "code",
   "execution_count": 188,
   "id": "eb732db4",
   "metadata": {},
   "outputs": [
    {
     "name": "stdout",
     "output_type": "stream",
     "text": [
      "7\n"
     ]
    }
   ],
   "source": [
    "result=8//6%5+2**3-2\n",
    "print(result)"
   ]
  },
  {
   "cell_type": "markdown",
   "id": "690fa8f6",
   "metadata": {},
   "source": [
    "## 37"
   ]
  },
  {
   "cell_type": "code",
   "execution_count": 189,
   "id": "a4481bc8",
   "metadata": {},
   "outputs": [
    {
     "name": "stdout",
     "output_type": "stream",
     "text": [
      "11\n"
     ]
    }
   ],
   "source": [
    "a=3\n",
    "b=5\n",
    "a+=2**3\n",
    "a-=b//2//3\n",
    "print(a)"
   ]
  },
  {
   "cell_type": "markdown",
   "id": "9f405e6b",
   "metadata": {},
   "source": [
    "## 38 which expressin give true"
   ]
  },
  {
   "cell_type": "code",
   "execution_count": 191,
   "id": "f0e64ae4",
   "metadata": {},
   "outputs": [],
   "source": [
    "a=bool([])\n",
    "b=bool({})\n",
    "c=bool(())\n",
    "d=bool(range(0))\n",
    "e=bool(set())"
   ]
  },
  {
   "cell_type": "code",
   "execution_count": 192,
   "id": "e41c7beb",
   "metadata": {},
   "outputs": [
    {
     "data": {
      "text/plain": [
       "False"
      ]
     },
     "execution_count": 192,
     "metadata": {},
     "output_type": "execute_result"
    }
   ],
   "source": [
    "a"
   ]
  },
  {
   "cell_type": "code",
   "execution_count": 193,
   "id": "dd633f98",
   "metadata": {},
   "outputs": [
    {
     "data": {
      "text/plain": [
       "False"
      ]
     },
     "execution_count": 193,
     "metadata": {},
     "output_type": "execute_result"
    }
   ],
   "source": [
    "b"
   ]
  },
  {
   "cell_type": "code",
   "execution_count": 194,
   "id": "4d7b5586",
   "metadata": {},
   "outputs": [
    {
     "data": {
      "text/plain": [
       "False"
      ]
     },
     "execution_count": 194,
     "metadata": {},
     "output_type": "execute_result"
    }
   ],
   "source": [
    "c"
   ]
  },
  {
   "cell_type": "code",
   "execution_count": 195,
   "id": "797ac7d1",
   "metadata": {},
   "outputs": [
    {
     "data": {
      "text/plain": [
       "False"
      ]
     },
     "execution_count": 195,
     "metadata": {},
     "output_type": "execute_result"
    }
   ],
   "source": [
    "d"
   ]
  },
  {
   "cell_type": "code",
   "execution_count": 196,
   "id": "cbe22c06",
   "metadata": {},
   "outputs": [
    {
     "data": {
      "text/plain": [
       "False"
      ]
     },
     "execution_count": 196,
     "metadata": {},
     "output_type": "execute_result"
    }
   ],
   "source": [
    "e"
   ]
  },
  {
   "cell_type": "markdown",
   "id": "ff9d4c16",
   "metadata": {},
   "source": [
    "## 39 in which case 10 will be printed consol"
   ]
  },
  {
   "cell_type": "code",
   "execution_count": 197,
   "id": "dc36aa45",
   "metadata": {},
   "outputs": [],
   "source": [
    "numbers=[10,20,30,40]\n",
    "x=0"
   ]
  },
  {
   "cell_type": "code",
   "execution_count": 200,
   "id": "cc2c3858",
   "metadata": {},
   "outputs": [
    {
     "name": "stdout",
     "output_type": "stream",
     "text": [
      "10\n",
      "20\n",
      "20\n"
     ]
    }
   ],
   "source": [
    "for i in(30,40,50):\n",
    "    if i in numbers:\n",
    "        x=x+10\n",
    "    print(x)"
   ]
  },
  {
   "cell_type": "code",
   "execution_count": 201,
   "id": "060fbf9d",
   "metadata": {},
   "outputs": [
    {
     "name": "stdout",
     "output_type": "stream",
     "text": [
      "20\n",
      "20\n",
      "25\n"
     ]
    }
   ],
   "source": [
    "for i in(30,40,50):\n",
    "    if i not in numbers:\n",
    "        x=x+5\n",
    "    print(x)"
   ]
  },
  {
   "cell_type": "code",
   "execution_count": 202,
   "id": "594be559",
   "metadata": {},
   "outputs": [
    {
     "name": "stdout",
     "output_type": "stream",
     "text": [
      "30\n",
      "35\n",
      "35\n"
     ]
    }
   ],
   "source": [
    "for i in(30,40,50):\n",
    "    if i in numbers:\n",
    "        x=x+5\n",
    "    print(x)"
   ]
  },
  {
   "cell_type": "code",
   "execution_count": 203,
   "id": "a6834482",
   "metadata": {},
   "outputs": [
    {
     "name": "stdout",
     "output_type": "stream",
     "text": [
      "35\n",
      "35\n",
      "45\n"
     ]
    }
   ],
   "source": [
    "for i in(30,40,50):\n",
    "    if i not in numbers:\n",
    "        x=x+10\n",
    "    print(x)"
   ]
  },
  {
   "cell_type": "markdown",
   "id": "107fee0f",
   "metadata": {},
   "source": [
    "## 40"
   ]
  },
  {
   "cell_type": "code",
   "execution_count": 205,
   "id": "49c23628",
   "metadata": {},
   "outputs": [
    {
     "name": "stdout",
     "output_type": "stream",
     "text": [
      "False\n",
      "True\n",
      "True\n",
      "True\n"
     ]
    }
   ],
   "source": [
    "n1=[10,20,30,40,50]\n",
    "n2=[10,20,30,40,50]\n",
    "print(n1 is n2)\n",
    "print(n1==n2)\n",
    "n1=n2\n",
    "print(n1 is n2)\n",
    "print(n1==n2)"
   ]
  },
  {
   "cell_type": "code",
   "execution_count": null,
   "id": "a9547dc5",
   "metadata": {},
   "outputs": [],
   "source": []
  }
 ],
 "metadata": {
  "kernelspec": {
   "display_name": "Python 3 (ipykernel)",
   "language": "python",
   "name": "python3"
  },
  "language_info": {
   "codemirror_mode": {
    "name": "ipython",
    "version": 3
   },
   "file_extension": ".py",
   "mimetype": "text/x-python",
   "name": "python",
   "nbconvert_exporter": "python",
   "pygments_lexer": "ipython3",
   "version": "3.11.5"
  }
 },
 "nbformat": 4,
 "nbformat_minor": 5
}
